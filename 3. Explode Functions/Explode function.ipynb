{
 "cells": [
  {
   "cell_type": "markdown",
   "metadata": {
    "application/vnd.databricks.v1+cell": {
     "cellMetadata": {},
     "inputWidgets": {},
     "nuid": "5c5f2c28-57f0-499b-9db8-bd8ff9d4eb2f",
     "showTitle": false,
     "title": ""
    }
   },
   "source": [
    "## *EXPLODE FUNCTION*"
   ]
  },
  {
   "cell_type": "code",
   "execution_count": 0,
   "metadata": {
    "application/vnd.databricks.v1+cell": {
     "cellMetadata": {
      "byteLimit": 2048000,
      "rowLimit": 10000
     },
     "inputWidgets": {},
     "nuid": "9d278ee8-492b-4f2d-bc42-7e734803e46b",
     "showTitle": false,
     "title": ""
    }
   },
   "outputs": [],
   "source": [
    "# Crating array dataframe\n",
    "df_array = [\n",
    "    (\"Parker\", [\"Tv\", \"Refrigerator\", \"Oven\", \"AC\"]),\n",
    "    (\"Marcus\", None),\n",
    "    (\"Daniel\", [\"AC\", \"Tv\", \"Mixer\", None]),\n",
    "    (\"James\", [\"Refrigerator\", None]),\n",
    "    (\"Antony\", [\"AC\", \"Mixer\", \"Washing Machine\", \"Tv\"]),\n",
    "]\n",
    "\n",
    "schema = [\"Name\", \"Appliances\"]"
   ]
  },
  {
   "cell_type": "code",
   "execution_count": 0,
   "metadata": {
    "application/vnd.databricks.v1+cell": {
     "cellMetadata": {
      "byteLimit": 2048000,
      "rowLimit": 10000
     },
     "inputWidgets": {},
     "nuid": "9182fdd8-44bf-4d0c-8b47-5210bacfd8f5",
     "showTitle": false,
     "title": ""
    }
   },
   "outputs": [],
   "source": [
    "# Crating map dataframe\n",
    "df_map_values = [ \n",
    "    (\"Sterling\", {\"TV\": \"Sony\", \"Refrigerator\": \"LG\", \"Mixer\": \"Butterfly\"}),\n",
    "    (\"Andreas\", {\"AC\": \"Bluestar\", \"TV\": \"\"}),\n",
    "    (\"Ramos\", {\"Refrigerator\": \"LG\", \"AC\": \"Voltas\"}),\n",
    "    (\"Brad\", {\"Mixer\": \"Preethi\", \"Grinder\": \"Butterfly\", \"TV\": \"Samsung\"}),\n",
    "    (\"Shelby\", None),\n",
    "]\n",
    "\n",
    "Schema = [\"Name\", \"Appliances\"]"
   ]
  },
  {
   "cell_type": "code",
   "execution_count": 0,
   "metadata": {
    "application/vnd.databricks.v1+cell": {
     "cellMetadata": {
      "byteLimit": 2048000,
      "rowLimit": 10000
     },
     "inputWidgets": {},
     "nuid": "0a2c223f-ee5a-4949-9b8e-f13f60920d00",
     "showTitle": false,
     "title": ""
    }
   },
   "outputs": [],
   "source": [
    "df_arr = spark.createDataFrame(df_array, schema)\n",
    "df_map = spark.createDataFrame(df_map_values, Schema)"
   ]
  },
  {
   "cell_type": "code",
   "execution_count": 0,
   "metadata": {
    "application/vnd.databricks.v1+cell": {
     "cellMetadata": {
      "byteLimit": 2048000,
      "rowLimit": 10000
     },
     "inputWidgets": {},
     "nuid": "58a5b0de-691c-4e8d-8b2f-59635e8f29e7",
     "showTitle": false,
     "title": ""
    }
   },
   "outputs": [
    {
     "output_type": "display_data",
     "data": {
      "text/html": [
       "<style scoped>\n",
       "  .table-result-container {\n",
       "    max-height: 300px;\n",
       "    overflow: auto;\n",
       "  }\n",
       "  table, th, td {\n",
       "    border: 1px solid black;\n",
       "    border-collapse: collapse;\n",
       "  }\n",
       "  th, td {\n",
       "    padding: 5px;\n",
       "  }\n",
       "  th {\n",
       "    text-align: left;\n",
       "  }\n",
       "</style><div class='table-result-container'><table class='table-result'><thead style='background-color: white'><tr><th>Name</th><th>Appliances</th></tr></thead><tbody><tr><td>Parker</td><td>List(Tv, Refrigerator, Oven, AC)</td></tr><tr><td>Marcus</td><td>null</td></tr><tr><td>Daniel</td><td>List(AC, Tv, Mixer, null)</td></tr><tr><td>James</td><td>List(Refrigerator, null)</td></tr><tr><td>Antony</td><td>List(AC, Mixer, Washing Machine, Tv)</td></tr></tbody></table></div>"
      ]
     },
     "metadata": {
      "application/vnd.databricks.v1+output": {
       "addedWidgets": {},
       "aggData": [],
       "aggError": "",
       "aggOverflow": false,
       "aggSchema": [],
       "aggSeriesLimitReached": false,
       "aggType": "",
       "arguments": {},
       "columnCustomDisplayInfos": {},
       "data": [
        [
         "Parker",
         [
          "Tv",
          "Refrigerator",
          "Oven",
          "AC"
         ]
        ],
        [
         "Marcus",
         null
        ],
        [
         "Daniel",
         [
          "AC",
          "Tv",
          "Mixer",
          null
         ]
        ],
        [
         "James",
         [
          "Refrigerator",
          null
         ]
        ],
        [
         "Antony",
         [
          "AC",
          "Mixer",
          "Washing Machine",
          "Tv"
         ]
        ]
       ],
       "datasetInfos": [],
       "dbfsResultPath": null,
       "isJsonSchema": true,
       "metadata": {},
       "overflow": false,
       "plotOptions": {
        "customPlotOptions": {},
        "displayType": "table",
        "pivotAggregation": null,
        "pivotColumns": null,
        "xColumns": null,
        "yColumns": null
       },
       "removedWidgets": [],
       "schema": [
        {
         "metadata": "{}",
         "name": "Name",
         "type": "\"string\""
        },
        {
         "metadata": "{}",
         "name": "Appliances",
         "type": "{\"type\":\"array\",\"elementType\":\"string\",\"containsNull\":true}"
        }
       ],
       "type": "table"
      }
     },
     "output_type": "display_data"
    },
    {
     "output_type": "display_data",
     "data": {
      "text/html": [
       "<style scoped>\n",
       "  .table-result-container {\n",
       "    max-height: 300px;\n",
       "    overflow: auto;\n",
       "  }\n",
       "  table, th, td {\n",
       "    border: 1px solid black;\n",
       "    border-collapse: collapse;\n",
       "  }\n",
       "  th, td {\n",
       "    padding: 5px;\n",
       "  }\n",
       "  th {\n",
       "    text-align: left;\n",
       "  }\n",
       "</style><div class='table-result-container'><table class='table-result'><thead style='background-color: white'><tr><th>Name</th><th>Appliances</th></tr></thead><tbody><tr><td>Sterling</td><td>Map(Refrigerator -> LG, TV -> Sony, Mixer -> Butterfly)</td></tr><tr><td>Andreas</td><td>Map(TV -> , AC -> Bluestar)</td></tr><tr><td>Ramos</td><td>Map(Refrigerator -> LG, AC -> Voltas)</td></tr><tr><td>Brad</td><td>Map(TV -> Samsung, Mixer -> Preethi, Grinder -> Butterfly)</td></tr><tr><td>Shelby</td><td>null</td></tr></tbody></table></div>"
      ]
     },
     "metadata": {
      "application/vnd.databricks.v1+output": {
       "addedWidgets": {},
       "aggData": [],
       "aggError": "",
       "aggOverflow": false,
       "aggSchema": [],
       "aggSeriesLimitReached": false,
       "aggType": "",
       "arguments": {},
       "columnCustomDisplayInfos": {},
       "data": [
        [
         "Sterling",
         {
          "Mixer": "Butterfly",
          "Refrigerator": "LG",
          "TV": "Sony"
         }
        ],
        [
         "Andreas",
         {
          "AC": "Bluestar",
          "TV": ""
         }
        ],
        [
         "Ramos",
         {
          "AC": "Voltas",
          "Refrigerator": "LG"
         }
        ],
        [
         "Brad",
         {
          "Grinder": "Butterfly",
          "Mixer": "Preethi",
          "TV": "Samsung"
         }
        ],
        [
         "Shelby",
         null
        ]
       ],
       "datasetInfos": [],
       "dbfsResultPath": null,
       "isJsonSchema": true,
       "metadata": {},
       "overflow": false,
       "plotOptions": {
        "customPlotOptions": {},
        "displayType": "table",
        "pivotAggregation": null,
        "pivotColumns": null,
        "xColumns": null,
        "yColumns": null
       },
       "removedWidgets": [],
       "schema": [
        {
         "metadata": "{}",
         "name": "Name",
         "type": "\"string\""
        },
        {
         "metadata": "{}",
         "name": "Appliances",
         "type": "{\"type\":\"map\",\"keyType\":\"string\",\"valueType\":\"string\",\"valueContainsNull\":true}"
        }
       ],
       "type": "table"
      }
     },
     "output_type": "display_data"
    }
   ],
   "source": [
    "df_arr.display()\n",
    "df_map.display()"
   ]
  },
  {
   "cell_type": "code",
   "execution_count": 0,
   "metadata": {
    "application/vnd.databricks.v1+cell": {
     "cellMetadata": {
      "byteLimit": 2048000,
      "rowLimit": 10000
     },
     "inputWidgets": {},
     "nuid": "dc970fe5-c59b-44e4-b52d-34c07a3a10d8",
     "showTitle": false,
     "title": ""
    }
   },
   "outputs": [
    {
     "output_type": "stream",
     "name": "stdout",
     "output_type": "stream",
     "text": [
      "root\n |-- Name: string (nullable = true)\n |-- Appliances: array (nullable = true)\n |    |-- element: string (containsNull = true)\n\nroot\n |-- Name: string (nullable = true)\n |-- Appliances: map (nullable = true)\n |    |-- key: string\n |    |-- value: string (valueContainsNull = true)\n\n"
     ]
    }
   ],
   "source": [
    "df_arr.printSchema()\n",
    "df_map.printSchema()"
   ]
  },
  {
   "cell_type": "markdown",
   "metadata": {
    "application/vnd.databricks.v1+cell": {
     "cellMetadata": {},
     "inputWidgets": {},
     "nuid": "1ab3903e-8686-47f8-a020-cdc70bd9c6cf",
     "showTitle": false,
     "title": ""
    }
   },
   "source": [
    "### *explode()*\n",
    "PySpark function explode(Column) is used to explode or create array or map columns to rows. When an array is passed to this function, it creates a new default column\n",
    "\"col1\" and it contains all array elements. When a map is passed, it creates two new columns one for key and one for value and each element in map split into the rows."
   ]
  },
  {
   "cell_type": "code",
   "execution_count": 0,
   "metadata": {
    "application/vnd.databricks.v1+cell": {
     "cellMetadata": {
      "byteLimit": 2048000,
      "rowLimit": 10000
     },
     "inputWidgets": {},
     "nuid": "7af4c517-09fd-4b2b-8ac6-eff7424a8417",
     "showTitle": false,
     "title": ""
    }
   },
   "outputs": [],
   "source": [
    "from pyspark.sql.functions import explode, explode_outer, posexplode, posexplode_outer"
   ]
  },
  {
   "cell_type": "code",
   "execution_count": 0,
   "metadata": {
    "application/vnd.databricks.v1+cell": {
     "cellMetadata": {
      "byteLimit": 2048000,
      "rowLimit": 10000
     },
     "inputWidgets": {},
     "nuid": "8953bfa3-92a5-4988-ad26-3d7e5cef9b40",
     "showTitle": false,
     "title": ""
    }
   },
   "outputs": [
    {
     "output_type": "display_data",
     "data": {
      "text/html": [
       "<style scoped>\n",
       "  .table-result-container {\n",
       "    max-height: 300px;\n",
       "    overflow: auto;\n",
       "  }\n",
       "  table, th, td {\n",
       "    border: 1px solid black;\n",
       "    border-collapse: collapse;\n",
       "  }\n",
       "  th, td {\n",
       "    padding: 5px;\n",
       "  }\n",
       "  th {\n",
       "    text-align: left;\n",
       "  }\n",
       "</style><div class='table-result-container'><table class='table-result'><thead style='background-color: white'><tr><th>Name</th><th>List</th></tr></thead><tbody><tr><td>Parker</td><td>Tv</td></tr><tr><td>Parker</td><td>Refrigerator</td></tr><tr><td>Parker</td><td>Oven</td></tr><tr><td>Parker</td><td>AC</td></tr><tr><td>Daniel</td><td>AC</td></tr><tr><td>Daniel</td><td>Tv</td></tr><tr><td>Daniel</td><td>Mixer</td></tr><tr><td>Daniel</td><td>null</td></tr><tr><td>James</td><td>Refrigerator</td></tr><tr><td>James</td><td>null</td></tr><tr><td>Antony</td><td>AC</td></tr><tr><td>Antony</td><td>Mixer</td></tr><tr><td>Antony</td><td>Washing Machine</td></tr><tr><td>Antony</td><td>Tv</td></tr></tbody></table></div>"
      ]
     },
     "metadata": {
      "application/vnd.databricks.v1+output": {
       "addedWidgets": {},
       "aggData": [],
       "aggError": "",
       "aggOverflow": false,
       "aggSchema": [],
       "aggSeriesLimitReached": false,
       "aggType": "",
       "arguments": {},
       "columnCustomDisplayInfos": {},
       "data": [
        [
         "Parker",
         "Tv"
        ],
        [
         "Parker",
         "Refrigerator"
        ],
        [
         "Parker",
         "Oven"
        ],
        [
         "Parker",
         "AC"
        ],
        [
         "Daniel",
         "AC"
        ],
        [
         "Daniel",
         "Tv"
        ],
        [
         "Daniel",
         "Mixer"
        ],
        [
         "Daniel",
         null
        ],
        [
         "James",
         "Refrigerator"
        ],
        [
         "James",
         null
        ],
        [
         "Antony",
         "AC"
        ],
        [
         "Antony",
         "Mixer"
        ],
        [
         "Antony",
         "Washing Machine"
        ],
        [
         "Antony",
         "Tv"
        ]
       ],
       "datasetInfos": [],
       "dbfsResultPath": null,
       "isJsonSchema": true,
       "metadata": {},
       "overflow": false,
       "plotOptions": {
        "customPlotOptions": {},
        "displayType": "table",
        "pivotAggregation": null,
        "pivotColumns": null,
        "xColumns": null,
        "yColumns": null
       },
       "removedWidgets": [],
       "schema": [
        {
         "metadata": "{}",
         "name": "Name",
         "type": "\"string\""
        },
        {
         "metadata": "{}",
         "name": "List",
         "type": "\"string\""
        }
       ],
       "type": "table"
      }
     },
     "output_type": "display_data"
    },
    {
     "output_type": "display_data",
     "data": {
      "text/html": [
       "<style scoped>\n",
       "  .table-result-container {\n",
       "    max-height: 300px;\n",
       "    overflow: auto;\n",
       "  }\n",
       "  table, th, td {\n",
       "    border: 1px solid black;\n",
       "    border-collapse: collapse;\n",
       "  }\n",
       "  th, td {\n",
       "    padding: 5px;\n",
       "  }\n",
       "  th {\n",
       "    text-align: left;\n",
       "  }\n",
       "</style><div class='table-result-container'><table class='table-result'><thead style='background-color: white'><tr><th>name</th><th>key</th><th>value</th></tr></thead><tbody><tr><td>Sterling</td><td>Refrigerator</td><td>LG</td></tr><tr><td>Sterling</td><td>TV</td><td>Sony</td></tr><tr><td>Sterling</td><td>Mixer</td><td>Butterfly</td></tr><tr><td>Andreas</td><td>TV</td><td></td></tr><tr><td>Andreas</td><td>AC</td><td>Bluestar</td></tr><tr><td>Ramos</td><td>Refrigerator</td><td>LG</td></tr><tr><td>Ramos</td><td>AC</td><td>Voltas</td></tr><tr><td>Brad</td><td>TV</td><td>Samsung</td></tr><tr><td>Brad</td><td>Mixer</td><td>Preethi</td></tr><tr><td>Brad</td><td>Grinder</td><td>Butterfly</td></tr></tbody></table></div>"
      ]
     },
     "metadata": {
      "application/vnd.databricks.v1+output": {
       "addedWidgets": {},
       "aggData": [],
       "aggError": "",
       "aggOverflow": false,
       "aggSchema": [],
       "aggSeriesLimitReached": false,
       "aggType": "",
       "arguments": {},
       "columnCustomDisplayInfos": {},
       "data": [
        [
         "Sterling",
         "Refrigerator",
         "LG"
        ],
        [
         "Sterling",
         "TV",
         "Sony"
        ],
        [
         "Sterling",
         "Mixer",
         "Butterfly"
        ],
        [
         "Andreas",
         "TV",
         ""
        ],
        [
         "Andreas",
         "AC",
         "Bluestar"
        ],
        [
         "Ramos",
         "Refrigerator",
         "LG"
        ],
        [
         "Ramos",
         "AC",
         "Voltas"
        ],
        [
         "Brad",
         "TV",
         "Samsung"
        ],
        [
         "Brad",
         "Mixer",
         "Preethi"
        ],
        [
         "Brad",
         "Grinder",
         "Butterfly"
        ]
       ],
       "datasetInfos": [],
       "dbfsResultPath": null,
       "isJsonSchema": true,
       "metadata": {},
       "overflow": false,
       "plotOptions": {
        "customPlotOptions": {},
        "displayType": "table",
        "pivotAggregation": null,
        "pivotColumns": null,
        "xColumns": null,
        "yColumns": null
       },
       "removedWidgets": [],
       "schema": [
        {
         "metadata": "{}",
         "name": "name",
         "type": "\"string\""
        },
        {
         "metadata": "{}",
         "name": "key",
         "type": "\"string\""
        },
        {
         "metadata": "{}",
         "name": "value",
         "type": "\"string\""
        }
       ],
       "type": "table"
      }
     },
     "output_type": "display_data"
    }
   ],
   "source": [
    "df_arr.select(\"Name\",explode(\"Appliances\").alias(\"List\")).display()\n",
    "df_map.select(\"name\",explode(\"appliances\")).display()"
   ]
  },
  {
   "cell_type": "markdown",
   "metadata": {
    "application/vnd.databricks.v1+cell": {
     "cellMetadata": {},
     "inputWidgets": {},
     "nuid": "2d57cff2-bb50-4af1-af20-c2e392c048fd",
     "showTitle": false,
     "title": ""
    }
   },
   "source": [
    "### *explode_outer()*\n",
    "PySpark SQL explode_outer(e: Column) function is used to create a row for each element in the array or map column. Unlike explode, if the array or map is null or empty, explode_outer returns null.\n"
   ]
  },
  {
   "cell_type": "code",
   "execution_count": 0,
   "metadata": {
    "application/vnd.databricks.v1+cell": {
     "cellMetadata": {
      "byteLimit": 2048000,
      "rowLimit": 10000
     },
     "inputWidgets": {},
     "nuid": "f95baa25-d593-44c4-8294-1d8197cd3aa2",
     "showTitle": false,
     "title": ""
    }
   },
   "outputs": [
    {
     "output_type": "display_data",
     "data": {
      "text/html": [
       "<style scoped>\n",
       "  .table-result-container {\n",
       "    max-height: 300px;\n",
       "    overflow: auto;\n",
       "  }\n",
       "  table, th, td {\n",
       "    border: 1px solid black;\n",
       "    border-collapse: collapse;\n",
       "  }\n",
       "  th, td {\n",
       "    padding: 5px;\n",
       "  }\n",
       "  th {\n",
       "    text-align: left;\n",
       "  }\n",
       "</style><div class='table-result-container'><table class='table-result'><thead style='background-color: white'><tr><th>Name</th><th>col</th></tr></thead><tbody><tr><td>Parker</td><td>Tv</td></tr><tr><td>Parker</td><td>Refrigerator</td></tr><tr><td>Parker</td><td>Oven</td></tr><tr><td>Parker</td><td>AC</td></tr><tr><td>Marcus</td><td>null</td></tr><tr><td>Daniel</td><td>AC</td></tr><tr><td>Daniel</td><td>Tv</td></tr><tr><td>Daniel</td><td>Mixer</td></tr><tr><td>Daniel</td><td>null</td></tr><tr><td>James</td><td>Refrigerator</td></tr><tr><td>James</td><td>null</td></tr><tr><td>Antony</td><td>AC</td></tr><tr><td>Antony</td><td>Mixer</td></tr><tr><td>Antony</td><td>Washing Machine</td></tr><tr><td>Antony</td><td>Tv</td></tr></tbody></table></div>"
      ]
     },
     "metadata": {
      "application/vnd.databricks.v1+output": {
       "addedWidgets": {},
       "aggData": [],
       "aggError": "",
       "aggOverflow": false,
       "aggSchema": [],
       "aggSeriesLimitReached": false,
       "aggType": "",
       "arguments": {},
       "columnCustomDisplayInfos": {},
       "data": [
        [
         "Parker",
         "Tv"
        ],
        [
         "Parker",
         "Refrigerator"
        ],
        [
         "Parker",
         "Oven"
        ],
        [
         "Parker",
         "AC"
        ],
        [
         "Marcus",
         null
        ],
        [
         "Daniel",
         "AC"
        ],
        [
         "Daniel",
         "Tv"
        ],
        [
         "Daniel",
         "Mixer"
        ],
        [
         "Daniel",
         null
        ],
        [
         "James",
         "Refrigerator"
        ],
        [
         "James",
         null
        ],
        [
         "Antony",
         "AC"
        ],
        [
         "Antony",
         "Mixer"
        ],
        [
         "Antony",
         "Washing Machine"
        ],
        [
         "Antony",
         "Tv"
        ]
       ],
       "datasetInfos": [],
       "dbfsResultPath": null,
       "isJsonSchema": true,
       "metadata": {},
       "overflow": false,
       "plotOptions": {
        "customPlotOptions": {},
        "displayType": "table",
        "pivotAggregation": null,
        "pivotColumns": null,
        "xColumns": null,
        "yColumns": null
       },
       "removedWidgets": [],
       "schema": [
        {
         "metadata": "{}",
         "name": "Name",
         "type": "\"string\""
        },
        {
         "metadata": "{}",
         "name": "col",
         "type": "\"string\""
        }
       ],
       "type": "table"
      }
     },
     "output_type": "display_data"
    },
    {
     "output_type": "display_data",
     "data": {
      "text/html": [
       "<style scoped>\n",
       "  .table-result-container {\n",
       "    max-height: 300px;\n",
       "    overflow: auto;\n",
       "  }\n",
       "  table, th, td {\n",
       "    border: 1px solid black;\n",
       "    border-collapse: collapse;\n",
       "  }\n",
       "  th, td {\n",
       "    padding: 5px;\n",
       "  }\n",
       "  th {\n",
       "    text-align: left;\n",
       "  }\n",
       "</style><div class='table-result-container'><table class='table-result'><thead style='background-color: white'><tr><th>name</th><th>key</th><th>value</th></tr></thead><tbody><tr><td>Sterling</td><td>Refrigerator</td><td>LG</td></tr><tr><td>Sterling</td><td>TV</td><td>Sony</td></tr><tr><td>Sterling</td><td>Mixer</td><td>Butterfly</td></tr><tr><td>Andreas</td><td>TV</td><td></td></tr><tr><td>Andreas</td><td>AC</td><td>Bluestar</td></tr><tr><td>Ramos</td><td>Refrigerator</td><td>LG</td></tr><tr><td>Ramos</td><td>AC</td><td>Voltas</td></tr><tr><td>Brad</td><td>TV</td><td>Samsung</td></tr><tr><td>Brad</td><td>Mixer</td><td>Preethi</td></tr><tr><td>Brad</td><td>Grinder</td><td>Butterfly</td></tr><tr><td>Shelby</td><td>null</td><td>null</td></tr></tbody></table></div>"
      ]
     },
     "metadata": {
      "application/vnd.databricks.v1+output": {
       "addedWidgets": {},
       "aggData": [],
       "aggError": "",
       "aggOverflow": false,
       "aggSchema": [],
       "aggSeriesLimitReached": false,
       "aggType": "",
       "arguments": {},
       "columnCustomDisplayInfos": {},
       "data": [
        [
         "Sterling",
         "Refrigerator",
         "LG"
        ],
        [
         "Sterling",
         "TV",
         "Sony"
        ],
        [
         "Sterling",
         "Mixer",
         "Butterfly"
        ],
        [
         "Andreas",
         "TV",
         ""
        ],
        [
         "Andreas",
         "AC",
         "Bluestar"
        ],
        [
         "Ramos",
         "Refrigerator",
         "LG"
        ],
        [
         "Ramos",
         "AC",
         "Voltas"
        ],
        [
         "Brad",
         "TV",
         "Samsung"
        ],
        [
         "Brad",
         "Mixer",
         "Preethi"
        ],
        [
         "Brad",
         "Grinder",
         "Butterfly"
        ],
        [
         "Shelby",
         null,
         null
        ]
       ],
       "datasetInfos": [],
       "dbfsResultPath": null,
       "isJsonSchema": true,
       "metadata": {},
       "overflow": false,
       "plotOptions": {
        "customPlotOptions": {},
        "displayType": "table",
        "pivotAggregation": null,
        "pivotColumns": null,
        "xColumns": null,
        "yColumns": null
       },
       "removedWidgets": [],
       "schema": [
        {
         "metadata": "{}",
         "name": "name",
         "type": "\"string\""
        },
        {
         "metadata": "{}",
         "name": "key",
         "type": "\"string\""
        },
        {
         "metadata": "{}",
         "name": "value",
         "type": "\"string\""
        }
       ],
       "type": "table"
      }
     },
     "output_type": "display_data"
    }
   ],
   "source": [
    "df_arr.select(\"Name\",explode_outer(\"Appliances\")).display()\n",
    "df_map.select(\"name\",explode_outer(\"appliances\")).display()"
   ]
  },
  {
   "cell_type": "markdown",
   "metadata": {
    "application/vnd.databricks.v1+cell": {
     "cellMetadata": {},
     "inputWidgets": {},
     "nuid": "20cd6159-8339-45db-b7b8-55b6818f9eb8",
     "showTitle": false,
     "title": ""
    }
   },
   "source": [
    "### *posexplode()*\n",
    "posexplode(e: Column) creates a row for each element in the array and creates two columns \"pos\" to hold the position of the array element and the \"col\" to hold the actual\n",
    "array value. And when the input column is a map, posexplode function creates 3 columns “pos” to hold the position of the map element, \"key\" and \"value\" columns.This will \n",
    "ignore elements that have null or empty. "
   ]
  },
  {
   "cell_type": "code",
   "execution_count": 0,
   "metadata": {
    "application/vnd.databricks.v1+cell": {
     "cellMetadata": {
      "byteLimit": 2048000,
      "rowLimit": 10000
     },
     "inputWidgets": {},
     "nuid": "0d50f063-4d6b-4af2-8400-d81997a1b53c",
     "showTitle": false,
     "title": ""
    }
   },
   "outputs": [
    {
     "output_type": "display_data",
     "data": {
      "text/html": [
       "<style scoped>\n",
       "  .table-result-container {\n",
       "    max-height: 300px;\n",
       "    overflow: auto;\n",
       "  }\n",
       "  table, th, td {\n",
       "    border: 1px solid black;\n",
       "    border-collapse: collapse;\n",
       "  }\n",
       "  th, td {\n",
       "    padding: 5px;\n",
       "  }\n",
       "  th {\n",
       "    text-align: left;\n",
       "  }\n",
       "</style><div class='table-result-container'><table class='table-result'><thead style='background-color: white'><tr><th>Name</th><th>pos</th><th>col</th></tr></thead><tbody><tr><td>Parker</td><td>0</td><td>Tv</td></tr><tr><td>Parker</td><td>1</td><td>Refrigerator</td></tr><tr><td>Parker</td><td>2</td><td>Oven</td></tr><tr><td>Parker</td><td>3</td><td>AC</td></tr><tr><td>Daniel</td><td>0</td><td>AC</td></tr><tr><td>Daniel</td><td>1</td><td>Tv</td></tr><tr><td>Daniel</td><td>2</td><td>Mixer</td></tr><tr><td>Daniel</td><td>3</td><td>null</td></tr><tr><td>James</td><td>0</td><td>Refrigerator</td></tr><tr><td>James</td><td>1</td><td>null</td></tr><tr><td>Antony</td><td>0</td><td>AC</td></tr><tr><td>Antony</td><td>1</td><td>Mixer</td></tr><tr><td>Antony</td><td>2</td><td>Washing Machine</td></tr><tr><td>Antony</td><td>3</td><td>Tv</td></tr></tbody></table></div>"
      ]
     },
     "metadata": {
      "application/vnd.databricks.v1+output": {
       "addedWidgets": {},
       "aggData": [],
       "aggError": "",
       "aggOverflow": false,
       "aggSchema": [],
       "aggSeriesLimitReached": false,
       "aggType": "",
       "arguments": {},
       "columnCustomDisplayInfos": {},
       "data": [
        [
         "Parker",
         0,
         "Tv"
        ],
        [
         "Parker",
         1,
         "Refrigerator"
        ],
        [
         "Parker",
         2,
         "Oven"
        ],
        [
         "Parker",
         3,
         "AC"
        ],
        [
         "Daniel",
         0,
         "AC"
        ],
        [
         "Daniel",
         1,
         "Tv"
        ],
        [
         "Daniel",
         2,
         "Mixer"
        ],
        [
         "Daniel",
         3,
         null
        ],
        [
         "James",
         0,
         "Refrigerator"
        ],
        [
         "James",
         1,
         null
        ],
        [
         "Antony",
         0,
         "AC"
        ],
        [
         "Antony",
         1,
         "Mixer"
        ],
        [
         "Antony",
         2,
         "Washing Machine"
        ],
        [
         "Antony",
         3,
         "Tv"
        ]
       ],
       "datasetInfos": [],
       "dbfsResultPath": null,
       "isJsonSchema": true,
       "metadata": {},
       "overflow": false,
       "plotOptions": {
        "customPlotOptions": {},
        "displayType": "table",
        "pivotAggregation": null,
        "pivotColumns": null,
        "xColumns": null,
        "yColumns": null
       },
       "removedWidgets": [],
       "schema": [
        {
         "metadata": "{}",
         "name": "Name",
         "type": "\"string\""
        },
        {
         "metadata": "{}",
         "name": "pos",
         "type": "\"integer\""
        },
        {
         "metadata": "{}",
         "name": "col",
         "type": "\"string\""
        }
       ],
       "type": "table"
      }
     },
     "output_type": "display_data"
    },
    {
     "output_type": "display_data",
     "data": {
      "text/html": [
       "<style scoped>\n",
       "  .table-result-container {\n",
       "    max-height: 300px;\n",
       "    overflow: auto;\n",
       "  }\n",
       "  table, th, td {\n",
       "    border: 1px solid black;\n",
       "    border-collapse: collapse;\n",
       "  }\n",
       "  th, td {\n",
       "    padding: 5px;\n",
       "  }\n",
       "  th {\n",
       "    text-align: left;\n",
       "  }\n",
       "</style><div class='table-result-container'><table class='table-result'><thead style='background-color: white'><tr><th>name</th><th>pos</th><th>key</th><th>value</th></tr></thead><tbody><tr><td>Sterling</td><td>0</td><td>Refrigerator</td><td>LG</td></tr><tr><td>Sterling</td><td>1</td><td>TV</td><td>Sony</td></tr><tr><td>Sterling</td><td>2</td><td>Mixer</td><td>Butterfly</td></tr><tr><td>Andreas</td><td>0</td><td>TV</td><td></td></tr><tr><td>Andreas</td><td>1</td><td>AC</td><td>Bluestar</td></tr><tr><td>Ramos</td><td>0</td><td>Refrigerator</td><td>LG</td></tr><tr><td>Ramos</td><td>1</td><td>AC</td><td>Voltas</td></tr><tr><td>Brad</td><td>0</td><td>TV</td><td>Samsung</td></tr><tr><td>Brad</td><td>1</td><td>Mixer</td><td>Preethi</td></tr><tr><td>Brad</td><td>2</td><td>Grinder</td><td>Butterfly</td></tr></tbody></table></div>"
      ]
     },
     "metadata": {
      "application/vnd.databricks.v1+output": {
       "addedWidgets": {},
       "aggData": [],
       "aggError": "",
       "aggOverflow": false,
       "aggSchema": [],
       "aggSeriesLimitReached": false,
       "aggType": "",
       "arguments": {},
       "columnCustomDisplayInfos": {},
       "data": [
        [
         "Sterling",
         0,
         "Refrigerator",
         "LG"
        ],
        [
         "Sterling",
         1,
         "TV",
         "Sony"
        ],
        [
         "Sterling",
         2,
         "Mixer",
         "Butterfly"
        ],
        [
         "Andreas",
         0,
         "TV",
         ""
        ],
        [
         "Andreas",
         1,
         "AC",
         "Bluestar"
        ],
        [
         "Ramos",
         0,
         "Refrigerator",
         "LG"
        ],
        [
         "Ramos",
         1,
         "AC",
         "Voltas"
        ],
        [
         "Brad",
         0,
         "TV",
         "Samsung"
        ],
        [
         "Brad",
         1,
         "Mixer",
         "Preethi"
        ],
        [
         "Brad",
         2,
         "Grinder",
         "Butterfly"
        ]
       ],
       "datasetInfos": [],
       "dbfsResultPath": null,
       "isJsonSchema": true,
       "metadata": {},
       "overflow": false,
       "plotOptions": {
        "customPlotOptions": {},
        "displayType": "table",
        "pivotAggregation": null,
        "pivotColumns": null,
        "xColumns": null,
        "yColumns": null
       },
       "removedWidgets": [],
       "schema": [
        {
         "metadata": "{}",
         "name": "name",
         "type": "\"string\""
        },
        {
         "metadata": "{}",
         "name": "pos",
         "type": "\"integer\""
        },
        {
         "metadata": "{}",
         "name": "key",
         "type": "\"string\""
        },
        {
         "metadata": "{}",
         "name": "value",
         "type": "\"string\""
        }
       ],
       "type": "table"
      }
     },
     "output_type": "display_data"
    }
   ],
   "source": [
    "df_arr.select(\"Name\",posexplode(\"appliances\")).display()\n",
    "df_map.select(\"name\",posexplode(\"appliances\")).display()"
   ]
  },
  {
   "cell_type": "markdown",
   "metadata": {
    "application/vnd.databricks.v1+cell": {
     "cellMetadata": {},
     "inputWidgets": {},
     "nuid": "03104c00-edf0-4cc9-90b3-d8b9b7406644",
     "showTitle": false,
     "title": ""
    }
   },
   "source": [
    "### *posexplode_outer()*\n",
    "Spark posexplode_outer(e: Column) creates a row for each element in the array and creates two columns \"pos\" to hold the position of the array element and the \"col\" to hold   \n",
    "the actual array value. Unlike posexplode, if the array or map is null or empty, posexplode_outer function returns null, null for pos and col columns. Similarly for the map, \n",
    "it returns rows with nulls."
   ]
  },
  {
   "cell_type": "code",
   "execution_count": 0,
   "metadata": {
    "application/vnd.databricks.v1+cell": {
     "cellMetadata": {
      "byteLimit": 2048000,
      "rowLimit": 10000
     },
     "inputWidgets": {},
     "nuid": "4f4362fe-e76f-4893-8424-c45f26a5f20e",
     "showTitle": false,
     "title": ""
    }
   },
   "outputs": [
    {
     "output_type": "display_data",
     "data": {
      "text/html": [
       "<style scoped>\n",
       "  .table-result-container {\n",
       "    max-height: 300px;\n",
       "    overflow: auto;\n",
       "  }\n",
       "  table, th, td {\n",
       "    border: 1px solid black;\n",
       "    border-collapse: collapse;\n",
       "  }\n",
       "  th, td {\n",
       "    padding: 5px;\n",
       "  }\n",
       "  th {\n",
       "    text-align: left;\n",
       "  }\n",
       "</style><div class='table-result-container'><table class='table-result'><thead style='background-color: white'><tr><th>Name</th><th>pos</th><th>col</th></tr></thead><tbody><tr><td>Parker</td><td>0</td><td>Tv</td></tr><tr><td>Parker</td><td>1</td><td>Refrigerator</td></tr><tr><td>Parker</td><td>2</td><td>Oven</td></tr><tr><td>Parker</td><td>3</td><td>AC</td></tr><tr><td>Marcus</td><td>null</td><td>null</td></tr><tr><td>Daniel</td><td>0</td><td>AC</td></tr><tr><td>Daniel</td><td>1</td><td>Tv</td></tr><tr><td>Daniel</td><td>2</td><td>Mixer</td></tr><tr><td>Daniel</td><td>3</td><td>null</td></tr><tr><td>James</td><td>0</td><td>Refrigerator</td></tr><tr><td>James</td><td>1</td><td>null</td></tr><tr><td>Antony</td><td>0</td><td>AC</td></tr><tr><td>Antony</td><td>1</td><td>Mixer</td></tr><tr><td>Antony</td><td>2</td><td>Washing Machine</td></tr><tr><td>Antony</td><td>3</td><td>Tv</td></tr></tbody></table></div>"
      ]
     },
     "metadata": {
      "application/vnd.databricks.v1+output": {
       "addedWidgets": {},
       "aggData": [],
       "aggError": "",
       "aggOverflow": false,
       "aggSchema": [],
       "aggSeriesLimitReached": false,
       "aggType": "",
       "arguments": {},
       "columnCustomDisplayInfos": {},
       "data": [
        [
         "Parker",
         0,
         "Tv"
        ],
        [
         "Parker",
         1,
         "Refrigerator"
        ],
        [
         "Parker",
         2,
         "Oven"
        ],
        [
         "Parker",
         3,
         "AC"
        ],
        [
         "Marcus",
         null,
         null
        ],
        [
         "Daniel",
         0,
         "AC"
        ],
        [
         "Daniel",
         1,
         "Tv"
        ],
        [
         "Daniel",
         2,
         "Mixer"
        ],
        [
         "Daniel",
         3,
         null
        ],
        [
         "James",
         0,
         "Refrigerator"
        ],
        [
         "James",
         1,
         null
        ],
        [
         "Antony",
         0,
         "AC"
        ],
        [
         "Antony",
         1,
         "Mixer"
        ],
        [
         "Antony",
         2,
         "Washing Machine"
        ],
        [
         "Antony",
         3,
         "Tv"
        ]
       ],
       "datasetInfos": [],
       "dbfsResultPath": null,
       "isJsonSchema": true,
       "metadata": {},
       "overflow": false,
       "plotOptions": {
        "customPlotOptions": {},
        "displayType": "table",
        "pivotAggregation": null,
        "pivotColumns": null,
        "xColumns": null,
        "yColumns": null
       },
       "removedWidgets": [],
       "schema": [
        {
         "metadata": "{}",
         "name": "Name",
         "type": "\"string\""
        },
        {
         "metadata": "{}",
         "name": "pos",
         "type": "\"integer\""
        },
        {
         "metadata": "{}",
         "name": "col",
         "type": "\"string\""
        }
       ],
       "type": "table"
      }
     },
     "output_type": "display_data"
    },
    {
     "output_type": "display_data",
     "data": {
      "text/html": [
       "<style scoped>\n",
       "  .table-result-container {\n",
       "    max-height: 300px;\n",
       "    overflow: auto;\n",
       "  }\n",
       "  table, th, td {\n",
       "    border: 1px solid black;\n",
       "    border-collapse: collapse;\n",
       "  }\n",
       "  th, td {\n",
       "    padding: 5px;\n",
       "  }\n",
       "  th {\n",
       "    text-align: left;\n",
       "  }\n",
       "</style><div class='table-result-container'><table class='table-result'><thead style='background-color: white'><tr><th>name</th><th>pos</th><th>key</th><th>value</th></tr></thead><tbody><tr><td>Sterling</td><td>0</td><td>Refrigerator</td><td>LG</td></tr><tr><td>Sterling</td><td>1</td><td>TV</td><td>Sony</td></tr><tr><td>Sterling</td><td>2</td><td>Mixer</td><td>Butterfly</td></tr><tr><td>Andreas</td><td>0</td><td>TV</td><td></td></tr><tr><td>Andreas</td><td>1</td><td>AC</td><td>Bluestar</td></tr><tr><td>Ramos</td><td>0</td><td>Refrigerator</td><td>LG</td></tr><tr><td>Ramos</td><td>1</td><td>AC</td><td>Voltas</td></tr><tr><td>Brad</td><td>0</td><td>TV</td><td>Samsung</td></tr><tr><td>Brad</td><td>1</td><td>Mixer</td><td>Preethi</td></tr><tr><td>Brad</td><td>2</td><td>Grinder</td><td>Butterfly</td></tr><tr><td>Shelby</td><td>null</td><td>null</td><td>null</td></tr></tbody></table></div>"
      ]
     },
     "metadata": {
      "application/vnd.databricks.v1+output": {
       "addedWidgets": {},
       "aggData": [],
       "aggError": "",
       "aggOverflow": false,
       "aggSchema": [],
       "aggSeriesLimitReached": false,
       "aggType": "",
       "arguments": {},
       "columnCustomDisplayInfos": {},
       "data": [
        [
         "Sterling",
         0,
         "Refrigerator",
         "LG"
        ],
        [
         "Sterling",
         1,
         "TV",
         "Sony"
        ],
        [
         "Sterling",
         2,
         "Mixer",
         "Butterfly"
        ],
        [
         "Andreas",
         0,
         "TV",
         ""
        ],
        [
         "Andreas",
         1,
         "AC",
         "Bluestar"
        ],
        [
         "Ramos",
         0,
         "Refrigerator",
         "LG"
        ],
        [
         "Ramos",
         1,
         "AC",
         "Voltas"
        ],
        [
         "Brad",
         0,
         "TV",
         "Samsung"
        ],
        [
         "Brad",
         1,
         "Mixer",
         "Preethi"
        ],
        [
         "Brad",
         2,
         "Grinder",
         "Butterfly"
        ],
        [
         "Shelby",
         null,
         null,
         null
        ]
       ],
       "datasetInfos": [],
       "dbfsResultPath": null,
       "isJsonSchema": true,
       "metadata": {},
       "overflow": false,
       "plotOptions": {
        "customPlotOptions": {},
        "displayType": "table",
        "pivotAggregation": null,
        "pivotColumns": null,
        "xColumns": null,
        "yColumns": null
       },
       "removedWidgets": [],
       "schema": [
        {
         "metadata": "{}",
         "name": "name",
         "type": "\"string\""
        },
        {
         "metadata": "{}",
         "name": "pos",
         "type": "\"integer\""
        },
        {
         "metadata": "{}",
         "name": "key",
         "type": "\"string\""
        },
        {
         "metadata": "{}",
         "name": "value",
         "type": "\"string\""
        }
       ],
       "type": "table"
      }
     },
     "output_type": "display_data"
    }
   ],
   "source": [
    "df_arr.select(\"Name\",posexplode_outer(\"Appliances\")).display()\n",
    "df_map.select(\"name\",posexplode_outer(\"appliances\")).display()"
   ]
  },
  {
   "cell_type": "code",
   "execution_count": 0,
   "metadata": {
    "application/vnd.databricks.v1+cell": {
     "cellMetadata": {},
     "inputWidgets": {},
     "nuid": "5f68a3c6-3133-4abe-aaa8-8c99ae4906f3",
     "showTitle": false,
     "title": ""
    }
   },
   "outputs": [],
   "source": []
  }
 ],
 "metadata": {
  "application/vnd.databricks.v1+notebook": {
   "dashboards": [],
   "language": "python",
   "notebookMetadata": {
    "pythonIndentUnit": 2
   },
   "notebookName": "Explode function",
   "widgets": {}
  }
 },
 "nbformat": 4,
 "nbformat_minor": 0
}
