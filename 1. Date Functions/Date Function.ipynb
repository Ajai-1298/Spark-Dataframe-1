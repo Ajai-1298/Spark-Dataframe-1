{
 "cells": [
  {
   "cell_type": "markdown",
   "metadata": {
    "application/vnd.databricks.v1+cell": {
     "cellMetadata": {},
     "inputWidgets": {},
     "nuid": "eb1c4aae-e977-4339-b21c-37255d494478",
     "showTitle": false,
     "title": ""
    }
   },
   "source": [
    "###PySpark SQL Date and Timestamp Functions\n",
    "PySpark Date and Timestamp Functions are supported on DataFrame and SQL queries and they work similarly to traditional SQL, Date and Time are very important if you\n",
    "are using PySpark for ETL. Most of all these functions accept input as, Date type, Timestamp type, or String. If a String used, it should be in a default format that can be\n",
    "cast to date.\n",
    "\n",
    "-> DateType default format is yyyy-MM-dd \n",
    "\n",
    "-> TimestampType default format is yyyy-MM-dd HH:mm:ss.SSSS"
   ]
  },
  {
   "cell_type": "code",
   "execution_count": 0,
   "metadata": {
    "application/vnd.databricks.v1+cell": {
     "cellMetadata": {
      "byteLimit": 2048000,
      "rowLimit": 10000
     },
     "inputWidgets": {},
     "nuid": "c8bf95ae-9b64-4f0d-a7a8-497ab489497a",
     "showTitle": false,
     "title": ""
    }
   },
   "outputs": [],
   "source": [
    "# Creating Dataframe\n",
    "\n",
    "data = [\n",
    "    (\"James\", \"Developer\", 3000, \"2019-09-03\", None),\n",
    "    (\"Michael\", \"Testing\", 2000, \"2021-03-21\", \"2023-04-21\"),\n",
    "    (\"Tony\", \"Developer\", 4000, \"2018-12-29\", \"2022-05-29\"),\n",
    "    (\"Parker\", \"Support\", 3000, \"2015-11-04\", \"2017-09-04\"),\n",
    "    (\"Stephen\", \"Developer\", 4000, \"2016-12-12\", \"2018-11-12\"),\n",
    "    (\"Clark\", \"Support\", 3500, \"2023-01-04\", \"2023-09-04\"),\n",
    "    (\"Bruce\", \"Testing\", 3000, \"2019-03-14\", \"2020-05-14\"),\n",
    "    (\"Allen\", \"Developer\", 3500, \"2021-11-04\", \"2023-05-04\"),\n",
    "    (\"Loki\", \"Support\", 3000, \"2015-11-04\", \"2015-11-04\"),\n",
    "    (\"Buttowski\", \"Developer\", 5000, \"2015-11-04\", \"2017-09-04\"),\n",
    "]\n",
    "\n",
    "schema = [\"Name\", \"Role\", \"Salary\", \"Start Date\", \"End Date\"]"
   ]
  },
  {
   "cell_type": "code",
   "execution_count": 0,
   "metadata": {
    "application/vnd.databricks.v1+cell": {
     "cellMetadata": {
      "byteLimit": 2048000,
      "rowLimit": 10000
     },
     "inputWidgets": {},
     "nuid": "07496755-4fc4-45f5-9ee0-bf4d29681d36",
     "showTitle": false,
     "title": ""
    }
   },
   "outputs": [],
   "source": [
    "df = spark.createDataFrame(data, schema)"
   ]
  },
  {
   "cell_type": "code",
   "execution_count": 0,
   "metadata": {
    "application/vnd.databricks.v1+cell": {
     "cellMetadata": {
      "byteLimit": 2048000,
      "rowLimit": 10000
     },
     "inputWidgets": {},
     "nuid": "d77677b0-e637-42d8-815e-5b7fc6d32ed9",
     "showTitle": false,
     "title": ""
    }
   },
   "outputs": [
    {
     "output_type": "display_data",
     "data": {
      "text/html": [
       "<style scoped>\n",
       "  .table-result-container {\n",
       "    max-height: 300px;\n",
       "    overflow: auto;\n",
       "  }\n",
       "  table, th, td {\n",
       "    border: 1px solid black;\n",
       "    border-collapse: collapse;\n",
       "  }\n",
       "  th, td {\n",
       "    padding: 5px;\n",
       "  }\n",
       "  th {\n",
       "    text-align: left;\n",
       "  }\n",
       "</style><div class='table-result-container'><table class='table-result'><thead style='background-color: white'><tr><th>Name</th><th>Role</th><th>Salary</th><th>Start Date</th><th>End Date</th></tr></thead><tbody><tr><td>James</td><td>Developer</td><td>3000</td><td>2019-09-03</td><td>null</td></tr><tr><td>Michael</td><td>Testing</td><td>2000</td><td>2021-03-21</td><td>2023-04-21</td></tr><tr><td>Tony</td><td>Developer</td><td>4000</td><td>2018-12-29</td><td>2022-05-29</td></tr><tr><td>Parker</td><td>Support</td><td>3000</td><td>2015-11-04</td><td>2017-09-04</td></tr><tr><td>Stephen</td><td>Developer</td><td>4000</td><td>2016-12-12</td><td>2018-11-12</td></tr><tr><td>Clark</td><td>Support</td><td>3500</td><td>2023-01-04</td><td>2023-09-04</td></tr><tr><td>Bruce</td><td>Testing</td><td>3000</td><td>2019-03-14</td><td>2020-05-14</td></tr><tr><td>Allen</td><td>Developer</td><td>3500</td><td>2021-11-04</td><td>2023-05-04</td></tr><tr><td>Loki</td><td>Support</td><td>3000</td><td>2015-11-04</td><td>2015-11-04</td></tr><tr><td>Buttowski</td><td>Developer</td><td>5000</td><td>2015-11-04</td><td>2017-09-04</td></tr></tbody></table></div>"
      ]
     },
     "metadata": {
      "application/vnd.databricks.v1+output": {
       "addedWidgets": {},
       "aggData": [],
       "aggError": "",
       "aggOverflow": false,
       "aggSchema": [],
       "aggSeriesLimitReached": false,
       "aggType": "",
       "arguments": {},
       "columnCustomDisplayInfos": {},
       "data": [
        [
         "James",
         "Developer",
         3000,
         "2019-09-03",
         null
        ],
        [
         "Michael",
         "Testing",
         2000,
         "2021-03-21",
         "2023-04-21"
        ],
        [
         "Tony",
         "Developer",
         4000,
         "2018-12-29",
         "2022-05-29"
        ],
        [
         "Parker",
         "Support",
         3000,
         "2015-11-04",
         "2017-09-04"
        ],
        [
         "Stephen",
         "Developer",
         4000,
         "2016-12-12",
         "2018-11-12"
        ],
        [
         "Clark",
         "Support",
         3500,
         "2023-01-04",
         "2023-09-04"
        ],
        [
         "Bruce",
         "Testing",
         3000,
         "2019-03-14",
         "2020-05-14"
        ],
        [
         "Allen",
         "Developer",
         3500,
         "2021-11-04",
         "2023-05-04"
        ],
        [
         "Loki",
         "Support",
         3000,
         "2015-11-04",
         "2015-11-04"
        ],
        [
         "Buttowski",
         "Developer",
         5000,
         "2015-11-04",
         "2017-09-04"
        ]
       ],
       "datasetInfos": [],
       "dbfsResultPath": null,
       "isJsonSchema": true,
       "metadata": {},
       "overflow": false,
       "plotOptions": {
        "customPlotOptions": {},
        "displayType": "table",
        "pivotAggregation": null,
        "pivotColumns": null,
        "xColumns": null,
        "yColumns": null
       },
       "removedWidgets": [],
       "schema": [
        {
         "metadata": "{}",
         "name": "Name",
         "type": "\"string\""
        },
        {
         "metadata": "{}",
         "name": "Role",
         "type": "\"string\""
        },
        {
         "metadata": "{}",
         "name": "Salary",
         "type": "\"long\""
        },
        {
         "metadata": "{}",
         "name": "Start Date",
         "type": "\"string\""
        },
        {
         "metadata": "{}",
         "name": "End Date",
         "type": "\"string\""
        }
       ],
       "type": "table"
      }
     },
     "output_type": "display_data"
    },
    {
     "output_type": "stream",
     "name": "stdout",
     "output_type": "stream",
     "text": [
      "root\n |-- Name: string (nullable = true)\n |-- Role: string (nullable = true)\n |-- Salary: long (nullable = true)\n |-- Start Date: string (nullable = true)\n |-- End Date: string (nullable = true)\n\n"
     ]
    }
   ],
   "source": [
    "df.display()\n",
    "df.printSchema()"
   ]
  },
  {
   "cell_type": "code",
   "execution_count": 0,
   "metadata": {
    "application/vnd.databricks.v1+cell": {
     "cellMetadata": {
      "byteLimit": 2048000,
      "rowLimit": 10000
     },
     "inputWidgets": {},
     "nuid": "f2229405-56f9-4099-98de-6744748cb629",
     "showTitle": false,
     "title": ""
    }
   },
   "outputs": [],
   "source": [
    "from pyspark.sql.functions import (\n",
    "    datediff,\n",
    "    current_date,\n",
    "    date_format,\n",
    "    months_between,\n",
    "    add_months,\n",
    "    date_add,\n",
    "    date_sub,\n",
    "    year,\n",
    "    month,\n",
    "    dayofmonth,\n",
    "    last_day,\n",
    "    dayofweek,\n",
    "    weekofyear,\n",
    ")"
   ]
  },
  {
   "cell_type": "code",
   "execution_count": 0,
   "metadata": {
    "application/vnd.databricks.v1+cell": {
     "cellMetadata": {
      "byteLimit": 2048000,
      "rowLimit": 10000
     },
     "inputWidgets": {},
     "nuid": "46e5fe5c-1021-41ae-a4a3-eb102c478298",
     "showTitle": false,
     "title": ""
    }
   },
   "outputs": [
    {
     "output_type": "stream",
     "name": "stdout",
     "output_type": "stream",
     "text": [
      "root\n |-- Name: string (nullable = true)\n |-- Role: string (nullable = true)\n |-- Salary: long (nullable = true)\n |-- Start Date: string (nullable = true)\n |-- End Date: string (nullable = true)\n |-- Current_Date: date (nullable = false)\n\n"
     ]
    },
    {
     "output_type": "display_data",
     "data": {
      "text/html": [
       "<style scoped>\n",
       "  .table-result-container {\n",
       "    max-height: 300px;\n",
       "    overflow: auto;\n",
       "  }\n",
       "  table, th, td {\n",
       "    border: 1px solid black;\n",
       "    border-collapse: collapse;\n",
       "  }\n",
       "  th, td {\n",
       "    padding: 5px;\n",
       "  }\n",
       "  th {\n",
       "    text-align: left;\n",
       "  }\n",
       "</style><div class='table-result-container'><table class='table-result'><thead style='background-color: white'><tr><th>Name</th><th>Role</th><th>Salary</th><th>Start Date</th><th>End Date</th><th>Current_Date</th></tr></thead><tbody><tr><td>James</td><td>Developer</td><td>3000</td><td>2019-09-03</td><td>null</td><td>2023-11-27</td></tr><tr><td>Michael</td><td>Testing</td><td>2000</td><td>2021-03-21</td><td>2023-04-21</td><td>2023-11-27</td></tr><tr><td>Tony</td><td>Developer</td><td>4000</td><td>2018-12-29</td><td>2022-05-29</td><td>2023-11-27</td></tr><tr><td>Parker</td><td>Support</td><td>3000</td><td>2015-11-04</td><td>2017-09-04</td><td>2023-11-27</td></tr><tr><td>Stephen</td><td>Developer</td><td>4000</td><td>2016-12-12</td><td>2018-11-12</td><td>2023-11-27</td></tr><tr><td>Clark</td><td>Support</td><td>3500</td><td>2023-01-04</td><td>2023-09-04</td><td>2023-11-27</td></tr><tr><td>Bruce</td><td>Testing</td><td>3000</td><td>2019-03-14</td><td>2020-05-14</td><td>2023-11-27</td></tr><tr><td>Allen</td><td>Developer</td><td>3500</td><td>2021-11-04</td><td>2023-05-04</td><td>2023-11-27</td></tr><tr><td>Loki</td><td>Support</td><td>3000</td><td>2015-11-04</td><td>2015-11-04</td><td>2023-11-27</td></tr><tr><td>Buttowski</td><td>Developer</td><td>5000</td><td>2015-11-04</td><td>2017-09-04</td><td>2023-11-27</td></tr></tbody></table></div>"
      ]
     },
     "metadata": {
      "application/vnd.databricks.v1+output": {
       "addedWidgets": {},
       "aggData": [],
       "aggError": "",
       "aggOverflow": false,
       "aggSchema": [],
       "aggSeriesLimitReached": false,
       "aggType": "",
       "arguments": {},
       "columnCustomDisplayInfos": {},
       "data": [
        [
         "James",
         "Developer",
         3000,
         "2019-09-03",
         null,
         "2023-11-27"
        ],
        [
         "Michael",
         "Testing",
         2000,
         "2021-03-21",
         "2023-04-21",
         "2023-11-27"
        ],
        [
         "Tony",
         "Developer",
         4000,
         "2018-12-29",
         "2022-05-29",
         "2023-11-27"
        ],
        [
         "Parker",
         "Support",
         3000,
         "2015-11-04",
         "2017-09-04",
         "2023-11-27"
        ],
        [
         "Stephen",
         "Developer",
         4000,
         "2016-12-12",
         "2018-11-12",
         "2023-11-27"
        ],
        [
         "Clark",
         "Support",
         3500,
         "2023-01-04",
         "2023-09-04",
         "2023-11-27"
        ],
        [
         "Bruce",
         "Testing",
         3000,
         "2019-03-14",
         "2020-05-14",
         "2023-11-27"
        ],
        [
         "Allen",
         "Developer",
         3500,
         "2021-11-04",
         "2023-05-04",
         "2023-11-27"
        ],
        [
         "Loki",
         "Support",
         3000,
         "2015-11-04",
         "2015-11-04",
         "2023-11-27"
        ],
        [
         "Buttowski",
         "Developer",
         5000,
         "2015-11-04",
         "2017-09-04",
         "2023-11-27"
        ]
       ],
       "datasetInfos": [],
       "dbfsResultPath": null,
       "isJsonSchema": true,
       "metadata": {},
       "overflow": false,
       "plotOptions": {
        "customPlotOptions": {},
        "displayType": "table",
        "pivotAggregation": null,
        "pivotColumns": null,
        "xColumns": null,
        "yColumns": null
       },
       "removedWidgets": [],
       "schema": [
        {
         "metadata": "{}",
         "name": "Name",
         "type": "\"string\""
        },
        {
         "metadata": "{}",
         "name": "Role",
         "type": "\"string\""
        },
        {
         "metadata": "{}",
         "name": "Salary",
         "type": "\"long\""
        },
        {
         "metadata": "{}",
         "name": "Start Date",
         "type": "\"string\""
        },
        {
         "metadata": "{}",
         "name": "End Date",
         "type": "\"string\""
        },
        {
         "metadata": "{}",
         "name": "Current_Date",
         "type": "\"date\""
        }
       ],
       "type": "table"
      }
     },
     "output_type": "display_data"
    }
   ],
   "source": [
    "# \"Current_Date\" Returns the current date as a date column.\n",
    "df1 = df.withColumn(\"Current_Date\", current_date())\n",
    "df1.printSchema()\n",
    "df1.display()"
   ]
  },
  {
   "cell_type": "code",
   "execution_count": 0,
   "metadata": {
    "application/vnd.databricks.v1+cell": {
     "cellMetadata": {
      "byteLimit": 2048000,
      "rowLimit": 10000
     },
     "inputWidgets": {},
     "nuid": "cef552d0-c833-4f6b-b9a8-f6cddcff777a",
     "showTitle": false,
     "title": ""
    }
   },
   "outputs": [
    {
     "output_type": "display_data",
     "data": {
      "text/html": [
       "<style scoped>\n",
       "  .table-result-container {\n",
       "    max-height: 300px;\n",
       "    overflow: auto;\n",
       "  }\n",
       "  table, th, td {\n",
       "    border: 1px solid black;\n",
       "    border-collapse: collapse;\n",
       "  }\n",
       "  th, td {\n",
       "    padding: 5px;\n",
       "  }\n",
       "  th {\n",
       "    text-align: left;\n",
       "  }\n",
       "</style><div class='table-result-container'><table class='table-result'><thead style='background-color: white'><tr><th>Name</th><th>Role</th><th>Salary</th><th>Start Date</th><th>End Date</th><th>Date difference</th></tr></thead><tbody><tr><td>James</td><td>Developer</td><td>3000</td><td>2019-09-03</td><td>null</td><td>null</td></tr><tr><td>Michael</td><td>Testing</td><td>2000</td><td>2021-03-21</td><td>2023-04-21</td><td>761</td></tr><tr><td>Tony</td><td>Developer</td><td>4000</td><td>2018-12-29</td><td>2022-05-29</td><td>1247</td></tr><tr><td>Parker</td><td>Support</td><td>3000</td><td>2015-11-04</td><td>2017-09-04</td><td>670</td></tr><tr><td>Stephen</td><td>Developer</td><td>4000</td><td>2016-12-12</td><td>2018-11-12</td><td>700</td></tr><tr><td>Clark</td><td>Support</td><td>3500</td><td>2023-01-04</td><td>2023-09-04</td><td>243</td></tr><tr><td>Bruce</td><td>Testing</td><td>3000</td><td>2019-03-14</td><td>2020-05-14</td><td>427</td></tr><tr><td>Allen</td><td>Developer</td><td>3500</td><td>2021-11-04</td><td>2023-05-04</td><td>546</td></tr><tr><td>Loki</td><td>Support</td><td>3000</td><td>2015-11-04</td><td>2015-11-04</td><td>0</td></tr><tr><td>Buttowski</td><td>Developer</td><td>5000</td><td>2015-11-04</td><td>2017-09-04</td><td>670</td></tr></tbody></table></div>"
      ]
     },
     "metadata": {
      "application/vnd.databricks.v1+output": {
       "addedWidgets": {},
       "aggData": [],
       "aggError": "",
       "aggOverflow": false,
       "aggSchema": [],
       "aggSeriesLimitReached": false,
       "aggType": "",
       "arguments": {},
       "columnCustomDisplayInfos": {},
       "data": [
        [
         "James",
         "Developer",
         3000,
         "2019-09-03",
         null,
         null
        ],
        [
         "Michael",
         "Testing",
         2000,
         "2021-03-21",
         "2023-04-21",
         761
        ],
        [
         "Tony",
         "Developer",
         4000,
         "2018-12-29",
         "2022-05-29",
         1247
        ],
        [
         "Parker",
         "Support",
         3000,
         "2015-11-04",
         "2017-09-04",
         670
        ],
        [
         "Stephen",
         "Developer",
         4000,
         "2016-12-12",
         "2018-11-12",
         700
        ],
        [
         "Clark",
         "Support",
         3500,
         "2023-01-04",
         "2023-09-04",
         243
        ],
        [
         "Bruce",
         "Testing",
         3000,
         "2019-03-14",
         "2020-05-14",
         427
        ],
        [
         "Allen",
         "Developer",
         3500,
         "2021-11-04",
         "2023-05-04",
         546
        ],
        [
         "Loki",
         "Support",
         3000,
         "2015-11-04",
         "2015-11-04",
         0
        ],
        [
         "Buttowski",
         "Developer",
         5000,
         "2015-11-04",
         "2017-09-04",
         670
        ]
       ],
       "datasetInfos": [],
       "dbfsResultPath": null,
       "isJsonSchema": true,
       "metadata": {},
       "overflow": false,
       "plotOptions": {
        "customPlotOptions": {},
        "displayType": "table",
        "pivotAggregation": null,
        "pivotColumns": null,
        "xColumns": null,
        "yColumns": null
       },
       "removedWidgets": [],
       "schema": [
        {
         "metadata": "{}",
         "name": "Name",
         "type": "\"string\""
        },
        {
         "metadata": "{}",
         "name": "Role",
         "type": "\"string\""
        },
        {
         "metadata": "{}",
         "name": "Salary",
         "type": "\"long\""
        },
        {
         "metadata": "{}",
         "name": "Start Date",
         "type": "\"string\""
        },
        {
         "metadata": "{}",
         "name": "End Date",
         "type": "\"string\""
        },
        {
         "metadata": "{}",
         "name": "Date difference",
         "type": "\"integer\""
        }
       ],
       "type": "table"
      }
     },
     "output_type": "display_data"
    }
   ],
   "source": [
    "# \"datediff\" returns the difference between two dates using datediff().\n",
    "df.withColumn(\"Date difference\", datediff(\"End Date\", \"Start Date\")).display()"
   ]
  },
  {
   "cell_type": "markdown",
   "metadata": {
    "application/vnd.databricks.v1+cell": {
     "cellMetadata": {},
     "inputWidgets": {},
     "nuid": "2745d915-234c-4298-b9c8-8e6a99628d19",
     "showTitle": false,
     "title": ""
    }
   },
   "source": [
    "#### *date_format()*\n",
    "The below example uses date_format() to parses the date and converts from yyyy-dd-mm to dd.MM-yyyy format."
   ]
  },
  {
   "cell_type": "code",
   "execution_count": 0,
   "metadata": {
    "application/vnd.databricks.v1+cell": {
     "cellMetadata": {
      "byteLimit": 2048000,
      "rowLimit": 10000
     },
     "inputWidgets": {},
     "nuid": "6be544c2-956c-4904-a9a1-6f0e7326a992",
     "showTitle": false,
     "title": ""
    }
   },
   "outputs": [
    {
     "output_type": "display_data",
     "data": {
      "text/html": [
       "<style scoped>\n",
       "  .table-result-container {\n",
       "    max-height: 300px;\n",
       "    overflow: auto;\n",
       "  }\n",
       "  table, th, td {\n",
       "    border: 1px solid black;\n",
       "    border-collapse: collapse;\n",
       "  }\n",
       "  th, td {\n",
       "    padding: 5px;\n",
       "  }\n",
       "  th {\n",
       "    text-align: left;\n",
       "  }\n",
       "</style><div class='table-result-container'><table class='table-result'><thead style='background-color: white'><tr><th>Name</th><th>Role</th><th>Salary</th><th>Start Date</th><th>End Date</th><th>Formatted</th></tr></thead><tbody><tr><td>James</td><td>Developer</td><td>3000</td><td>2019-09-03</td><td>null</td><td>null</td></tr><tr><td>Michael</td><td>Testing</td><td>2000</td><td>2021-03-21</td><td>2023-04-21</td><td>21.04.2023</td></tr><tr><td>Tony</td><td>Developer</td><td>4000</td><td>2018-12-29</td><td>2022-05-29</td><td>29.05.2022</td></tr><tr><td>Parker</td><td>Support</td><td>3000</td><td>2015-11-04</td><td>2017-09-04</td><td>04.09.2017</td></tr><tr><td>Stephen</td><td>Developer</td><td>4000</td><td>2016-12-12</td><td>2018-11-12</td><td>12.11.2018</td></tr><tr><td>Clark</td><td>Support</td><td>3500</td><td>2023-01-04</td><td>2023-09-04</td><td>04.09.2023</td></tr><tr><td>Bruce</td><td>Testing</td><td>3000</td><td>2019-03-14</td><td>2020-05-14</td><td>14.05.2020</td></tr><tr><td>Allen</td><td>Developer</td><td>3500</td><td>2021-11-04</td><td>2023-05-04</td><td>04.05.2023</td></tr><tr><td>Loki</td><td>Support</td><td>3000</td><td>2015-11-04</td><td>2015-11-04</td><td>04.11.2015</td></tr><tr><td>Buttowski</td><td>Developer</td><td>5000</td><td>2015-11-04</td><td>2017-09-04</td><td>04.09.2017</td></tr></tbody></table></div>"
      ]
     },
     "metadata": {
      "application/vnd.databricks.v1+output": {
       "addedWidgets": {},
       "aggData": [],
       "aggError": "",
       "aggOverflow": false,
       "aggSchema": [],
       "aggSeriesLimitReached": false,
       "aggType": "",
       "arguments": {},
       "columnCustomDisplayInfos": {},
       "data": [
        [
         "James",
         "Developer",
         3000,
         "2019-09-03",
         null,
         null
        ],
        [
         "Michael",
         "Testing",
         2000,
         "2021-03-21",
         "2023-04-21",
         "21.04.2023"
        ],
        [
         "Tony",
         "Developer",
         4000,
         "2018-12-29",
         "2022-05-29",
         "29.05.2022"
        ],
        [
         "Parker",
         "Support",
         3000,
         "2015-11-04",
         "2017-09-04",
         "04.09.2017"
        ],
        [
         "Stephen",
         "Developer",
         4000,
         "2016-12-12",
         "2018-11-12",
         "12.11.2018"
        ],
        [
         "Clark",
         "Support",
         3500,
         "2023-01-04",
         "2023-09-04",
         "04.09.2023"
        ],
        [
         "Bruce",
         "Testing",
         3000,
         "2019-03-14",
         "2020-05-14",
         "14.05.2020"
        ],
        [
         "Allen",
         "Developer",
         3500,
         "2021-11-04",
         "2023-05-04",
         "04.05.2023"
        ],
        [
         "Loki",
         "Support",
         3000,
         "2015-11-04",
         "2015-11-04",
         "04.11.2015"
        ],
        [
         "Buttowski",
         "Developer",
         5000,
         "2015-11-04",
         "2017-09-04",
         "04.09.2017"
        ]
       ],
       "datasetInfos": [],
       "dbfsResultPath": null,
       "isJsonSchema": true,
       "metadata": {},
       "overflow": false,
       "plotOptions": {
        "customPlotOptions": {},
        "displayType": "table",
        "pivotAggregation": null,
        "pivotColumns": null,
        "xColumns": null,
        "yColumns": null
       },
       "removedWidgets": [],
       "schema": [
        {
         "metadata": "{}",
         "name": "Name",
         "type": "\"string\""
        },
        {
         "metadata": "{}",
         "name": "Role",
         "type": "\"string\""
        },
        {
         "metadata": "{}",
         "name": "Salary",
         "type": "\"long\""
        },
        {
         "metadata": "{}",
         "name": "Start Date",
         "type": "\"string\""
        },
        {
         "metadata": "{}",
         "name": "End Date",
         "type": "\"string\""
        },
        {
         "metadata": "{}",
         "name": "Formatted",
         "type": "\"string\""
        }
       ],
       "type": "table"
      }
     },
     "output_type": "display_data"
    }
   ],
   "source": [
    "# date_format\n",
    "df.withColumn(\"Formatted\", date_format(\"End Date\", \"dd.MM.yyyy\")).display()"
   ]
  },
  {
   "cell_type": "code",
   "execution_count": 0,
   "metadata": {
    "application/vnd.databricks.v1+cell": {
     "cellMetadata": {
      "byteLimit": 2048000,
      "rowLimit": 10000
     },
     "inputWidgets": {},
     "nuid": "0a7bee99-8793-4d47-84e6-fc1190d19f0f",
     "showTitle": false,
     "title": ""
    }
   },
   "outputs": [
    {
     "output_type": "display_data",
     "data": {
      "text/html": [
       "<style scoped>\n",
       "  .table-result-container {\n",
       "    max-height: 300px;\n",
       "    overflow: auto;\n",
       "  }\n",
       "  table, th, td {\n",
       "    border: 1px solid black;\n",
       "    border-collapse: collapse;\n",
       "  }\n",
       "  th, td {\n",
       "    padding: 5px;\n",
       "  }\n",
       "  th {\n",
       "    text-align: left;\n",
       "  }\n",
       "</style><div class='table-result-container'><table class='table-result'><thead style='background-color: white'><tr><th>Name</th><th>Role</th><th>Salary</th><th>Start Date</th><th>End Date</th><th>Months Between</th></tr></thead><tbody><tr><td>James</td><td>Developer</td><td>3000</td><td>2019-09-03</td><td>null</td><td>null</td></tr><tr><td>Michael</td><td>Testing</td><td>2000</td><td>2021-03-21</td><td>2023-04-21</td><td>25.0</td></tr><tr><td>Tony</td><td>Developer</td><td>4000</td><td>2018-12-29</td><td>2022-05-29</td><td>41.0</td></tr><tr><td>Parker</td><td>Support</td><td>3000</td><td>2015-11-04</td><td>2017-09-04</td><td>22.0</td></tr><tr><td>Stephen</td><td>Developer</td><td>4000</td><td>2016-12-12</td><td>2018-11-12</td><td>23.0</td></tr><tr><td>Clark</td><td>Support</td><td>3500</td><td>2023-01-04</td><td>2023-09-04</td><td>8.0</td></tr><tr><td>Bruce</td><td>Testing</td><td>3000</td><td>2019-03-14</td><td>2020-05-14</td><td>14.0</td></tr><tr><td>Allen</td><td>Developer</td><td>3500</td><td>2021-11-04</td><td>2023-05-04</td><td>18.0</td></tr><tr><td>Loki</td><td>Support</td><td>3000</td><td>2015-11-04</td><td>2015-11-04</td><td>0.0</td></tr><tr><td>Buttowski</td><td>Developer</td><td>5000</td><td>2015-11-04</td><td>2017-09-04</td><td>22.0</td></tr></tbody></table></div>"
      ]
     },
     "metadata": {
      "application/vnd.databricks.v1+output": {
       "addedWidgets": {},
       "aggData": [],
       "aggError": "",
       "aggOverflow": false,
       "aggSchema": [],
       "aggSeriesLimitReached": false,
       "aggType": "",
       "arguments": {},
       "columnCustomDisplayInfos": {},
       "data": [
        [
         "James",
         "Developer",
         3000,
         "2019-09-03",
         null,
         null
        ],
        [
         "Michael",
         "Testing",
         2000,
         "2021-03-21",
         "2023-04-21",
         25.0
        ],
        [
         "Tony",
         "Developer",
         4000,
         "2018-12-29",
         "2022-05-29",
         41.0
        ],
        [
         "Parker",
         "Support",
         3000,
         "2015-11-04",
         "2017-09-04",
         22.0
        ],
        [
         "Stephen",
         "Developer",
         4000,
         "2016-12-12",
         "2018-11-12",
         23.0
        ],
        [
         "Clark",
         "Support",
         3500,
         "2023-01-04",
         "2023-09-04",
         8.0
        ],
        [
         "Bruce",
         "Testing",
         3000,
         "2019-03-14",
         "2020-05-14",
         14.0
        ],
        [
         "Allen",
         "Developer",
         3500,
         "2021-11-04",
         "2023-05-04",
         18.0
        ],
        [
         "Loki",
         "Support",
         3000,
         "2015-11-04",
         "2015-11-04",
         0.0
        ],
        [
         "Buttowski",
         "Developer",
         5000,
         "2015-11-04",
         "2017-09-04",
         22.0
        ]
       ],
       "datasetInfos": [],
       "dbfsResultPath": null,
       "isJsonSchema": true,
       "metadata": {},
       "overflow": false,
       "plotOptions": {
        "customPlotOptions": {},
        "displayType": "table",
        "pivotAggregation": null,
        "pivotColumns": null,
        "xColumns": null,
        "yColumns": null
       },
       "removedWidgets": [],
       "schema": [
        {
         "metadata": "{}",
         "name": "Name",
         "type": "\"string\""
        },
        {
         "metadata": "{}",
         "name": "Role",
         "type": "\"string\""
        },
        {
         "metadata": "{}",
         "name": "Salary",
         "type": "\"long\""
        },
        {
         "metadata": "{}",
         "name": "Start Date",
         "type": "\"string\""
        },
        {
         "metadata": "{}",
         "name": "End Date",
         "type": "\"string\""
        },
        {
         "metadata": "{}",
         "name": "Months Between",
         "type": "\"double\""
        }
       ],
       "type": "table"
      }
     },
     "output_type": "display_data"
    }
   ],
   "source": [
    "# \"months_between\" returns the months between two dates using months_between().\n",
    "df.withColumn(\"Months Between\", months_between(\"end date\", \"start date\")).display()"
   ]
  },
  {
   "cell_type": "code",
   "execution_count": 0,
   "metadata": {
    "application/vnd.databricks.v1+cell": {
     "cellMetadata": {
      "byteLimit": 2048000,
      "rowLimit": 10000
     },
     "inputWidgets": {},
     "nuid": "820893a4-f675-40b0-b8d8-a8c6a3f3c60a",
     "showTitle": false,
     "title": ""
    }
   },
   "outputs": [
    {
     "output_type": "display_data",
     "data": {
      "text/html": [
       "<style scoped>\n",
       "  .table-result-container {\n",
       "    max-height: 300px;\n",
       "    overflow: auto;\n",
       "  }\n",
       "  table, th, td {\n",
       "    border: 1px solid black;\n",
       "    border-collapse: collapse;\n",
       "  }\n",
       "  th, td {\n",
       "    padding: 5px;\n",
       "  }\n",
       "  th {\n",
       "    text-align: left;\n",
       "  }\n",
       "</style><div class='table-result-container'><table class='table-result'><thead style='background-color: white'><tr><th>Name</th><th>Role</th><th>Salary</th><th>Start Date</th><th>End Date</th><th>Add months</th></tr></thead><tbody><tr><td>James</td><td>Developer</td><td>3000</td><td>2019-09-03</td><td>null</td><td>null</td></tr><tr><td>Michael</td><td>Testing</td><td>2000</td><td>2021-03-21</td><td>2023-04-21</td><td>2023-07-21</td></tr><tr><td>Tony</td><td>Developer</td><td>4000</td><td>2018-12-29</td><td>2022-05-29</td><td>2022-08-29</td></tr><tr><td>Parker</td><td>Support</td><td>3000</td><td>2015-11-04</td><td>2017-09-04</td><td>2017-12-04</td></tr><tr><td>Stephen</td><td>Developer</td><td>4000</td><td>2016-12-12</td><td>2018-11-12</td><td>2019-02-12</td></tr><tr><td>Clark</td><td>Support</td><td>3500</td><td>2023-01-04</td><td>2023-09-04</td><td>2023-12-04</td></tr><tr><td>Bruce</td><td>Testing</td><td>3000</td><td>2019-03-14</td><td>2020-05-14</td><td>2020-08-14</td></tr><tr><td>Allen</td><td>Developer</td><td>3500</td><td>2021-11-04</td><td>2023-05-04</td><td>2023-08-04</td></tr><tr><td>Loki</td><td>Support</td><td>3000</td><td>2015-11-04</td><td>2015-11-04</td><td>2016-02-04</td></tr><tr><td>Buttowski</td><td>Developer</td><td>5000</td><td>2015-11-04</td><td>2017-09-04</td><td>2017-12-04</td></tr></tbody></table></div>"
      ]
     },
     "metadata": {
      "application/vnd.databricks.v1+output": {
       "addedWidgets": {},
       "aggData": [],
       "aggError": "",
       "aggOverflow": false,
       "aggSchema": [],
       "aggSeriesLimitReached": false,
       "aggType": "",
       "arguments": {},
       "columnCustomDisplayInfos": {},
       "data": [
        [
         "James",
         "Developer",
         3000,
         "2019-09-03",
         null,
         null
        ],
        [
         "Michael",
         "Testing",
         2000,
         "2021-03-21",
         "2023-04-21",
         "2023-07-21"
        ],
        [
         "Tony",
         "Developer",
         4000,
         "2018-12-29",
         "2022-05-29",
         "2022-08-29"
        ],
        [
         "Parker",
         "Support",
         3000,
         "2015-11-04",
         "2017-09-04",
         "2017-12-04"
        ],
        [
         "Stephen",
         "Developer",
         4000,
         "2016-12-12",
         "2018-11-12",
         "2019-02-12"
        ],
        [
         "Clark",
         "Support",
         3500,
         "2023-01-04",
         "2023-09-04",
         "2023-12-04"
        ],
        [
         "Bruce",
         "Testing",
         3000,
         "2019-03-14",
         "2020-05-14",
         "2020-08-14"
        ],
        [
         "Allen",
         "Developer",
         3500,
         "2021-11-04",
         "2023-05-04",
         "2023-08-04"
        ],
        [
         "Loki",
         "Support",
         3000,
         "2015-11-04",
         "2015-11-04",
         "2016-02-04"
        ],
        [
         "Buttowski",
         "Developer",
         5000,
         "2015-11-04",
         "2017-09-04",
         "2017-12-04"
        ]
       ],
       "datasetInfos": [],
       "dbfsResultPath": null,
       "isJsonSchema": true,
       "metadata": {},
       "overflow": false,
       "plotOptions": {
        "customPlotOptions": {},
        "displayType": "table",
        "pivotAggregation": null,
        "pivotColumns": null,
        "xColumns": null,
        "yColumns": null
       },
       "removedWidgets": [],
       "schema": [
        {
         "metadata": "{}",
         "name": "Name",
         "type": "\"string\""
        },
        {
         "metadata": "{}",
         "name": "Role",
         "type": "\"string\""
        },
        {
         "metadata": "{}",
         "name": "Salary",
         "type": "\"long\""
        },
        {
         "metadata": "{}",
         "name": "Start Date",
         "type": "\"string\""
        },
        {
         "metadata": "{}",
         "name": "End Date",
         "type": "\"string\""
        },
        {
         "metadata": "{}",
         "name": "Add months",
         "type": "\"date\""
        }
       ],
       "type": "table"
      }
     },
     "output_type": "display_data"
    },
    {
     "output_type": "display_data",
     "data": {
      "text/html": [
       "<style scoped>\n",
       "  .table-result-container {\n",
       "    max-height: 300px;\n",
       "    overflow: auto;\n",
       "  }\n",
       "  table, th, td {\n",
       "    border: 1px solid black;\n",
       "    border-collapse: collapse;\n",
       "  }\n",
       "  th, td {\n",
       "    padding: 5px;\n",
       "  }\n",
       "  th {\n",
       "    text-align: left;\n",
       "  }\n",
       "</style><div class='table-result-container'><table class='table-result'><thead style='background-color: white'><tr><th>Name</th><th>Role</th><th>Salary</th><th>Start Date</th><th>End Date</th><th>Add months</th></tr></thead><tbody><tr><td>James</td><td>Developer</td><td>3000</td><td>2019-09-03</td><td>null</td><td>null</td></tr><tr><td>Tony</td><td>Developer</td><td>4000</td><td>2018-12-29</td><td>2022-05-29</td><td>2022-08-29</td></tr><tr><td>Stephen</td><td>Developer</td><td>4000</td><td>2016-12-12</td><td>2018-11-12</td><td>2019-02-12</td></tr><tr><td>Allen</td><td>Developer</td><td>3500</td><td>2021-11-04</td><td>2023-05-04</td><td>2023-08-04</td></tr><tr><td>Buttowski</td><td>Developer</td><td>5000</td><td>2015-11-04</td><td>2017-09-04</td><td>2017-12-04</td></tr></tbody></table></div>"
      ]
     },
     "metadata": {
      "application/vnd.databricks.v1+output": {
       "addedWidgets": {},
       "aggData": [],
       "aggError": "",
       "aggOverflow": false,
       "aggSchema": [],
       "aggSeriesLimitReached": false,
       "aggType": "",
       "arguments": {},
       "columnCustomDisplayInfos": {},
       "data": [
        [
         "James",
         "Developer",
         3000,
         "2019-09-03",
         null,
         null
        ],
        [
         "Tony",
         "Developer",
         4000,
         "2018-12-29",
         "2022-05-29",
         "2022-08-29"
        ],
        [
         "Stephen",
         "Developer",
         4000,
         "2016-12-12",
         "2018-11-12",
         "2019-02-12"
        ],
        [
         "Allen",
         "Developer",
         3500,
         "2021-11-04",
         "2023-05-04",
         "2023-08-04"
        ],
        [
         "Buttowski",
         "Developer",
         5000,
         "2015-11-04",
         "2017-09-04",
         "2017-12-04"
        ]
       ],
       "datasetInfos": [],
       "dbfsResultPath": null,
       "isJsonSchema": true,
       "metadata": {},
       "overflow": false,
       "plotOptions": {
        "customPlotOptions": {},
        "displayType": "table",
        "pivotAggregation": null,
        "pivotColumns": null,
        "xColumns": null,
        "yColumns": null
       },
       "removedWidgets": [],
       "schema": [
        {
         "metadata": "{}",
         "name": "Name",
         "type": "\"string\""
        },
        {
         "metadata": "{}",
         "name": "Role",
         "type": "\"string\""
        },
        {
         "metadata": "{}",
         "name": "Salary",
         "type": "\"long\""
        },
        {
         "metadata": "{}",
         "name": "Start Date",
         "type": "\"string\""
        },
        {
         "metadata": "{}",
         "name": "End Date",
         "type": "\"string\""
        },
        {
         "metadata": "{}",
         "name": "Add months",
         "type": "\"date\""
        }
       ],
       "type": "table"
      }
     },
     "output_type": "display_data"
    }
   ],
   "source": [
    "#add_months is used to add months to the column\n",
    "df.withColumn(\"Add months\", add_months(\"End date\", 3)).display()\n",
    "df.filter(df.Role==\"Developer\").withColumn(\"Add months\", add_months(\"End date\", 3)).display()"
   ]
  },
  {
   "cell_type": "code",
   "execution_count": 0,
   "metadata": {
    "application/vnd.databricks.v1+cell": {
     "cellMetadata": {
      "byteLimit": 2048000,
      "rowLimit": 10000
     },
     "inputWidgets": {},
     "nuid": "0cebae43-0a96-48b3-9c06-518e6485b81e",
     "showTitle": false,
     "title": ""
    }
   },
   "outputs": [
    {
     "output_type": "display_data",
     "data": {
      "text/html": [
       "<style scoped>\n",
       "  .table-result-container {\n",
       "    max-height: 300px;\n",
       "    overflow: auto;\n",
       "  }\n",
       "  table, th, td {\n",
       "    border: 1px solid black;\n",
       "    border-collapse: collapse;\n",
       "  }\n",
       "  th, td {\n",
       "    padding: 5px;\n",
       "  }\n",
       "  th {\n",
       "    text-align: left;\n",
       "  }\n",
       "</style><div class='table-result-container'><table class='table-result'><thead style='background-color: white'><tr><th>Name</th><th>Role</th><th>Salary</th><th>Start Date</th><th>End Date</th><th>Add date</th><th>Sub Date</th></tr></thead><tbody><tr><td>James</td><td>Developer</td><td>3000</td><td>2019-09-03</td><td>null</td><td>null</td><td>null</td></tr><tr><td>Michael</td><td>Testing</td><td>2000</td><td>2021-03-21</td><td>2023-04-21</td><td>2023-05-11</td><td>2023-04-11</td></tr><tr><td>Tony</td><td>Developer</td><td>4000</td><td>2018-12-29</td><td>2022-05-29</td><td>2022-06-18</td><td>2022-05-19</td></tr><tr><td>Parker</td><td>Support</td><td>3000</td><td>2015-11-04</td><td>2017-09-04</td><td>2017-09-24</td><td>2017-08-25</td></tr><tr><td>Stephen</td><td>Developer</td><td>4000</td><td>2016-12-12</td><td>2018-11-12</td><td>2018-12-02</td><td>2018-11-02</td></tr><tr><td>Clark</td><td>Support</td><td>3500</td><td>2023-01-04</td><td>2023-09-04</td><td>2023-09-24</td><td>2023-08-25</td></tr><tr><td>Bruce</td><td>Testing</td><td>3000</td><td>2019-03-14</td><td>2020-05-14</td><td>2020-06-03</td><td>2020-05-04</td></tr><tr><td>Allen</td><td>Developer</td><td>3500</td><td>2021-11-04</td><td>2023-05-04</td><td>2023-05-24</td><td>2023-04-24</td></tr><tr><td>Loki</td><td>Support</td><td>3000</td><td>2015-11-04</td><td>2015-11-04</td><td>2015-11-24</td><td>2015-10-25</td></tr><tr><td>Buttowski</td><td>Developer</td><td>5000</td><td>2015-11-04</td><td>2017-09-04</td><td>2017-09-24</td><td>2017-08-25</td></tr></tbody></table></div>"
      ]
     },
     "metadata": {
      "application/vnd.databricks.v1+output": {
       "addedWidgets": {},
       "aggData": [],
       "aggError": "",
       "aggOverflow": false,
       "aggSchema": [],
       "aggSeriesLimitReached": false,
       "aggType": "",
       "arguments": {},
       "columnCustomDisplayInfos": {},
       "data": [
        [
         "James",
         "Developer",
         3000,
         "2019-09-03",
         null,
         null,
         null
        ],
        [
         "Michael",
         "Testing",
         2000,
         "2021-03-21",
         "2023-04-21",
         "2023-05-11",
         "2023-04-11"
        ],
        [
         "Tony",
         "Developer",
         4000,
         "2018-12-29",
         "2022-05-29",
         "2022-06-18",
         "2022-05-19"
        ],
        [
         "Parker",
         "Support",
         3000,
         "2015-11-04",
         "2017-09-04",
         "2017-09-24",
         "2017-08-25"
        ],
        [
         "Stephen",
         "Developer",
         4000,
         "2016-12-12",
         "2018-11-12",
         "2018-12-02",
         "2018-11-02"
        ],
        [
         "Clark",
         "Support",
         3500,
         "2023-01-04",
         "2023-09-04",
         "2023-09-24",
         "2023-08-25"
        ],
        [
         "Bruce",
         "Testing",
         3000,
         "2019-03-14",
         "2020-05-14",
         "2020-06-03",
         "2020-05-04"
        ],
        [
         "Allen",
         "Developer",
         3500,
         "2021-11-04",
         "2023-05-04",
         "2023-05-24",
         "2023-04-24"
        ],
        [
         "Loki",
         "Support",
         3000,
         "2015-11-04",
         "2015-11-04",
         "2015-11-24",
         "2015-10-25"
        ],
        [
         "Buttowski",
         "Developer",
         5000,
         "2015-11-04",
         "2017-09-04",
         "2017-09-24",
         "2017-08-25"
        ]
       ],
       "datasetInfos": [],
       "dbfsResultPath": null,
       "isJsonSchema": true,
       "metadata": {},
       "overflow": false,
       "plotOptions": {
        "customPlotOptions": {},
        "displayType": "table",
        "pivotAggregation": null,
        "pivotColumns": null,
        "xColumns": null,
        "yColumns": null
       },
       "removedWidgets": [],
       "schema": [
        {
         "metadata": "{}",
         "name": "Name",
         "type": "\"string\""
        },
        {
         "metadata": "{}",
         "name": "Role",
         "type": "\"string\""
        },
        {
         "metadata": "{}",
         "name": "Salary",
         "type": "\"long\""
        },
        {
         "metadata": "{}",
         "name": "Start Date",
         "type": "\"string\""
        },
        {
         "metadata": "{}",
         "name": "End Date",
         "type": "\"string\""
        },
        {
         "metadata": "{}",
         "name": "Add date",
         "type": "\"date\""
        },
        {
         "metadata": "{}",
         "name": "Sub Date",
         "type": "\"date\""
        }
       ],
       "type": "table"
      }
     },
     "output_type": "display_data"
    }
   ],
   "source": [
    "# adding and subtracting date from a given input.\n",
    "df.withColumn(\"Add date\", date_add(\"End Date\", 20)).withColumn(\"Sub Date\",date_sub('end date',10)).display()"
   ]
  },
  {
   "cell_type": "code",
   "execution_count": 0,
   "metadata": {
    "application/vnd.databricks.v1+cell": {
     "cellMetadata": {
      "byteLimit": 2048000,
      "rowLimit": 10000
     },
     "inputWidgets": {},
     "nuid": "41f9295a-4100-4c3b-9758-4b97daf2526e",
     "showTitle": false,
     "title": ""
    }
   },
   "outputs": [
    {
     "output_type": "display_data",
     "data": {
      "text/html": [
       "<style scoped>\n",
       "  .table-result-container {\n",
       "    max-height: 300px;\n",
       "    overflow: auto;\n",
       "  }\n",
       "  table, th, td {\n",
       "    border: 1px solid black;\n",
       "    border-collapse: collapse;\n",
       "  }\n",
       "  th, td {\n",
       "    padding: 5px;\n",
       "  }\n",
       "  th {\n",
       "    text-align: left;\n",
       "  }\n",
       "</style><div class='table-result-container'><table class='table-result'><thead style='background-color: white'><tr><th>Name</th><th>Role</th><th>Salary</th><th>Start Date</th><th>End Date</th><th>Year</th><th>Month</th><th>Day</th></tr></thead><tbody><tr><td>James</td><td>Developer</td><td>3000</td><td>2019-09-03</td><td>null</td><td>null</td><td>null</td><td>null</td></tr><tr><td>Michael</td><td>Testing</td><td>2000</td><td>2021-03-21</td><td>2023-04-21</td><td>2023</td><td>4</td><td>21</td></tr><tr><td>Tony</td><td>Developer</td><td>4000</td><td>2018-12-29</td><td>2022-05-29</td><td>2022</td><td>5</td><td>29</td></tr><tr><td>Parker</td><td>Support</td><td>3000</td><td>2015-11-04</td><td>2017-09-04</td><td>2017</td><td>9</td><td>4</td></tr><tr><td>Stephen</td><td>Developer</td><td>4000</td><td>2016-12-12</td><td>2018-11-12</td><td>2018</td><td>11</td><td>12</td></tr><tr><td>Clark</td><td>Support</td><td>3500</td><td>2023-01-04</td><td>2023-09-04</td><td>2023</td><td>9</td><td>4</td></tr><tr><td>Bruce</td><td>Testing</td><td>3000</td><td>2019-03-14</td><td>2020-05-14</td><td>2020</td><td>5</td><td>14</td></tr><tr><td>Allen</td><td>Developer</td><td>3500</td><td>2021-11-04</td><td>2023-05-04</td><td>2023</td><td>5</td><td>4</td></tr><tr><td>Loki</td><td>Support</td><td>3000</td><td>2015-11-04</td><td>2015-11-04</td><td>2015</td><td>11</td><td>4</td></tr><tr><td>Buttowski</td><td>Developer</td><td>5000</td><td>2015-11-04</td><td>2017-09-04</td><td>2017</td><td>9</td><td>4</td></tr></tbody></table></div>"
      ]
     },
     "metadata": {
      "application/vnd.databricks.v1+output": {
       "addedWidgets": {},
       "aggData": [],
       "aggError": "",
       "aggOverflow": false,
       "aggSchema": [],
       "aggSeriesLimitReached": false,
       "aggType": "",
       "arguments": {},
       "columnCustomDisplayInfos": {},
       "data": [
        [
         "James",
         "Developer",
         3000,
         "2019-09-03",
         null,
         null,
         null,
         null
        ],
        [
         "Michael",
         "Testing",
         2000,
         "2021-03-21",
         "2023-04-21",
         2023,
         4,
         21
        ],
        [
         "Tony",
         "Developer",
         4000,
         "2018-12-29",
         "2022-05-29",
         2022,
         5,
         29
        ],
        [
         "Parker",
         "Support",
         3000,
         "2015-11-04",
         "2017-09-04",
         2017,
         9,
         4
        ],
        [
         "Stephen",
         "Developer",
         4000,
         "2016-12-12",
         "2018-11-12",
         2018,
         11,
         12
        ],
        [
         "Clark",
         "Support",
         3500,
         "2023-01-04",
         "2023-09-04",
         2023,
         9,
         4
        ],
        [
         "Bruce",
         "Testing",
         3000,
         "2019-03-14",
         "2020-05-14",
         2020,
         5,
         14
        ],
        [
         "Allen",
         "Developer",
         3500,
         "2021-11-04",
         "2023-05-04",
         2023,
         5,
         4
        ],
        [
         "Loki",
         "Support",
         3000,
         "2015-11-04",
         "2015-11-04",
         2015,
         11,
         4
        ],
        [
         "Buttowski",
         "Developer",
         5000,
         "2015-11-04",
         "2017-09-04",
         2017,
         9,
         4
        ]
       ],
       "datasetInfos": [],
       "dbfsResultPath": null,
       "isJsonSchema": true,
       "metadata": {},
       "overflow": false,
       "plotOptions": {
        "customPlotOptions": {},
        "displayType": "table",
        "pivotAggregation": null,
        "pivotColumns": null,
        "xColumns": null,
        "yColumns": null
       },
       "removedWidgets": [],
       "schema": [
        {
         "metadata": "{}",
         "name": "Name",
         "type": "\"string\""
        },
        {
         "metadata": "{}",
         "name": "Role",
         "type": "\"string\""
        },
        {
         "metadata": "{}",
         "name": "Salary",
         "type": "\"long\""
        },
        {
         "metadata": "{}",
         "name": "Start Date",
         "type": "\"string\""
        },
        {
         "metadata": "{}",
         "name": "End Date",
         "type": "\"string\""
        },
        {
         "metadata": "{}",
         "name": "Year",
         "type": "\"integer\""
        },
        {
         "metadata": "{}",
         "name": "Month",
         "type": "\"integer\""
        },
        {
         "metadata": "{}",
         "name": "Day",
         "type": "\"integer\""
        }
       ],
       "type": "table"
      }
     },
     "output_type": "display_data"
    }
   ],
   "source": [
    "# to display the year,month and day of a selected date\n",
    "df.withColumn(\"Year\", year(\"End Date\")) \\\n",
    ".withColumn(\"Month\", month(\"end date\")) \\\n",
    ".withColumn(\"Day\",dayofmonth('end date')).display()"
   ]
  },
  {
   "cell_type": "code",
   "execution_count": 0,
   "metadata": {
    "application/vnd.databricks.v1+cell": {
     "cellMetadata": {
      "byteLimit": 2048000,
      "rowLimit": 10000
     },
     "inputWidgets": {},
     "nuid": "41d143fa-308b-4fdc-9e5a-5f109bf8ec72",
     "showTitle": false,
     "title": ""
    }
   },
   "outputs": [
    {
     "output_type": "display_data",
     "data": {
      "text/html": [
       "<style scoped>\n",
       "  .table-result-container {\n",
       "    max-height: 300px;\n",
       "    overflow: auto;\n",
       "  }\n",
       "  table, th, td {\n",
       "    border: 1px solid black;\n",
       "    border-collapse: collapse;\n",
       "  }\n",
       "  th, td {\n",
       "    padding: 5px;\n",
       "  }\n",
       "  th {\n",
       "    text-align: left;\n",
       "  }\n",
       "</style><div class='table-result-container'><table class='table-result'><thead style='background-color: white'><tr><th>Name</th><th>Role</th><th>Salary</th><th>Start Date</th><th>End Date</th><th>Last day</th></tr></thead><tbody><tr><td>James</td><td>Developer</td><td>3000</td><td>2019-09-03</td><td>null</td><td>null</td></tr><tr><td>Michael</td><td>Testing</td><td>2000</td><td>2021-03-21</td><td>2023-04-21</td><td>2023-04-30</td></tr><tr><td>Tony</td><td>Developer</td><td>4000</td><td>2018-12-29</td><td>2022-05-29</td><td>2022-05-31</td></tr><tr><td>Parker</td><td>Support</td><td>3000</td><td>2015-11-04</td><td>2017-09-04</td><td>2017-09-30</td></tr><tr><td>Stephen</td><td>Developer</td><td>4000</td><td>2016-12-12</td><td>2018-11-12</td><td>2018-11-30</td></tr><tr><td>Clark</td><td>Support</td><td>3500</td><td>2023-01-04</td><td>2023-09-04</td><td>2023-09-30</td></tr><tr><td>Bruce</td><td>Testing</td><td>3000</td><td>2019-03-14</td><td>2020-05-14</td><td>2020-05-31</td></tr><tr><td>Allen</td><td>Developer</td><td>3500</td><td>2021-11-04</td><td>2023-05-04</td><td>2023-05-31</td></tr><tr><td>Loki</td><td>Support</td><td>3000</td><td>2015-11-04</td><td>2015-11-04</td><td>2015-11-30</td></tr><tr><td>Buttowski</td><td>Developer</td><td>5000</td><td>2015-11-04</td><td>2017-09-04</td><td>2017-09-30</td></tr></tbody></table></div>"
      ]
     },
     "metadata": {
      "application/vnd.databricks.v1+output": {
       "addedWidgets": {},
       "aggData": [],
       "aggError": "",
       "aggOverflow": false,
       "aggSchema": [],
       "aggSeriesLimitReached": false,
       "aggType": "",
       "arguments": {},
       "columnCustomDisplayInfos": {},
       "data": [
        [
         "James",
         "Developer",
         3000,
         "2019-09-03",
         null,
         null
        ],
        [
         "Michael",
         "Testing",
         2000,
         "2021-03-21",
         "2023-04-21",
         "2023-04-30"
        ],
        [
         "Tony",
         "Developer",
         4000,
         "2018-12-29",
         "2022-05-29",
         "2022-05-31"
        ],
        [
         "Parker",
         "Support",
         3000,
         "2015-11-04",
         "2017-09-04",
         "2017-09-30"
        ],
        [
         "Stephen",
         "Developer",
         4000,
         "2016-12-12",
         "2018-11-12",
         "2018-11-30"
        ],
        [
         "Clark",
         "Support",
         3500,
         "2023-01-04",
         "2023-09-04",
         "2023-09-30"
        ],
        [
         "Bruce",
         "Testing",
         3000,
         "2019-03-14",
         "2020-05-14",
         "2020-05-31"
        ],
        [
         "Allen",
         "Developer",
         3500,
         "2021-11-04",
         "2023-05-04",
         "2023-05-31"
        ],
        [
         "Loki",
         "Support",
         3000,
         "2015-11-04",
         "2015-11-04",
         "2015-11-30"
        ],
        [
         "Buttowski",
         "Developer",
         5000,
         "2015-11-04",
         "2017-09-04",
         "2017-09-30"
        ]
       ],
       "datasetInfos": [],
       "dbfsResultPath": null,
       "isJsonSchema": true,
       "metadata": {},
       "overflow": false,
       "plotOptions": {
        "customPlotOptions": {},
        "displayType": "table",
        "pivotAggregation": null,
        "pivotColumns": null,
        "xColumns": null,
        "yColumns": null
       },
       "removedWidgets": [],
       "schema": [
        {
         "metadata": "{}",
         "name": "Name",
         "type": "\"string\""
        },
        {
         "metadata": "{}",
         "name": "Role",
         "type": "\"string\""
        },
        {
         "metadata": "{}",
         "name": "Salary",
         "type": "\"long\""
        },
        {
         "metadata": "{}",
         "name": "Start Date",
         "type": "\"string\""
        },
        {
         "metadata": "{}",
         "name": "End Date",
         "type": "\"string\""
        },
        {
         "metadata": "{}",
         "name": "Last day",
         "type": "\"date\""
        }
       ],
       "type": "table"
      }
     },
     "output_type": "display_data"
    }
   ],
   "source": [
    "# to display the last day of the month. \n",
    "df.withColumn(\"Last day\", last_day(\"end date\")).display()"
   ]
  },
  {
   "cell_type": "markdown",
   "metadata": {
    "application/vnd.databricks.v1+cell": {
     "cellMetadata": {},
     "inputWidgets": {},
     "nuid": "f53c6642-1cfe-4264-b18c-e26f7552b0c4",
     "showTitle": false,
     "title": ""
    }
   },
   "source": [
    "#### *Dayofweek()*\n",
    "Extracts the day of the week as an integer from a given date. Ranges from 1 for a Sunday through to 7 for a Saturday"
   ]
  },
  {
   "cell_type": "code",
   "execution_count": 0,
   "metadata": {
    "application/vnd.databricks.v1+cell": {
     "cellMetadata": {
      "byteLimit": 2048000,
      "rowLimit": 10000
     },
     "inputWidgets": {},
     "nuid": "5bc6eaf1-a569-4807-817c-0c85e230044e",
     "showTitle": false,
     "title": ""
    }
   },
   "outputs": [
    {
     "output_type": "display_data",
     "data": {
      "text/html": [
       "<style scoped>\n",
       "  .table-result-container {\n",
       "    max-height: 300px;\n",
       "    overflow: auto;\n",
       "  }\n",
       "  table, th, td {\n",
       "    border: 1px solid black;\n",
       "    border-collapse: collapse;\n",
       "  }\n",
       "  th, td {\n",
       "    padding: 5px;\n",
       "  }\n",
       "  th {\n",
       "    text-align: left;\n",
       "  }\n",
       "</style><div class='table-result-container'><table class='table-result'><thead style='background-color: white'><tr><th>Name</th><th>Role</th><th>Salary</th><th>Start Date</th><th>End Date</th><th>Day</th><th>Week Of The Year</th></tr></thead><tbody><tr><td>James</td><td>Developer</td><td>3000</td><td>2019-09-03</td><td>null</td><td>null</td><td>null</td></tr><tr><td>Michael</td><td>Testing</td><td>2000</td><td>2021-03-21</td><td>2023-04-21</td><td>6</td><td>16</td></tr><tr><td>Tony</td><td>Developer</td><td>4000</td><td>2018-12-29</td><td>2022-05-29</td><td>1</td><td>21</td></tr><tr><td>Parker</td><td>Support</td><td>3000</td><td>2015-11-04</td><td>2017-09-04</td><td>2</td><td>36</td></tr><tr><td>Stephen</td><td>Developer</td><td>4000</td><td>2016-12-12</td><td>2018-11-12</td><td>2</td><td>46</td></tr><tr><td>Clark</td><td>Support</td><td>3500</td><td>2023-01-04</td><td>2023-09-04</td><td>2</td><td>36</td></tr><tr><td>Bruce</td><td>Testing</td><td>3000</td><td>2019-03-14</td><td>2020-05-14</td><td>5</td><td>20</td></tr><tr><td>Allen</td><td>Developer</td><td>3500</td><td>2021-11-04</td><td>2023-05-04</td><td>5</td><td>18</td></tr><tr><td>Loki</td><td>Support</td><td>3000</td><td>2015-11-04</td><td>2015-11-04</td><td>4</td><td>45</td></tr><tr><td>Buttowski</td><td>Developer</td><td>5000</td><td>2015-11-04</td><td>2017-09-04</td><td>2</td><td>36</td></tr></tbody></table></div>"
      ]
     },
     "metadata": {
      "application/vnd.databricks.v1+output": {
       "addedWidgets": {},
       "aggData": [],
       "aggError": "",
       "aggOverflow": false,
       "aggSchema": [],
       "aggSeriesLimitReached": false,
       "aggType": "",
       "arguments": {},
       "columnCustomDisplayInfos": {},
       "data": [
        [
         "James",
         "Developer",
         3000,
         "2019-09-03",
         null,
         null,
         null
        ],
        [
         "Michael",
         "Testing",
         2000,
         "2021-03-21",
         "2023-04-21",
         6,
         16
        ],
        [
         "Tony",
         "Developer",
         4000,
         "2018-12-29",
         "2022-05-29",
         1,
         21
        ],
        [
         "Parker",
         "Support",
         3000,
         "2015-11-04",
         "2017-09-04",
         2,
         36
        ],
        [
         "Stephen",
         "Developer",
         4000,
         "2016-12-12",
         "2018-11-12",
         2,
         46
        ],
        [
         "Clark",
         "Support",
         3500,
         "2023-01-04",
         "2023-09-04",
         2,
         36
        ],
        [
         "Bruce",
         "Testing",
         3000,
         "2019-03-14",
         "2020-05-14",
         5,
         20
        ],
        [
         "Allen",
         "Developer",
         3500,
         "2021-11-04",
         "2023-05-04",
         5,
         18
        ],
        [
         "Loki",
         "Support",
         3000,
         "2015-11-04",
         "2015-11-04",
         4,
         45
        ],
        [
         "Buttowski",
         "Developer",
         5000,
         "2015-11-04",
         "2017-09-04",
         2,
         36
        ]
       ],
       "datasetInfos": [],
       "dbfsResultPath": null,
       "isJsonSchema": true,
       "metadata": {},
       "overflow": false,
       "plotOptions": {
        "customPlotOptions": {},
        "displayType": "table",
        "pivotAggregation": null,
        "pivotColumns": null,
        "xColumns": null,
        "yColumns": null
       },
       "removedWidgets": [],
       "schema": [
        {
         "metadata": "{}",
         "name": "Name",
         "type": "\"string\""
        },
        {
         "metadata": "{}",
         "name": "Role",
         "type": "\"string\""
        },
        {
         "metadata": "{}",
         "name": "Salary",
         "type": "\"long\""
        },
        {
         "metadata": "{}",
         "name": "Start Date",
         "type": "\"string\""
        },
        {
         "metadata": "{}",
         "name": "End Date",
         "type": "\"string\""
        },
        {
         "metadata": "{}",
         "name": "Day",
         "type": "\"integer\""
        },
        {
         "metadata": "{}",
         "name": "Week Of The Year",
         "type": "\"integer\""
        }
       ],
       "type": "table"
      }
     },
     "output_type": "display_data"
    }
   ],
   "source": [
    "df.withColumn(\"Day\",dayofweek('end date')).withColumn(\"Week Of The Year\",weekofyear('end date')).display()"
   ]
  },
  {
   "cell_type": "code",
   "execution_count": 0,
   "metadata": {
    "application/vnd.databricks.v1+cell": {
     "cellMetadata": {
      "byteLimit": 2048000,
      "rowLimit": 10000
     },
     "inputWidgets": {},
     "nuid": "bb17c3a2-a1ae-47af-a3f0-154570287909",
     "showTitle": false,
     "title": ""
    }
   },
   "outputs": [],
   "source": [
    "from pyspark.sql.functions import current_timestamp, hour, minute, second"
   ]
  },
  {
   "cell_type": "code",
   "execution_count": 0,
   "metadata": {
    "application/vnd.databricks.v1+cell": {
     "cellMetadata": {
      "byteLimit": 2048000,
      "rowLimit": 10000
     },
     "inputWidgets": {},
     "nuid": "e2bc0911-8d53-4a31-99e6-f6677758863f",
     "showTitle": false,
     "title": ""
    }
   },
   "outputs": [
    {
     "output_type": "display_data",
     "data": {
      "text/html": [
       "<style scoped>\n",
       "  .table-result-container {\n",
       "    max-height: 300px;\n",
       "    overflow: auto;\n",
       "  }\n",
       "  table, th, td {\n",
       "    border: 1px solid black;\n",
       "    border-collapse: collapse;\n",
       "  }\n",
       "  th, td {\n",
       "    padding: 5px;\n",
       "  }\n",
       "  th {\n",
       "    text-align: left;\n",
       "  }\n",
       "</style><div class='table-result-container'><table class='table-result'><thead style='background-color: white'><tr><th>Name</th><th>Role</th><th>Salary</th><th>Start Date</th><th>End Date</th><th>Time</th></tr></thead><tbody><tr><td>James</td><td>Developer</td><td>3000</td><td>2019-09-03</td><td>null</td><td>2023-11-27T15:15:35.675+0000</td></tr><tr><td>Michael</td><td>Testing</td><td>2000</td><td>2021-03-21</td><td>2023-04-21</td><td>2023-11-27T15:15:35.675+0000</td></tr><tr><td>Tony</td><td>Developer</td><td>4000</td><td>2018-12-29</td><td>2022-05-29</td><td>2023-11-27T15:15:35.675+0000</td></tr><tr><td>Parker</td><td>Support</td><td>3000</td><td>2015-11-04</td><td>2017-09-04</td><td>2023-11-27T15:15:35.675+0000</td></tr><tr><td>Stephen</td><td>Developer</td><td>4000</td><td>2016-12-12</td><td>2018-11-12</td><td>2023-11-27T15:15:35.675+0000</td></tr><tr><td>Clark</td><td>Support</td><td>3500</td><td>2023-01-04</td><td>2023-09-04</td><td>2023-11-27T15:15:35.675+0000</td></tr><tr><td>Bruce</td><td>Testing</td><td>3000</td><td>2019-03-14</td><td>2020-05-14</td><td>2023-11-27T15:15:35.675+0000</td></tr><tr><td>Allen</td><td>Developer</td><td>3500</td><td>2021-11-04</td><td>2023-05-04</td><td>2023-11-27T15:15:35.675+0000</td></tr><tr><td>Loki</td><td>Support</td><td>3000</td><td>2015-11-04</td><td>2015-11-04</td><td>2023-11-27T15:15:35.675+0000</td></tr><tr><td>Buttowski</td><td>Developer</td><td>5000</td><td>2015-11-04</td><td>2017-09-04</td><td>2023-11-27T15:15:35.675+0000</td></tr></tbody></table></div>"
      ]
     },
     "metadata": {
      "application/vnd.databricks.v1+output": {
       "addedWidgets": {},
       "aggData": [],
       "aggError": "",
       "aggOverflow": false,
       "aggSchema": [],
       "aggSeriesLimitReached": false,
       "aggType": "",
       "arguments": {},
       "columnCustomDisplayInfos": {},
       "data": [
        [
         "James",
         "Developer",
         3000,
         "2019-09-03",
         null,
         "2023-11-27T15:15:35.675+0000"
        ],
        [
         "Michael",
         "Testing",
         2000,
         "2021-03-21",
         "2023-04-21",
         "2023-11-27T15:15:35.675+0000"
        ],
        [
         "Tony",
         "Developer",
         4000,
         "2018-12-29",
         "2022-05-29",
         "2023-11-27T15:15:35.675+0000"
        ],
        [
         "Parker",
         "Support",
         3000,
         "2015-11-04",
         "2017-09-04",
         "2023-11-27T15:15:35.675+0000"
        ],
        [
         "Stephen",
         "Developer",
         4000,
         "2016-12-12",
         "2018-11-12",
         "2023-11-27T15:15:35.675+0000"
        ],
        [
         "Clark",
         "Support",
         3500,
         "2023-01-04",
         "2023-09-04",
         "2023-11-27T15:15:35.675+0000"
        ],
        [
         "Bruce",
         "Testing",
         3000,
         "2019-03-14",
         "2020-05-14",
         "2023-11-27T15:15:35.675+0000"
        ],
        [
         "Allen",
         "Developer",
         3500,
         "2021-11-04",
         "2023-05-04",
         "2023-11-27T15:15:35.675+0000"
        ],
        [
         "Loki",
         "Support",
         3000,
         "2015-11-04",
         "2015-11-04",
         "2023-11-27T15:15:35.675+0000"
        ],
        [
         "Buttowski",
         "Developer",
         5000,
         "2015-11-04",
         "2017-09-04",
         "2023-11-27T15:15:35.675+0000"
        ]
       ],
       "datasetInfos": [],
       "dbfsResultPath": null,
       "isJsonSchema": true,
       "metadata": {},
       "overflow": false,
       "plotOptions": {
        "customPlotOptions": {},
        "displayType": "table",
        "pivotAggregation": null,
        "pivotColumns": null,
        "xColumns": null,
        "yColumns": null
       },
       "removedWidgets": [],
       "schema": [
        {
         "metadata": "{}",
         "name": "Name",
         "type": "\"string\""
        },
        {
         "metadata": "{}",
         "name": "Role",
         "type": "\"string\""
        },
        {
         "metadata": "{}",
         "name": "Salary",
         "type": "\"long\""
        },
        {
         "metadata": "{}",
         "name": "Start Date",
         "type": "\"string\""
        },
        {
         "metadata": "{}",
         "name": "End Date",
         "type": "\"string\""
        },
        {
         "metadata": "{}",
         "name": "Time",
         "type": "\"timestamp\""
        }
       ],
       "type": "table"
      }
     },
     "output_type": "display_data"
    }
   ],
   "source": [
    "# Returns the current timestamp as a timestamp column\n",
    "df2 = df.withColumn(\"Time\", current_timestamp())\n",
    "df2.display()"
   ]
  },
  {
   "cell_type": "markdown",
   "metadata": {
    "application/vnd.databricks.v1+cell": {
     "cellMetadata": {},
     "inputWidgets": {},
     "nuid": "254566aa-05f5-4ee6-9470-7f69e7f8819a",
     "showTitle": false,
     "title": ""
    }
   },
   "source": [
    "####*-> hour(column)\tExtracts the hours as an integer from a given date.*\n",
    "####*-> minute(column)\tExtracts the minutes as an integer from a given date.*\n",
    "####*-> second(column)\tExtracts the seconds as an integer from a given date.*"
   ]
  },
  {
   "cell_type": "code",
   "execution_count": 0,
   "metadata": {
    "application/vnd.databricks.v1+cell": {
     "cellMetadata": {
      "byteLimit": 2048000,
      "rowLimit": 10000
     },
     "inputWidgets": {},
     "nuid": "84ac0159-0f11-4ee8-b0d5-dd0dbbef4cf6",
     "showTitle": false,
     "title": ""
    }
   },
   "outputs": [
    {
     "output_type": "display_data",
     "data": {
      "text/html": [
       "<style scoped>\n",
       "  .table-result-container {\n",
       "    max-height: 300px;\n",
       "    overflow: auto;\n",
       "  }\n",
       "  table, th, td {\n",
       "    border: 1px solid black;\n",
       "    border-collapse: collapse;\n",
       "  }\n",
       "  th, td {\n",
       "    padding: 5px;\n",
       "  }\n",
       "  th {\n",
       "    text-align: left;\n",
       "  }\n",
       "</style><div class='table-result-container'><table class='table-result'><thead style='background-color: white'><tr><th>Time</th><th>Hours</th><th>Minutes</th><th>Seconds</th></tr></thead><tbody><tr><td>2023-11-27T15:17:36.851+0000</td><td>15</td><td>17</td><td>36</td></tr><tr><td>2023-11-27T15:17:36.851+0000</td><td>15</td><td>17</td><td>36</td></tr><tr><td>2023-11-27T15:17:36.851+0000</td><td>15</td><td>17</td><td>36</td></tr><tr><td>2023-11-27T15:17:36.851+0000</td><td>15</td><td>17</td><td>36</td></tr><tr><td>2023-11-27T15:17:36.851+0000</td><td>15</td><td>17</td><td>36</td></tr><tr><td>2023-11-27T15:17:36.851+0000</td><td>15</td><td>17</td><td>36</td></tr><tr><td>2023-11-27T15:17:36.851+0000</td><td>15</td><td>17</td><td>36</td></tr><tr><td>2023-11-27T15:17:36.851+0000</td><td>15</td><td>17</td><td>36</td></tr><tr><td>2023-11-27T15:17:36.851+0000</td><td>15</td><td>17</td><td>36</td></tr><tr><td>2023-11-27T15:17:36.851+0000</td><td>15</td><td>17</td><td>36</td></tr></tbody></table></div>"
      ]
     },
     "metadata": {
      "application/vnd.databricks.v1+output": {
       "addedWidgets": {},
       "aggData": [],
       "aggError": "",
       "aggOverflow": false,
       "aggSchema": [],
       "aggSeriesLimitReached": false,
       "aggType": "",
       "arguments": {},
       "columnCustomDisplayInfos": {},
       "data": [
        [
         "2023-11-27T15:17:36.851+0000",
         15,
         17,
         36
        ],
        [
         "2023-11-27T15:17:36.851+0000",
         15,
         17,
         36
        ],
        [
         "2023-11-27T15:17:36.851+0000",
         15,
         17,
         36
        ],
        [
         "2023-11-27T15:17:36.851+0000",
         15,
         17,
         36
        ],
        [
         "2023-11-27T15:17:36.851+0000",
         15,
         17,
         36
        ],
        [
         "2023-11-27T15:17:36.851+0000",
         15,
         17,
         36
        ],
        [
         "2023-11-27T15:17:36.851+0000",
         15,
         17,
         36
        ],
        [
         "2023-11-27T15:17:36.851+0000",
         15,
         17,
         36
        ],
        [
         "2023-11-27T15:17:36.851+0000",
         15,
         17,
         36
        ],
        [
         "2023-11-27T15:17:36.851+0000",
         15,
         17,
         36
        ]
       ],
       "datasetInfos": [],
       "dbfsResultPath": null,
       "isJsonSchema": true,
       "metadata": {},
       "overflow": false,
       "plotOptions": {
        "customPlotOptions": {},
        "displayType": "table",
        "pivotAggregation": null,
        "pivotColumns": null,
        "xColumns": null,
        "yColumns": null
       },
       "removedWidgets": [],
       "schema": [
        {
         "metadata": "{}",
         "name": "Time",
         "type": "\"timestamp\""
        },
        {
         "metadata": "{}",
         "name": "Hours",
         "type": "\"integer\""
        },
        {
         "metadata": "{}",
         "name": "Minutes",
         "type": "\"integer\""
        },
        {
         "metadata": "{}",
         "name": "Seconds",
         "type": "\"integer\""
        }
       ],
       "type": "table"
      }
     },
     "output_type": "display_data"
    }
   ],
   "source": [
    "df2.select(\"Time\").withColumn(\"Hours\",hour(\"time\")) \\\n",
    ".withColumn(\"Minutes\",minute(\"time\")) \\\n",
    ".withColumn(\"Seconds\",second(\"time\")).display()"
   ]
  },
  {
   "cell_type": "code",
   "execution_count": 0,
   "metadata": {
    "application/vnd.databricks.v1+cell": {
     "cellMetadata": {},
     "inputWidgets": {},
     "nuid": "02db4da9-d54b-4487-9fd8-df695acd8dce",
     "showTitle": false,
     "title": ""
    }
   },
   "outputs": [],
   "source": []
  }
 ],
 "metadata": {
  "application/vnd.databricks.v1+notebook": {
   "dashboards": [],
   "language": "python",
   "notebookMetadata": {
    "pythonIndentUnit": 2
   },
   "notebookName": "Date Function",
   "widgets": {}
  }
 },
 "nbformat": 4,
 "nbformat_minor": 0
}
