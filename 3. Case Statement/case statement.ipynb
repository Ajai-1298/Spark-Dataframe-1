{
 "cells": [
  {
   "cell_type": "code",
   "execution_count": 0,
   "metadata": {
    "application/vnd.databricks.v1+cell": {
     "cellMetadata": {
      "byteLimit": 2048000,
      "rowLimit": 10000
     },
     "inputWidgets": {},
     "nuid": "3cb868e8-176c-43c8-8a0b-fd55b9766d7d",
     "showTitle": false,
     "title": ""
    }
   },
   "outputs": [],
   "source": [
    "# Creating dataframe\n",
    "\n",
    "from pyspark.sql.types import StructType, StructField, StringType, IntegerType\n",
    "\n",
    "details = [\n",
    "    (\"Virat Kholi\", 97, 84, 77, 161),\n",
    "    (\"Sachin Tendulkar\", 65, None, 65, 65),\n",
    "    (\"Ms Dhoni\", 60, 84, None, 84),\n",
    "    (\"Rishab Pant\", 88, 90, 74, 164),\n",
    "    (\"Suresh Raina\", 70, 50, 70, 120),\n",
    "    (\"Ravindra Jadeja\", 50, None, None, 0),\n",
    "]\n",
    "columns = StructType(\n",
    "    [\n",
    "        StructField(name=\"Name\", dataType=StringType()),\n",
    "        StructField(name=\"Attendence\", dataType=IntegerType()),\n",
    "        StructField(name=\"Subject_1\", dataType=StringType()),\n",
    "        StructField(name=\"Subject_2\", dataType=StringType()),\n",
    "        StructField(name=\"Total\", dataType=StringType()),\n",
    "    ]\n",
    ")"
   ]
  },
  {
   "cell_type": "code",
   "execution_count": 0,
   "metadata": {
    "application/vnd.databricks.v1+cell": {
     "cellMetadata": {
      "byteLimit": 2048000,
      "rowLimit": 10000
     },
     "inputWidgets": {},
     "nuid": "f5f491b5-237e-44b5-babe-a27b71b1b4c2",
     "showTitle": false,
     "title": ""
    }
   },
   "outputs": [],
   "source": [
    "df=spark.createDataFrame(details,columns)"
   ]
  },
  {
   "cell_type": "code",
   "execution_count": 0,
   "metadata": {
    "application/vnd.databricks.v1+cell": {
     "cellMetadata": {
      "byteLimit": 2048000,
      "rowLimit": 10000
     },
     "inputWidgets": {},
     "nuid": "3c29758a-e5b8-4359-9c1e-107ba3f75755",
     "showTitle": false,
     "title": ""
    }
   },
   "outputs": [
    {
     "output_type": "stream",
     "name": "stdout",
     "output_type": "stream",
     "text": [
      "root\n |-- Name: string (nullable = true)\n |-- Attendence: integer (nullable = true)\n |-- Subject_1: string (nullable = true)\n |-- Subject_2: string (nullable = true)\n |-- Total: string (nullable = true)\n\n"
     ]
    }
   ],
   "source": [
    "df.printSchema()"
   ]
  },
  {
   "cell_type": "code",
   "execution_count": 0,
   "metadata": {
    "application/vnd.databricks.v1+cell": {
     "cellMetadata": {
      "byteLimit": 2048000,
      "rowLimit": 10000
     },
     "inputWidgets": {},
     "nuid": "610149ee-860a-478e-9416-84e46cae85c6",
     "showTitle": false,
     "title": ""
    }
   },
   "outputs": [
    {
     "output_type": "display_data",
     "data": {
      "text/html": [
       "<style scoped>\n",
       "  .table-result-container {\n",
       "    max-height: 300px;\n",
       "    overflow: auto;\n",
       "  }\n",
       "  table, th, td {\n",
       "    border: 1px solid black;\n",
       "    border-collapse: collapse;\n",
       "  }\n",
       "  th, td {\n",
       "    padding: 5px;\n",
       "  }\n",
       "  th {\n",
       "    text-align: left;\n",
       "  }\n",
       "</style><div class='table-result-container'><table class='table-result'><thead style='background-color: white'><tr><th>Name</th><th>Attendence</th><th>Subject_1</th><th>Subject_2</th><th>Total</th></tr></thead><tbody><tr><td>Virat Kholi</td><td>97</td><td>84</td><td>77</td><td>161</td></tr><tr><td>Sachin Tendulkar</td><td>65</td><td>null</td><td>65</td><td>65</td></tr><tr><td>Ms Dhoni</td><td>60</td><td>84</td><td>null</td><td>84</td></tr><tr><td>Rishab Pant</td><td>88</td><td>90</td><td>74</td><td>164</td></tr><tr><td>Suresh Raina</td><td>70</td><td>50</td><td>70</td><td>120</td></tr><tr><td>Ravindra Jadeja</td><td>50</td><td>null</td><td>null</td><td>0</td></tr></tbody></table></div>"
      ]
     },
     "metadata": {
      "application/vnd.databricks.v1+output": {
       "addedWidgets": {},
       "aggData": [],
       "aggError": "",
       "aggOverflow": false,
       "aggSchema": [],
       "aggSeriesLimitReached": false,
       "aggType": "",
       "arguments": {},
       "columnCustomDisplayInfos": {},
       "data": [
        [
         "Virat Kholi",
         97,
         "84",
         "77",
         "161"
        ],
        [
         "Sachin Tendulkar",
         65,
         null,
         "65",
         "65"
        ],
        [
         "Ms Dhoni",
         60,
         "84",
         null,
         "84"
        ],
        [
         "Rishab Pant",
         88,
         "90",
         "74",
         "164"
        ],
        [
         "Suresh Raina",
         70,
         "50",
         "70",
         "120"
        ],
        [
         "Ravindra Jadeja",
         50,
         null,
         null,
         "0"
        ]
       ],
       "datasetInfos": [],
       "dbfsResultPath": null,
       "isJsonSchema": true,
       "metadata": {},
       "overflow": false,
       "plotOptions": {
        "customPlotOptions": {},
        "displayType": "table",
        "pivotAggregation": null,
        "pivotColumns": null,
        "xColumns": null,
        "yColumns": null
       },
       "removedWidgets": [],
       "schema": [
        {
         "metadata": "{}",
         "name": "Name",
         "type": "\"string\""
        },
        {
         "metadata": "{}",
         "name": "Attendence",
         "type": "\"integer\""
        },
        {
         "metadata": "{}",
         "name": "Subject_1",
         "type": "\"string\""
        },
        {
         "metadata": "{}",
         "name": "Subject_2",
         "type": "\"string\""
        },
        {
         "metadata": "{}",
         "name": "Total",
         "type": "\"string\""
        }
       ],
       "type": "table"
      }
     },
     "output_type": "display_data"
    }
   ],
   "source": [
    "df.display()"
   ]
  },
  {
   "cell_type": "code",
   "execution_count": 0,
   "metadata": {
    "application/vnd.databricks.v1+cell": {
     "cellMetadata": {
      "byteLimit": 2048000,
      "rowLimit": 10000
     },
     "inputWidgets": {},
     "nuid": "4441d2ad-9f77-44bb-835f-b7db16528e29",
     "showTitle": false,
     "title": ""
    }
   },
   "outputs": [
    {
     "output_type": "display_data",
     "data": {
      "text/html": [
       "<style scoped>\n",
       "  .table-result-container {\n",
       "    max-height: 300px;\n",
       "    overflow: auto;\n",
       "  }\n",
       "  table, th, td {\n",
       "    border: 1px solid black;\n",
       "    border-collapse: collapse;\n",
       "  }\n",
       "  th, td {\n",
       "    padding: 5px;\n",
       "  }\n",
       "  th {\n",
       "    text-align: left;\n",
       "  }\n",
       "</style><div class='table-result-container'><table class='table-result'><thead style='background-color: white'><tr><th>Name</th><th>Attendence</th><th>Subject_1</th><th>Subject_2</th><th>Total</th></tr></thead><tbody><tr><td>Virat Kholi</td><td>97</td><td>84</td><td>77</td><td>161</td></tr><tr><td>Sachin Tendulkar</td><td>65</td><td>Absent</td><td>65</td><td>65</td></tr><tr><td>Ms Dhoni</td><td>60</td><td>84</td><td>Absent</td><td>84</td></tr><tr><td>Rishab Pant</td><td>88</td><td>90</td><td>74</td><td>164</td></tr><tr><td>Suresh Raina</td><td>70</td><td>50</td><td>70</td><td>120</td></tr><tr><td>Ravindra Jadeja</td><td>50</td><td>Absent</td><td>Absent</td><td>0</td></tr></tbody></table></div>"
      ]
     },
     "metadata": {
      "application/vnd.databricks.v1+output": {
       "addedWidgets": {},
       "aggData": [],
       "aggError": "",
       "aggOverflow": false,
       "aggSchema": [],
       "aggSeriesLimitReached": false,
       "aggType": "",
       "arguments": {},
       "columnCustomDisplayInfos": {},
       "data": [
        [
         "Virat Kholi",
         97,
         "84",
         "77",
         "161"
        ],
        [
         "Sachin Tendulkar",
         65,
         "Absent",
         "65",
         "65"
        ],
        [
         "Ms Dhoni",
         60,
         "84",
         "Absent",
         "84"
        ],
        [
         "Rishab Pant",
         88,
         "90",
         "74",
         "164"
        ],
        [
         "Suresh Raina",
         70,
         "50",
         "70",
         "120"
        ],
        [
         "Ravindra Jadeja",
         50,
         "Absent",
         "Absent",
         "0"
        ]
       ],
       "datasetInfos": [],
       "dbfsResultPath": null,
       "isJsonSchema": true,
       "metadata": {},
       "overflow": false,
       "plotOptions": {
        "customPlotOptions": {},
        "displayType": "table",
        "pivotAggregation": null,
        "pivotColumns": null,
        "xColumns": null,
        "yColumns": null
       },
       "removedWidgets": [],
       "schema": [
        {
         "metadata": "{}",
         "name": "Name",
         "type": "\"string\""
        },
        {
         "metadata": "{}",
         "name": "Attendence",
         "type": "\"integer\""
        },
        {
         "metadata": "{}",
         "name": "Subject_1",
         "type": "\"string\""
        },
        {
         "metadata": "{}",
         "name": "Subject_2",
         "type": "\"string\""
        },
        {
         "metadata": "{}",
         "name": "Total",
         "type": "\"string\""
        }
       ],
       "type": "table"
      }
     },
     "output_type": "display_data"
    }
   ],
   "source": [
    "# replacing NULL values with a string.\n",
    "df1=df.fillna(\"Absent\")\n",
    "df1.display()"
   ]
  },
  {
   "cell_type": "markdown",
   "metadata": {
    "application/vnd.databricks.v1+cell": {
     "cellMetadata": {},
     "inputWidgets": {},
     "nuid": "391ced97-7aa3-45a6-965f-2f295eb90816",
     "showTitle": false,
     "title": ""
    }
   },
   "source": [
    "### *CASE STATEMENT ( WHEN() OTHERWISE() )*\n",
    "\n",
    "PySpark When Otherwise – The when() is a SQL function that returns a Column type, and otherwise() is a Column function. If otherwise() is not used, it returns the None/NULL\n",
    "value.   \n",
    "It will go through a condition and if it matches means the result present in When() will be executed or else it will go to the otherwise(). Same concept as if else and switch statement in programming language.          "
   ]
  },
  {
   "cell_type": "code",
   "execution_count": 0,
   "metadata": {
    "application/vnd.databricks.v1+cell": {
     "cellMetadata": {
      "byteLimit": 2048000,
      "rowLimit": 10000
     },
     "inputWidgets": {},
     "nuid": "47c0a065-55bf-45be-8529-dabf06aae04b",
     "showTitle": false,
     "title": ""
    }
   },
   "outputs": [
    {
     "output_type": "display_data",
     "data": {
      "text/html": [
       "<style scoped>\n",
       "  .table-result-container {\n",
       "    max-height: 300px;\n",
       "    overflow: auto;\n",
       "  }\n",
       "  table, th, td {\n",
       "    border: 1px solid black;\n",
       "    border-collapse: collapse;\n",
       "  }\n",
       "  th, td {\n",
       "    padding: 5px;\n",
       "  }\n",
       "  th {\n",
       "    text-align: left;\n",
       "  }\n",
       "</style><div class='table-result-container'><table class='table-result'><thead style='background-color: white'><tr><th>Name</th><th>Attendence</th><th>Subject_1</th><th>Subject_2</th><th>Total</th><th>status</th></tr></thead><tbody><tr><td>Virat Kholi</td><td>97</td><td>84</td><td>77</td><td>161</td><td>Pass</td></tr><tr><td>Sachin Tendulkar</td><td>65</td><td>Absent</td><td>65</td><td>65</td><td>Fail</td></tr><tr><td>Ms Dhoni</td><td>60</td><td>84</td><td>Absent</td><td>84</td><td>Fail</td></tr><tr><td>Rishab Pant</td><td>88</td><td>90</td><td>74</td><td>164</td><td>Pass</td></tr><tr><td>Suresh Raina</td><td>70</td><td>50</td><td>70</td><td>120</td><td>Pass</td></tr><tr><td>Ravindra Jadeja</td><td>50</td><td>Absent</td><td>Absent</td><td>0</td><td>Fail</td></tr></tbody></table></div>"
      ]
     },
     "metadata": {
      "application/vnd.databricks.v1+output": {
       "addedWidgets": {},
       "aggData": [],
       "aggError": "",
       "aggOverflow": false,
       "aggSchema": [],
       "aggSeriesLimitReached": false,
       "aggType": "",
       "arguments": {},
       "columnCustomDisplayInfos": {},
       "data": [
        [
         "Virat Kholi",
         97,
         "84",
         "77",
         "161",
         "Pass"
        ],
        [
         "Sachin Tendulkar",
         65,
         "Absent",
         "65",
         "65",
         "Fail"
        ],
        [
         "Ms Dhoni",
         60,
         "84",
         "Absent",
         "84",
         "Fail"
        ],
        [
         "Rishab Pant",
         88,
         "90",
         "74",
         "164",
         "Pass"
        ],
        [
         "Suresh Raina",
         70,
         "50",
         "70",
         "120",
         "Pass"
        ],
        [
         "Ravindra Jadeja",
         50,
         "Absent",
         "Absent",
         "0",
         "Fail"
        ]
       ],
       "datasetInfos": [],
       "dbfsResultPath": null,
       "isJsonSchema": true,
       "metadata": {},
       "overflow": false,
       "plotOptions": {
        "customPlotOptions": {},
        "displayType": "table",
        "pivotAggregation": null,
        "pivotColumns": null,
        "xColumns": null,
        "yColumns": null
       },
       "removedWidgets": [],
       "schema": [
        {
         "metadata": "{}",
         "name": "Name",
         "type": "\"string\""
        },
        {
         "metadata": "{}",
         "name": "Attendence",
         "type": "\"integer\""
        },
        {
         "metadata": "{}",
         "name": "Subject_1",
         "type": "\"string\""
        },
        {
         "metadata": "{}",
         "name": "Subject_2",
         "type": "\"string\""
        },
        {
         "metadata": "{}",
         "name": "Total",
         "type": "\"string\""
        },
        {
         "metadata": "{}",
         "name": "status",
         "type": "\"string\""
        }
       ],
       "type": "table"
      }
     },
     "output_type": "display_data"
    }
   ],
   "source": [
    "from pyspark.sql.functions import when\n",
    "\n",
    "df1.withColumn(\n",
    "    \"status\",\n",
    "    when(df1.Total >= 100, \"Pass\").when(df1.Total < 100, \"Fail\")\n",
    ").display()"
   ]
  },
  {
   "cell_type": "code",
   "execution_count": 0,
   "metadata": {
    "application/vnd.databricks.v1+cell": {
     "cellMetadata": {
      "byteLimit": 2048000,
      "rowLimit": 10000
     },
     "inputWidgets": {},
     "nuid": "1e45fbda-250f-43af-a33b-c225bcd398c5",
     "showTitle": false,
     "title": ""
    }
   },
   "outputs": [
    {
     "output_type": "display_data",
     "data": {
      "text/html": [
       "<style scoped>\n",
       "  .table-result-container {\n",
       "    max-height: 300px;\n",
       "    overflow: auto;\n",
       "  }\n",
       "  table, th, td {\n",
       "    border: 1px solid black;\n",
       "    border-collapse: collapse;\n",
       "  }\n",
       "  th, td {\n",
       "    padding: 5px;\n",
       "  }\n",
       "  th {\n",
       "    text-align: left;\n",
       "  }\n",
       "</style><div class='table-result-container'><table class='table-result'><thead style='background-color: white'><tr><th>Name</th><th>Attendence</th><th>Subject_1</th><th>Subject_2</th><th>Total</th><th>Grade</th></tr></thead><tbody><tr><td>Virat Kholi</td><td>97</td><td>84</td><td>77</td><td>161</td><td>Distinction</td></tr><tr><td>Sachin Tendulkar</td><td>65</td><td>Absent</td><td>65</td><td>65</td><td>Okay</td></tr><tr><td>Ms Dhoni</td><td>60</td><td>84</td><td>Absent</td><td>84</td><td>Okay</td></tr><tr><td>Rishab Pant</td><td>88</td><td>90</td><td>74</td><td>164</td><td>Good</td></tr><tr><td>Suresh Raina</td><td>70</td><td>50</td><td>70</td><td>120</td><td>Average</td></tr><tr><td>Ravindra Jadeja</td><td>50</td><td>Absent</td><td>Absent</td><td>0</td><td>Absent</td></tr></tbody></table></div>"
      ]
     },
     "metadata": {
      "application/vnd.databricks.v1+output": {
       "addedWidgets": {},
       "aggData": [],
       "aggError": "",
       "aggOverflow": false,
       "aggSchema": [],
       "aggSeriesLimitReached": false,
       "aggType": "",
       "arguments": {},
       "columnCustomDisplayInfos": {},
       "data": [
        [
         "Virat Kholi",
         97,
         "84",
         "77",
         "161",
         "Distinction"
        ],
        [
         "Sachin Tendulkar",
         65,
         "Absent",
         "65",
         "65",
         "Okay"
        ],
        [
         "Ms Dhoni",
         60,
         "84",
         "Absent",
         "84",
         "Okay"
        ],
        [
         "Rishab Pant",
         88,
         "90",
         "74",
         "164",
         "Good"
        ],
        [
         "Suresh Raina",
         70,
         "50",
         "70",
         "120",
         "Average"
        ],
        [
         "Ravindra Jadeja",
         50,
         "Absent",
         "Absent",
         "0",
         "Absent"
        ]
       ],
       "datasetInfos": [],
       "dbfsResultPath": null,
       "isJsonSchema": true,
       "metadata": {},
       "overflow": false,
       "plotOptions": {
        "customPlotOptions": {},
        "displayType": "table",
        "pivotAggregation": null,
        "pivotColumns": null,
        "xColumns": null,
        "yColumns": null
       },
       "removedWidgets": [],
       "schema": [
        {
         "metadata": "{}",
         "name": "Name",
         "type": "\"string\""
        },
        {
         "metadata": "{}",
         "name": "Attendence",
         "type": "\"integer\""
        },
        {
         "metadata": "{}",
         "name": "Subject_1",
         "type": "\"string\""
        },
        {
         "metadata": "{}",
         "name": "Subject_2",
         "type": "\"string\""
        },
        {
         "metadata": "{}",
         "name": "Total",
         "type": "\"string\""
        },
        {
         "metadata": "{}",
         "name": "Grade",
         "type": "\"string\""
        }
       ],
       "type": "table"
      }
     },
     "output_type": "display_data"
    }
   ],
   "source": [
    "# We can give more than one condion to validate using AND,OR.\n",
    "\n",
    "df1.withColumn(\n",
    "    \"Grade\",\n",
    "    when((df1.Attendence > 90) & (df1.Total > 150), \"Distinction\")\n",
    "    .when((df1.Attendence > 80) & (df1.Total > 130), \"Good\")\n",
    "    .when((df1.Attendence < 70) & (df1.Total < 100) & (df1.Total > 0), \"Okay\")\n",
    "    .when(df1.Total == 0, \"Absent\")\n",
    "    .otherwise(\"Average\"),\n",
    ").display()"
   ]
  },
  {
   "cell_type": "markdown",
   "metadata": {
    "application/vnd.databricks.v1+cell": {
     "cellMetadata": {},
     "inputWidgets": {},
     "nuid": "0bea676a-a973-4301-8d50-528baafdb73b",
     "showTitle": false,
     "title": ""
    }
   },
   "source": [
    "#### *SPLIT()*\n",
    "Split method is used to split the record from a specific column i.e, if we have a Name column and both first name and last name are mentioned in the same column itself\n",
    "so we can to seperate it using split()"
   ]
  },
  {
   "cell_type": "code",
   "execution_count": 0,
   "metadata": {
    "application/vnd.databricks.v1+cell": {
     "cellMetadata": {
      "byteLimit": 2048000,
      "rowLimit": 10000
     },
     "inputWidgets": {},
     "nuid": "691d7e7e-2d77-46da-83e6-8130edabca63",
     "showTitle": false,
     "title": ""
    }
   },
   "outputs": [
    {
     "output_type": "display_data",
     "data": {
      "text/html": [
       "<style scoped>\n",
       "  .table-result-container {\n",
       "    max-height: 300px;\n",
       "    overflow: auto;\n",
       "  }\n",
       "  table, th, td {\n",
       "    border: 1px solid black;\n",
       "    border-collapse: collapse;\n",
       "  }\n",
       "  th, td {\n",
       "    padding: 5px;\n",
       "  }\n",
       "  th {\n",
       "    text-align: left;\n",
       "  }\n",
       "</style><div class='table-result-container'><table class='table-result'><thead style='background-color: white'><tr><th>Name</th><th>Attendence</th><th>Subject_1</th><th>Subject_2</th><th>Total</th><th>First_Name</th><th>Last_Name</th></tr></thead><tbody><tr><td>Virat Kholi</td><td>97</td><td>84</td><td>77</td><td>161</td><td>Virat</td><td>Kholi</td></tr><tr><td>Sachin Tendulkar</td><td>65</td><td>Absent</td><td>65</td><td>65</td><td>Sachin</td><td>Tendulkar</td></tr><tr><td>Ms Dhoni</td><td>60</td><td>84</td><td>Absent</td><td>84</td><td>Ms</td><td>Dhoni</td></tr><tr><td>Rishab Pant</td><td>88</td><td>90</td><td>74</td><td>164</td><td>Rishab</td><td>Pant</td></tr><tr><td>Suresh Raina</td><td>70</td><td>50</td><td>70</td><td>120</td><td>Suresh</td><td>Raina</td></tr><tr><td>Ravindra Jadeja</td><td>50</td><td>Absent</td><td>Absent</td><td>0</td><td>Ravindra</td><td>Jadeja</td></tr></tbody></table></div>"
      ]
     },
     "metadata": {
      "application/vnd.databricks.v1+output": {
       "addedWidgets": {},
       "aggData": [],
       "aggError": "",
       "aggOverflow": false,
       "aggSchema": [],
       "aggSeriesLimitReached": false,
       "aggType": "",
       "arguments": {},
       "columnCustomDisplayInfos": {},
       "data": [
        [
         "Virat Kholi",
         97,
         "84",
         "77",
         "161",
         "Virat",
         "Kholi"
        ],
        [
         "Sachin Tendulkar",
         65,
         "Absent",
         "65",
         "65",
         "Sachin",
         "Tendulkar"
        ],
        [
         "Ms Dhoni",
         60,
         "84",
         "Absent",
         "84",
         "Ms",
         "Dhoni"
        ],
        [
         "Rishab Pant",
         88,
         "90",
         "74",
         "164",
         "Rishab",
         "Pant"
        ],
        [
         "Suresh Raina",
         70,
         "50",
         "70",
         "120",
         "Suresh",
         "Raina"
        ],
        [
         "Ravindra Jadeja",
         50,
         "Absent",
         "Absent",
         "0",
         "Ravindra",
         "Jadeja"
        ]
       ],
       "datasetInfos": [],
       "dbfsResultPath": null,
       "isJsonSchema": true,
       "metadata": {},
       "overflow": false,
       "plotOptions": {
        "customPlotOptions": {},
        "displayType": "table",
        "pivotAggregation": null,
        "pivotColumns": null,
        "xColumns": null,
        "yColumns": null
       },
       "removedWidgets": [],
       "schema": [
        {
         "metadata": "{}",
         "name": "Name",
         "type": "\"string\""
        },
        {
         "metadata": "{}",
         "name": "Attendence",
         "type": "\"integer\""
        },
        {
         "metadata": "{}",
         "name": "Subject_1",
         "type": "\"string\""
        },
        {
         "metadata": "{}",
         "name": "Subject_2",
         "type": "\"string\""
        },
        {
         "metadata": "{}",
         "name": "Total",
         "type": "\"string\""
        },
        {
         "metadata": "{}",
         "name": "First_Name",
         "type": "\"string\""
        },
        {
         "metadata": "{}",
         "name": "Last_Name",
         "type": "\"string\""
        }
       ],
       "type": "table"
      }
     },
     "output_type": "display_data"
    }
   ],
   "source": [
    "from pyspark.sql.functions import split\n",
    "\n",
    "data = (\n",
    "    df1.withColumn(\"First_Name\", split(df1[\"Name\"], \" \").getItem(0))\n",
    "    .withColumn(\"Last_Name\", split(df1[\"Name\"], \" \").getItem(1)) \n",
    ")\n",
    "data.display()"
   ]
  },
  {
   "cell_type": "markdown",
   "metadata": {
    "application/vnd.databricks.v1+cell": {
     "cellMetadata": {},
     "inputWidgets": {},
     "nuid": "31190f0f-14f2-4a46-bc51-ae709e246ead",
     "showTitle": false,
     "title": ""
    }
   },
   "source": [
    "#### *CONCAT()*\n",
    "\n",
    "concat() function of Pyspark SQL is used to concatenate multiple DataFrame columns into a single column. It can also be used to concatenate column types string,\n",
    "binary, and compatible array columns."
   ]
  },
  {
   "cell_type": "code",
   "execution_count": 0,
   "metadata": {
    "application/vnd.databricks.v1+cell": {
     "cellMetadata": {
      "byteLimit": 2048000,
      "rowLimit": 10000
     },
     "inputWidgets": {},
     "nuid": "45377a4c-bf61-4f5d-a8d9-2d97b5d73fce",
     "showTitle": false,
     "title": ""
    }
   },
   "outputs": [
    {
     "output_type": "display_data",
     "data": {
      "text/html": [
       "<style scoped>\n",
       "  .table-result-container {\n",
       "    max-height: 300px;\n",
       "    overflow: auto;\n",
       "  }\n",
       "  table, th, td {\n",
       "    border: 1px solid black;\n",
       "    border-collapse: collapse;\n",
       "  }\n",
       "  th, td {\n",
       "    padding: 5px;\n",
       "  }\n",
       "  th {\n",
       "    text-align: left;\n",
       "  }\n",
       "</style><div class='table-result-container'><table class='table-result'><thead style='background-color: white'><tr><th>Name</th><th>Attendence</th><th>Subject_1</th><th>Subject_2</th><th>Total</th><th>First_Name</th><th>Last_Name</th><th>Full_Name</th></tr></thead><tbody><tr><td>Virat Kholi</td><td>97</td><td>84</td><td>77</td><td>161</td><td>Virat</td><td>Kholi</td><td>ViratKholi</td></tr><tr><td>Sachin Tendulkar</td><td>65</td><td>Absent</td><td>65</td><td>65</td><td>Sachin</td><td>Tendulkar</td><td>SachinTendulkar</td></tr><tr><td>Ms Dhoni</td><td>60</td><td>84</td><td>Absent</td><td>84</td><td>Ms</td><td>Dhoni</td><td>MsDhoni</td></tr><tr><td>Rishab Pant</td><td>88</td><td>90</td><td>74</td><td>164</td><td>Rishab</td><td>Pant</td><td>RishabPant</td></tr><tr><td>Suresh Raina</td><td>70</td><td>50</td><td>70</td><td>120</td><td>Suresh</td><td>Raina</td><td>SureshRaina</td></tr><tr><td>Ravindra Jadeja</td><td>50</td><td>Absent</td><td>Absent</td><td>0</td><td>Ravindra</td><td>Jadeja</td><td>RavindraJadeja</td></tr></tbody></table></div>"
      ]
     },
     "metadata": {
      "application/vnd.databricks.v1+output": {
       "addedWidgets": {},
       "aggData": [],
       "aggError": "",
       "aggOverflow": false,
       "aggSchema": [],
       "aggSeriesLimitReached": false,
       "aggType": "",
       "arguments": {},
       "columnCustomDisplayInfos": {},
       "data": [
        [
         "Virat Kholi",
         97,
         "84",
         "77",
         "161",
         "Virat",
         "Kholi",
         "ViratKholi"
        ],
        [
         "Sachin Tendulkar",
         65,
         "Absent",
         "65",
         "65",
         "Sachin",
         "Tendulkar",
         "SachinTendulkar"
        ],
        [
         "Ms Dhoni",
         60,
         "84",
         "Absent",
         "84",
         "Ms",
         "Dhoni",
         "MsDhoni"
        ],
        [
         "Rishab Pant",
         88,
         "90",
         "74",
         "164",
         "Rishab",
         "Pant",
         "RishabPant"
        ],
        [
         "Suresh Raina",
         70,
         "50",
         "70",
         "120",
         "Suresh",
         "Raina",
         "SureshRaina"
        ],
        [
         "Ravindra Jadeja",
         50,
         "Absent",
         "Absent",
         "0",
         "Ravindra",
         "Jadeja",
         "RavindraJadeja"
        ]
       ],
       "datasetInfos": [],
       "dbfsResultPath": null,
       "isJsonSchema": true,
       "metadata": {},
       "overflow": false,
       "plotOptions": {
        "customPlotOptions": {},
        "displayType": "table",
        "pivotAggregation": null,
        "pivotColumns": null,
        "xColumns": null,
        "yColumns": null
       },
       "removedWidgets": [],
       "schema": [
        {
         "metadata": "{}",
         "name": "Name",
         "type": "\"string\""
        },
        {
         "metadata": "{}",
         "name": "Attendence",
         "type": "\"integer\""
        },
        {
         "metadata": "{}",
         "name": "Subject_1",
         "type": "\"string\""
        },
        {
         "metadata": "{}",
         "name": "Subject_2",
         "type": "\"string\""
        },
        {
         "metadata": "{}",
         "name": "Total",
         "type": "\"string\""
        },
        {
         "metadata": "{}",
         "name": "First_Name",
         "type": "\"string\""
        },
        {
         "metadata": "{}",
         "name": "Last_Name",
         "type": "\"string\""
        },
        {
         "metadata": "{}",
         "name": "Full_Name",
         "type": "\"string\""
        }
       ],
       "type": "table"
      }
     },
     "output_type": "display_data"
    }
   ],
   "source": [
    "from pyspark.sql.functions import concat\n",
    "\n",
    "data.select(\"*\", concat(data.First_Name, data.Last_Name).alias(\"Full_Name\")).display()"
   ]
  },
  {
   "cell_type": "markdown",
   "metadata": {
    "application/vnd.databricks.v1+cell": {
     "cellMetadata": {},
     "inputWidgets": {},
     "nuid": "39735352-83e7-4154-bde2-d8bf24d4a265",
     "showTitle": false,
     "title": ""
    }
   },
   "source": [
    "#### *CONCAT_WS()*\n",
    "\n",
    "concat_ws() function of Pyspark concatenates multiple string columns into a single column with a given separator or delimiter."
   ]
  },
  {
   "cell_type": "code",
   "execution_count": 0,
   "metadata": {
    "application/vnd.databricks.v1+cell": {
     "cellMetadata": {
      "byteLimit": 2048000,
      "rowLimit": 10000
     },
     "inputWidgets": {},
     "nuid": "46c952d4-ef63-4360-b4c0-1a42b685d2a5",
     "showTitle": false,
     "title": ""
    }
   },
   "outputs": [
    {
     "output_type": "display_data",
     "data": {
      "text/html": [
       "<style scoped>\n",
       "  .table-result-container {\n",
       "    max-height: 300px;\n",
       "    overflow: auto;\n",
       "  }\n",
       "  table, th, td {\n",
       "    border: 1px solid black;\n",
       "    border-collapse: collapse;\n",
       "  }\n",
       "  th, td {\n",
       "    padding: 5px;\n",
       "  }\n",
       "  th {\n",
       "    text-align: left;\n",
       "  }\n",
       "</style><div class='table-result-container'><table class='table-result'><thead style='background-color: white'><tr><th>Name</th><th>Attendence</th><th>Subject_1</th><th>Subject_2</th><th>Total</th><th>First_Name</th><th>Last_Name</th><th>Full_Name</th></tr></thead><tbody><tr><td>Virat Kholi</td><td>97</td><td>84</td><td>77</td><td>161</td><td>Virat</td><td>Kholi</td><td>Virat Kholi</td></tr><tr><td>Sachin Tendulkar</td><td>65</td><td>Absent</td><td>65</td><td>65</td><td>Sachin</td><td>Tendulkar</td><td>Sachin Tendulkar</td></tr><tr><td>Ms Dhoni</td><td>60</td><td>84</td><td>Absent</td><td>84</td><td>Ms</td><td>Dhoni</td><td>Ms Dhoni</td></tr><tr><td>Rishab Pant</td><td>88</td><td>90</td><td>74</td><td>164</td><td>Rishab</td><td>Pant</td><td>Rishab Pant</td></tr><tr><td>Suresh Raina</td><td>70</td><td>50</td><td>70</td><td>120</td><td>Suresh</td><td>Raina</td><td>Suresh Raina</td></tr><tr><td>Ravindra Jadeja</td><td>50</td><td>Absent</td><td>Absent</td><td>0</td><td>Ravindra</td><td>Jadeja</td><td>Ravindra Jadeja</td></tr></tbody></table></div>"
      ]
     },
     "metadata": {
      "application/vnd.databricks.v1+output": {
       "addedWidgets": {},
       "aggData": [],
       "aggError": "",
       "aggOverflow": false,
       "aggSchema": [],
       "aggSeriesLimitReached": false,
       "aggType": "",
       "arguments": {},
       "columnCustomDisplayInfos": {},
       "data": [
        [
         "Virat Kholi",
         97,
         "84",
         "77",
         "161",
         "Virat",
         "Kholi",
         "Virat Kholi"
        ],
        [
         "Sachin Tendulkar",
         65,
         "Absent",
         "65",
         "65",
         "Sachin",
         "Tendulkar",
         "Sachin Tendulkar"
        ],
        [
         "Ms Dhoni",
         60,
         "84",
         "Absent",
         "84",
         "Ms",
         "Dhoni",
         "Ms Dhoni"
        ],
        [
         "Rishab Pant",
         88,
         "90",
         "74",
         "164",
         "Rishab",
         "Pant",
         "Rishab Pant"
        ],
        [
         "Suresh Raina",
         70,
         "50",
         "70",
         "120",
         "Suresh",
         "Raina",
         "Suresh Raina"
        ],
        [
         "Ravindra Jadeja",
         50,
         "Absent",
         "Absent",
         "0",
         "Ravindra",
         "Jadeja",
         "Ravindra Jadeja"
        ]
       ],
       "datasetInfos": [],
       "dbfsResultPath": null,
       "isJsonSchema": true,
       "metadata": {},
       "overflow": false,
       "plotOptions": {
        "customPlotOptions": {},
        "displayType": "table",
        "pivotAggregation": null,
        "pivotColumns": null,
        "xColumns": null,
        "yColumns": null
       },
       "removedWidgets": [],
       "schema": [
        {
         "metadata": "{}",
         "name": "Name",
         "type": "\"string\""
        },
        {
         "metadata": "{}",
         "name": "Attendence",
         "type": "\"integer\""
        },
        {
         "metadata": "{}",
         "name": "Subject_1",
         "type": "\"string\""
        },
        {
         "metadata": "{}",
         "name": "Subject_2",
         "type": "\"string\""
        },
        {
         "metadata": "{}",
         "name": "Total",
         "type": "\"string\""
        },
        {
         "metadata": "{}",
         "name": "First_Name",
         "type": "\"string\""
        },
        {
         "metadata": "{}",
         "name": "Last_Name",
         "type": "\"string\""
        },
        {
         "metadata": "{}",
         "name": "Full_Name",
         "type": "\"string\""
        }
       ],
       "type": "table"
      }
     },
     "output_type": "display_data"
    }
   ],
   "source": [
    "from pyspark.sql.functions import concat_ws\n",
    "\n",
    "data.select(\n",
    "    \"*\", concat_ws(\" \", data.First_Name, data.Last_Name).alias(\"Full_Name\")\n",
    ").display()"
   ]
  },
  {
   "cell_type": "code",
   "execution_count": 0,
   "metadata": {
    "application/vnd.databricks.v1+cell": {
     "cellMetadata": {},
     "inputWidgets": {},
     "nuid": "963c6d82-e454-4086-b99a-425d22d7d07e",
     "showTitle": false,
     "title": ""
    }
   },
   "outputs": [],
   "source": []
  }
 ],
 "metadata": {
  "application/vnd.databricks.v1+notebook": {
   "dashboards": [],
   "language": "python",
   "notebookMetadata": {
    "pythonIndentUnit": 2
   },
   "notebookName": "case statement",
   "widgets": {}
  }
 },
 "nbformat": 4,
 "nbformat_minor": 0
}
