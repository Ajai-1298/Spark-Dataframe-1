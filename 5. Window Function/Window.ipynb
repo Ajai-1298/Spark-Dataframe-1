{
 "cells": [
  {
   "cell_type": "markdown",
   "metadata": {
    "application/vnd.databricks.v1+cell": {
     "cellMetadata": {},
     "inputWidgets": {},
     "nuid": "80cf9142-f4ef-4115-9f3f-de9d0e968278",
     "showTitle": false,
     "title": ""
    }
   },
   "source": [
    "### *Window Function()*\n",
    "PySpark Window function performs statistical operations such as rank, row number, etc. on a group, frame, or collection of rows and returns results for each row \n",
    "individually.It is also popularly growing to perform data transformations. We will understand the concept of window functions, syntax, and finally how to use them with PySpark \n",
    "SQL and PySpark DataFrame API. \n",
    "\n",
    "### *Ranking Function*\n",
    "The function returns the statistical rank of a given value for each row in a partition or group. The goal of this function is to provide consecutive numbering of \n",
    "the rows in the resultant column, set by the order selected in the Window.partition for each partition specified in the OVER clause.\n",
    "E.g. row_number(), rank(), dense_rank(), etc."
   ]
  },
  {
   "cell_type": "code",
   "execution_count": 0,
   "metadata": {
    "application/vnd.databricks.v1+cell": {
     "cellMetadata": {
      "byteLimit": 2048000,
      "rowLimit": 10000
     },
     "inputWidgets": {},
     "nuid": "9789090f-78fc-4722-975b-f0bbae17d94d",
     "showTitle": false,
     "title": ""
    }
   },
   "outputs": [],
   "source": [
    "# Creating Dataframe\n",
    "\n",
    "data = [\n",
    "    (\"James\", \"Developer\", 3000),\n",
    "    (\"Michael\", \"Testing\", 2000),\n",
    "    (\"Tony\", \"Developer\", 4000),\n",
    "    (\"Parker\", \"Support\", 3000),\n",
    "    (\"Stephen\", \"Developer\", 4000),\n",
    "    (\"Clark\", \"Support\", 3500),\n",
    "    (\"Bruce\", \"Testing\", 3000),\n",
    "    (\"Allen\", \"Developer\", 3500),\n",
    "    (\"Loki\", \"Support\", 3000),\n",
    "    (\"Buttowski\", \"Developer\", 5000),\n",
    "]\n",
    "\n",
    "schema = [\"Name\", \"Role\", \"Salary\"]"
   ]
  },
  {
   "cell_type": "code",
   "execution_count": 0,
   "metadata": {
    "application/vnd.databricks.v1+cell": {
     "cellMetadata": {
      "byteLimit": 2048000,
      "rowLimit": 10000
     },
     "inputWidgets": {},
     "nuid": "49a3ddc2-ea56-400f-aa4e-533919a71e50",
     "showTitle": false,
     "title": ""
    }
   },
   "outputs": [],
   "source": [
    "df = spark.createDataFrame(data, schema)"
   ]
  },
  {
   "cell_type": "code",
   "execution_count": 0,
   "metadata": {
    "application/vnd.databricks.v1+cell": {
     "cellMetadata": {
      "byteLimit": 2048000,
      "rowLimit": 10000
     },
     "inputWidgets": {},
     "nuid": "e26a618c-d2a9-4f5a-a4aa-cee8e61226d6",
     "showTitle": false,
     "title": ""
    }
   },
   "outputs": [
    {
     "output_type": "display_data",
     "data": {
      "text/html": [
       "<style scoped>\n",
       "  .table-result-container {\n",
       "    max-height: 300px;\n",
       "    overflow: auto;\n",
       "  }\n",
       "  table, th, td {\n",
       "    border: 1px solid black;\n",
       "    border-collapse: collapse;\n",
       "  }\n",
       "  th, td {\n",
       "    padding: 5px;\n",
       "  }\n",
       "  th {\n",
       "    text-align: left;\n",
       "  }\n",
       "</style><div class='table-result-container'><table class='table-result'><thead style='background-color: white'><tr><th>Name</th><th>Role</th><th>Salary</th></tr></thead><tbody><tr><td>James</td><td>Developer</td><td>3000</td></tr><tr><td>Michael</td><td>Testing</td><td>2000</td></tr><tr><td>Tony</td><td>Developer</td><td>4000</td></tr><tr><td>Parker</td><td>Support</td><td>3000</td></tr><tr><td>Stephen</td><td>Developer</td><td>4000</td></tr><tr><td>Clark</td><td>Support</td><td>3500</td></tr><tr><td>Bruce</td><td>Testing</td><td>3000</td></tr><tr><td>Allen</td><td>Developer</td><td>3500</td></tr><tr><td>Loki</td><td>Support</td><td>3000</td></tr><tr><td>Buttowski</td><td>Developer</td><td>5000</td></tr></tbody></table></div>"
      ]
     },
     "metadata": {
      "application/vnd.databricks.v1+output": {
       "addedWidgets": {},
       "aggData": [],
       "aggError": "",
       "aggOverflow": false,
       "aggSchema": [],
       "aggSeriesLimitReached": false,
       "aggType": "",
       "arguments": {},
       "columnCustomDisplayInfos": {},
       "data": [
        [
         "James",
         "Developer",
         3000
        ],
        [
         "Michael",
         "Testing",
         2000
        ],
        [
         "Tony",
         "Developer",
         4000
        ],
        [
         "Parker",
         "Support",
         3000
        ],
        [
         "Stephen",
         "Developer",
         4000
        ],
        [
         "Clark",
         "Support",
         3500
        ],
        [
         "Bruce",
         "Testing",
         3000
        ],
        [
         "Allen",
         "Developer",
         3500
        ],
        [
         "Loki",
         "Support",
         3000
        ],
        [
         "Buttowski",
         "Developer",
         5000
        ]
       ],
       "datasetInfos": [],
       "dbfsResultPath": null,
       "isJsonSchema": true,
       "metadata": {},
       "overflow": false,
       "plotOptions": {
        "customPlotOptions": {},
        "displayType": "table",
        "pivotAggregation": null,
        "pivotColumns": null,
        "xColumns": null,
        "yColumns": null
       },
       "removedWidgets": [],
       "schema": [
        {
         "metadata": "{}",
         "name": "Name",
         "type": "\"string\""
        },
        {
         "metadata": "{}",
         "name": "Role",
         "type": "\"string\""
        },
        {
         "metadata": "{}",
         "name": "Salary",
         "type": "\"long\""
        }
       ],
       "type": "table"
      }
     },
     "output_type": "display_data"
    }
   ],
   "source": [
    "df.display()"
   ]
  },
  {
   "cell_type": "code",
   "execution_count": 0,
   "metadata": {
    "application/vnd.databricks.v1+cell": {
     "cellMetadata": {
      "byteLimit": 2048000,
      "rowLimit": 10000
     },
     "inputWidgets": {},
     "nuid": "09ceaa01-41f0-417e-8975-c54e64be8a30",
     "showTitle": false,
     "title": ""
    }
   },
   "outputs": [],
   "source": [
    "from pyspark.sql.window import Window"
   ]
  },
  {
   "cell_type": "markdown",
   "metadata": {
    "application/vnd.databricks.v1+cell": {
     "cellMetadata": {},
     "inputWidgets": {},
     "nuid": "0be51232-48e5-4146-981c-e6cd4038491a",
     "showTitle": false,
     "title": ""
    }
   },
   "source": [
    "#### *To perform window function operation on a group of rows first, we need to partition i.e. define the group of data rows using window.partition() function, and for row number and rank function we need to additionally order by on partition data using ORDER BY clause.* "
   ]
  },
  {
   "cell_type": "code",
   "execution_count": 0,
   "metadata": {
    "application/vnd.databricks.v1+cell": {
     "cellMetadata": {
      "byteLimit": 2048000,
      "rowLimit": 10000
     },
     "inputWidgets": {},
     "nuid": "8c7b8ac9-b85b-491d-b0d6-d8c241591c32",
     "showTitle": false,
     "title": ""
    }
   },
   "outputs": [],
   "source": [
    "window = Window.partitionBy(\"Role\").orderBy(\"Salary\")"
   ]
  },
  {
   "cell_type": "code",
   "execution_count": 0,
   "metadata": {
    "application/vnd.databricks.v1+cell": {
     "cellMetadata": {
      "byteLimit": 2048000,
      "rowLimit": 10000
     },
     "inputWidgets": {},
     "nuid": "132812fd-91b0-4de2-9ef9-a988f84ff983",
     "showTitle": false,
     "title": ""
    }
   },
   "outputs": [],
   "source": [
    "from pyspark.sql.functions import row_number, rank, dense_rank, percent_rank, cume_dist"
   ]
  },
  {
   "cell_type": "markdown",
   "metadata": {
    "application/vnd.databricks.v1+cell": {
     "cellMetadata": {},
     "inputWidgets": {},
     "nuid": "153a553c-1521-460b-b1ea-9e6c8c079a44",
     "showTitle": false,
     "title": ""
    }
   },
   "source": [
    "#### *row_number().*\n",
    "row_number() function is used to gives a sequential number to each row present in the table. "
   ]
  },
  {
   "cell_type": "code",
   "execution_count": 0,
   "metadata": {
    "application/vnd.databricks.v1+cell": {
     "cellMetadata": {
      "byteLimit": 2048000,
      "rowLimit": 10000
     },
     "inputWidgets": {},
     "nuid": "2b497969-5797-4bec-8a9f-60bc34aa5c76",
     "showTitle": false,
     "title": ""
    }
   },
   "outputs": [
    {
     "output_type": "display_data",
     "data": {
      "text/html": [
       "<style scoped>\n",
       "  .table-result-container {\n",
       "    max-height: 300px;\n",
       "    overflow: auto;\n",
       "  }\n",
       "  table, th, td {\n",
       "    border: 1px solid black;\n",
       "    border-collapse: collapse;\n",
       "  }\n",
       "  th, td {\n",
       "    padding: 5px;\n",
       "  }\n",
       "  th {\n",
       "    text-align: left;\n",
       "  }\n",
       "</style><div class='table-result-container'><table class='table-result'><thead style='background-color: white'><tr><th>Name</th><th>Role</th><th>Salary</th><th>Row_number</th></tr></thead><tbody><tr><td>James</td><td>Developer</td><td>3000</td><td>1</td></tr><tr><td>Allen</td><td>Developer</td><td>3500</td><td>2</td></tr><tr><td>Tony</td><td>Developer</td><td>4000</td><td>3</td></tr><tr><td>Stephen</td><td>Developer</td><td>4000</td><td>4</td></tr><tr><td>Buttowski</td><td>Developer</td><td>5000</td><td>5</td></tr><tr><td>Parker</td><td>Support</td><td>3000</td><td>1</td></tr><tr><td>Loki</td><td>Support</td><td>3000</td><td>2</td></tr><tr><td>Clark</td><td>Support</td><td>3500</td><td>3</td></tr><tr><td>Michael</td><td>Testing</td><td>2000</td><td>1</td></tr><tr><td>Bruce</td><td>Testing</td><td>3000</td><td>2</td></tr></tbody></table></div>"
      ]
     },
     "metadata": {
      "application/vnd.databricks.v1+output": {
       "addedWidgets": {},
       "aggData": [],
       "aggError": "",
       "aggOverflow": false,
       "aggSchema": [],
       "aggSeriesLimitReached": false,
       "aggType": "",
       "arguments": {},
       "columnCustomDisplayInfos": {},
       "data": [
        [
         "James",
         "Developer",
         3000,
         1
        ],
        [
         "Allen",
         "Developer",
         3500,
         2
        ],
        [
         "Tony",
         "Developer",
         4000,
         3
        ],
        [
         "Stephen",
         "Developer",
         4000,
         4
        ],
        [
         "Buttowski",
         "Developer",
         5000,
         5
        ],
        [
         "Parker",
         "Support",
         3000,
         1
        ],
        [
         "Loki",
         "Support",
         3000,
         2
        ],
        [
         "Clark",
         "Support",
         3500,
         3
        ],
        [
         "Michael",
         "Testing",
         2000,
         1
        ],
        [
         "Bruce",
         "Testing",
         3000,
         2
        ]
       ],
       "datasetInfos": [],
       "dbfsResultPath": null,
       "isJsonSchema": true,
       "metadata": {},
       "overflow": false,
       "plotOptions": {
        "customPlotOptions": {},
        "displayType": "table",
        "pivotAggregation": null,
        "pivotColumns": null,
        "xColumns": null,
        "yColumns": null
       },
       "removedWidgets": [],
       "schema": [
        {
         "metadata": "{}",
         "name": "Name",
         "type": "\"string\""
        },
        {
         "metadata": "{}",
         "name": "Role",
         "type": "\"string\""
        },
        {
         "metadata": "{}",
         "name": "Salary",
         "type": "\"long\""
        },
        {
         "metadata": "{}",
         "name": "Row_number",
         "type": "\"integer\""
        }
       ],
       "type": "table"
      }
     },
     "output_type": "display_data"
    }
   ],
   "source": [
    "# row_number()\n",
    "df.withColumn(\"Row_number\", row_number().over(window)).display()"
   ]
  },
  {
   "cell_type": "markdown",
   "metadata": {
    "application/vnd.databricks.v1+cell": {
     "cellMetadata": {},
     "inputWidgets": {},
     "nuid": "8d05da69-98cb-4677-97f7-90555190f3f7",
     "showTitle": false,
     "title": ""
    }
   },
   "source": [
    "#### *rank()*\n",
    "The rank function is used to give ranks to rows specified in the window partition. This function leaves gaps in rank if there are ties."
   ]
  },
  {
   "cell_type": "code",
   "execution_count": 0,
   "metadata": {
    "application/vnd.databricks.v1+cell": {
     "cellMetadata": {
      "byteLimit": 2048000,
      "rowLimit": 10000
     },
     "inputWidgets": {},
     "nuid": "0f440281-f21e-4eec-88ac-9cb51562c351",
     "showTitle": false,
     "title": ""
    }
   },
   "outputs": [
    {
     "output_type": "display_data",
     "data": {
      "text/html": [
       "<style scoped>\n",
       "  .table-result-container {\n",
       "    max-height: 300px;\n",
       "    overflow: auto;\n",
       "  }\n",
       "  table, th, td {\n",
       "    border: 1px solid black;\n",
       "    border-collapse: collapse;\n",
       "  }\n",
       "  th, td {\n",
       "    padding: 5px;\n",
       "  }\n",
       "  th {\n",
       "    text-align: left;\n",
       "  }\n",
       "</style><div class='table-result-container'><table class='table-result'><thead style='background-color: white'><tr><th>Name</th><th>Role</th><th>Salary</th><th>rank</th></tr></thead><tbody><tr><td>James</td><td>Developer</td><td>3000</td><td>1</td></tr><tr><td>Allen</td><td>Developer</td><td>3500</td><td>2</td></tr><tr><td>Tony</td><td>Developer</td><td>4000</td><td>3</td></tr><tr><td>Stephen</td><td>Developer</td><td>4000</td><td>3</td></tr><tr><td>Buttowski</td><td>Developer</td><td>5000</td><td>5</td></tr><tr><td>Parker</td><td>Support</td><td>3000</td><td>1</td></tr><tr><td>Loki</td><td>Support</td><td>3000</td><td>1</td></tr><tr><td>Clark</td><td>Support</td><td>3500</td><td>3</td></tr><tr><td>Michael</td><td>Testing</td><td>2000</td><td>1</td></tr><tr><td>Bruce</td><td>Testing</td><td>3000</td><td>2</td></tr></tbody></table></div>"
      ]
     },
     "metadata": {
      "application/vnd.databricks.v1+output": {
       "addedWidgets": {},
       "aggData": [],
       "aggError": "",
       "aggOverflow": false,
       "aggSchema": [],
       "aggSeriesLimitReached": false,
       "aggType": "",
       "arguments": {},
       "columnCustomDisplayInfos": {},
       "data": [
        [
         "James",
         "Developer",
         3000,
         1
        ],
        [
         "Allen",
         "Developer",
         3500,
         2
        ],
        [
         "Tony",
         "Developer",
         4000,
         3
        ],
        [
         "Stephen",
         "Developer",
         4000,
         3
        ],
        [
         "Buttowski",
         "Developer",
         5000,
         5
        ],
        [
         "Parker",
         "Support",
         3000,
         1
        ],
        [
         "Loki",
         "Support",
         3000,
         1
        ],
        [
         "Clark",
         "Support",
         3500,
         3
        ],
        [
         "Michael",
         "Testing",
         2000,
         1
        ],
        [
         "Bruce",
         "Testing",
         3000,
         2
        ]
       ],
       "datasetInfos": [],
       "dbfsResultPath": null,
       "isJsonSchema": true,
       "metadata": {},
       "overflow": false,
       "plotOptions": {
        "customPlotOptions": {},
        "displayType": "table",
        "pivotAggregation": null,
        "pivotColumns": null,
        "xColumns": null,
        "yColumns": null
       },
       "removedWidgets": [],
       "schema": [
        {
         "metadata": "{}",
         "name": "Name",
         "type": "\"string\""
        },
        {
         "metadata": "{}",
         "name": "Role",
         "type": "\"string\""
        },
        {
         "metadata": "{}",
         "name": "Salary",
         "type": "\"long\""
        },
        {
         "metadata": "{}",
         "name": "rank",
         "type": "\"integer\""
        }
       ],
       "type": "table"
      }
     },
     "output_type": "display_data"
    }
   ],
   "source": [
    "# rank() \n",
    "df.withColumn(\"rank\", rank().over(window)).display()"
   ]
  },
  {
   "cell_type": "markdown",
   "metadata": {
    "application/vnd.databricks.v1+cell": {
     "cellMetadata": {},
     "inputWidgets": {},
     "nuid": "eb6868d8-4e44-4061-ab15-3e611943c01d",
     "showTitle": false,
     "title": ""
    }
   },
   "source": [
    "#### *dense_rank()*\n",
    "This function is used to get the rank of each row in the form of row numbers. This is similar to rank() function, there is only one difference the rank function leaves gaps in rank when there are ties. Here it won't leave any gaps between number if there are repeated values present."
   ]
  },
  {
   "cell_type": "code",
   "execution_count": 0,
   "metadata": {
    "application/vnd.databricks.v1+cell": {
     "cellMetadata": {
      "byteLimit": 2048000,
      "rowLimit": 10000
     },
     "inputWidgets": {},
     "nuid": "a44d0c5d-078e-4dea-b166-543aa6dee31c",
     "showTitle": false,
     "title": ""
    }
   },
   "outputs": [
    {
     "output_type": "display_data",
     "data": {
      "text/html": [
       "<style scoped>\n",
       "  .table-result-container {\n",
       "    max-height: 300px;\n",
       "    overflow: auto;\n",
       "  }\n",
       "  table, th, td {\n",
       "    border: 1px solid black;\n",
       "    border-collapse: collapse;\n",
       "  }\n",
       "  th, td {\n",
       "    padding: 5px;\n",
       "  }\n",
       "  th {\n",
       "    text-align: left;\n",
       "  }\n",
       "</style><div class='table-result-container'><table class='table-result'><thead style='background-color: white'><tr><th>Name</th><th>Role</th><th>Salary</th><th>dense_rank</th></tr></thead><tbody><tr><td>James</td><td>Developer</td><td>3000</td><td>1</td></tr><tr><td>Allen</td><td>Developer</td><td>3500</td><td>2</td></tr><tr><td>Tony</td><td>Developer</td><td>4000</td><td>3</td></tr><tr><td>Stephen</td><td>Developer</td><td>4000</td><td>3</td></tr><tr><td>Buttowski</td><td>Developer</td><td>5000</td><td>4</td></tr><tr><td>Parker</td><td>Support</td><td>3000</td><td>1</td></tr><tr><td>Loki</td><td>Support</td><td>3000</td><td>1</td></tr><tr><td>Clark</td><td>Support</td><td>3500</td><td>2</td></tr><tr><td>Michael</td><td>Testing</td><td>2000</td><td>1</td></tr><tr><td>Bruce</td><td>Testing</td><td>3000</td><td>2</td></tr></tbody></table></div>"
      ]
     },
     "metadata": {
      "application/vnd.databricks.v1+output": {
       "addedWidgets": {},
       "aggData": [],
       "aggError": "",
       "aggOverflow": false,
       "aggSchema": [],
       "aggSeriesLimitReached": false,
       "aggType": "",
       "arguments": {},
       "columnCustomDisplayInfos": {},
       "data": [
        [
         "James",
         "Developer",
         3000,
         1
        ],
        [
         "Allen",
         "Developer",
         3500,
         2
        ],
        [
         "Tony",
         "Developer",
         4000,
         3
        ],
        [
         "Stephen",
         "Developer",
         4000,
         3
        ],
        [
         "Buttowski",
         "Developer",
         5000,
         4
        ],
        [
         "Parker",
         "Support",
         3000,
         1
        ],
        [
         "Loki",
         "Support",
         3000,
         1
        ],
        [
         "Clark",
         "Support",
         3500,
         2
        ],
        [
         "Michael",
         "Testing",
         2000,
         1
        ],
        [
         "Bruce",
         "Testing",
         3000,
         2
        ]
       ],
       "datasetInfos": [],
       "dbfsResultPath": null,
       "isJsonSchema": true,
       "metadata": {},
       "overflow": false,
       "plotOptions": {
        "customPlotOptions": {},
        "displayType": "table",
        "pivotAggregation": null,
        "pivotColumns": null,
        "xColumns": null,
        "yColumns": null
       },
       "removedWidgets": [],
       "schema": [
        {
         "metadata": "{}",
         "name": "Name",
         "type": "\"string\""
        },
        {
         "metadata": "{}",
         "name": "Role",
         "type": "\"string\""
        },
        {
         "metadata": "{}",
         "name": "Salary",
         "type": "\"long\""
        },
        {
         "metadata": "{}",
         "name": "dense_rank",
         "type": "\"integer\""
        }
       ],
       "type": "table"
      }
     },
     "output_type": "display_data"
    }
   ],
   "source": [
    "# dense_rank() \n",
    "df.withColumn(\"dense_rank\", dense_rank().over(window)).display()"
   ]
  },
  {
   "cell_type": "code",
   "execution_count": 0,
   "metadata": {
    "application/vnd.databricks.v1+cell": {
     "cellMetadata": {
      "byteLimit": 2048000,
      "rowLimit": 10000
     },
     "inputWidgets": {},
     "nuid": "efc588ac-1b90-4dbb-be2d-7655dbadb847",
     "showTitle": false,
     "title": ""
    }
   },
   "outputs": [
    {
     "output_type": "display_data",
     "data": {
      "text/html": [
       "<style scoped>\n",
       "  .table-result-container {\n",
       "    max-height: 300px;\n",
       "    overflow: auto;\n",
       "  }\n",
       "  table, th, td {\n",
       "    border: 1px solid black;\n",
       "    border-collapse: collapse;\n",
       "  }\n",
       "  th, td {\n",
       "    padding: 5px;\n",
       "  }\n",
       "  th {\n",
       "    text-align: left;\n",
       "  }\n",
       "</style><div class='table-result-container'><table class='table-result'><thead style='background-color: white'><tr><th>Name</th><th>Role</th><th>Salary</th><th>percent_rank</th></tr></thead><tbody><tr><td>James</td><td>Developer</td><td>3000</td><td>0.0</td></tr><tr><td>Allen</td><td>Developer</td><td>3500</td><td>0.25</td></tr><tr><td>Tony</td><td>Developer</td><td>4000</td><td>0.5</td></tr><tr><td>Stephen</td><td>Developer</td><td>4000</td><td>0.5</td></tr><tr><td>Buttowski</td><td>Developer</td><td>5000</td><td>1.0</td></tr><tr><td>Parker</td><td>Support</td><td>3000</td><td>0.0</td></tr><tr><td>Loki</td><td>Support</td><td>3000</td><td>0.0</td></tr><tr><td>Clark</td><td>Support</td><td>3500</td><td>1.0</td></tr><tr><td>Michael</td><td>Testing</td><td>2000</td><td>0.0</td></tr><tr><td>Bruce</td><td>Testing</td><td>3000</td><td>1.0</td></tr></tbody></table></div>"
      ]
     },
     "metadata": {
      "application/vnd.databricks.v1+output": {
       "addedWidgets": {},
       "aggData": [],
       "aggError": "",
       "aggOverflow": false,
       "aggSchema": [],
       "aggSeriesLimitReached": false,
       "aggType": "",
       "arguments": {},
       "columnCustomDisplayInfos": {},
       "data": [
        [
         "James",
         "Developer",
         3000,
         0.0
        ],
        [
         "Allen",
         "Developer",
         3500,
         0.25
        ],
        [
         "Tony",
         "Developer",
         4000,
         0.5
        ],
        [
         "Stephen",
         "Developer",
         4000,
         0.5
        ],
        [
         "Buttowski",
         "Developer",
         5000,
         1.0
        ],
        [
         "Parker",
         "Support",
         3000,
         0.0
        ],
        [
         "Loki",
         "Support",
         3000,
         0.0
        ],
        [
         "Clark",
         "Support",
         3500,
         1.0
        ],
        [
         "Michael",
         "Testing",
         2000,
         0.0
        ],
        [
         "Bruce",
         "Testing",
         3000,
         1.0
        ]
       ],
       "datasetInfos": [],
       "dbfsResultPath": null,
       "isJsonSchema": true,
       "metadata": {},
       "overflow": false,
       "plotOptions": {
        "customPlotOptions": {},
        "displayType": "table",
        "pivotAggregation": null,
        "pivotColumns": null,
        "xColumns": null,
        "yColumns": null
       },
       "removedWidgets": [],
       "schema": [
        {
         "metadata": "{}",
         "name": "Name",
         "type": "\"string\""
        },
        {
         "metadata": "{}",
         "name": "Role",
         "type": "\"string\""
        },
        {
         "metadata": "{}",
         "name": "Salary",
         "type": "\"long\""
        },
        {
         "metadata": "{}",
         "name": "percent_rank",
         "type": "\"double\""
        }
       ],
       "type": "table"
      }
     },
     "output_type": "display_data"
    }
   ],
   "source": [
    "#percent_rank() Calculates the relative rank of each row in a window partition as a value between 0 and 1.\n",
    "\n",
    "df.withColumn(\"percent_rank\",percent_rank().over(window)).display()"
   ]
  },
  {
   "cell_type": "code",
   "execution_count": 0,
   "metadata": {
    "application/vnd.databricks.v1+cell": {
     "cellMetadata": {
      "byteLimit": 2048000,
      "rowLimit": 10000
     },
     "inputWidgets": {},
     "nuid": "970af19e-e816-4863-950f-9ce10f7801ba",
     "showTitle": false,
     "title": ""
    }
   },
   "outputs": [
    {
     "output_type": "display_data",
     "data": {
      "text/html": [
       "<style scoped>\n",
       "  .table-result-container {\n",
       "    max-height: 300px;\n",
       "    overflow: auto;\n",
       "  }\n",
       "  table, th, td {\n",
       "    border: 1px solid black;\n",
       "    border-collapse: collapse;\n",
       "  }\n",
       "  th, td {\n",
       "    padding: 5px;\n",
       "  }\n",
       "  th {\n",
       "    text-align: left;\n",
       "  }\n",
       "</style><div class='table-result-container'><table class='table-result'><thead style='background-color: white'><tr><th>Name</th><th>Role</th><th>Salary</th><th>cume_dist</th></tr></thead><tbody><tr><td>James</td><td>Developer</td><td>3000</td><td>0.2</td></tr><tr><td>Allen</td><td>Developer</td><td>3500</td><td>0.4</td></tr><tr><td>Tony</td><td>Developer</td><td>4000</td><td>0.8</td></tr><tr><td>Stephen</td><td>Developer</td><td>4000</td><td>0.8</td></tr><tr><td>Buttowski</td><td>Developer</td><td>5000</td><td>1.0</td></tr><tr><td>Parker</td><td>Support</td><td>3000</td><td>0.6666666666666666</td></tr><tr><td>Loki</td><td>Support</td><td>3000</td><td>0.6666666666666666</td></tr><tr><td>Clark</td><td>Support</td><td>3500</td><td>1.0</td></tr><tr><td>Michael</td><td>Testing</td><td>2000</td><td>0.5</td></tr><tr><td>Bruce</td><td>Testing</td><td>3000</td><td>1.0</td></tr></tbody></table></div>"
      ]
     },
     "metadata": {
      "application/vnd.databricks.v1+output": {
       "addedWidgets": {},
       "aggData": [],
       "aggError": "",
       "aggOverflow": false,
       "aggSchema": [],
       "aggSeriesLimitReached": false,
       "aggType": "",
       "arguments": {},
       "columnCustomDisplayInfos": {},
       "data": [
        [
         "James",
         "Developer",
         3000,
         0.2
        ],
        [
         "Allen",
         "Developer",
         3500,
         0.4
        ],
        [
         "Tony",
         "Developer",
         4000,
         0.8
        ],
        [
         "Stephen",
         "Developer",
         4000,
         0.8
        ],
        [
         "Buttowski",
         "Developer",
         5000,
         1.0
        ],
        [
         "Parker",
         "Support",
         3000,
         0.6666666666666666
        ],
        [
         "Loki",
         "Support",
         3000,
         0.6666666666666666
        ],
        [
         "Clark",
         "Support",
         3500,
         1.0
        ],
        [
         "Michael",
         "Testing",
         2000,
         0.5
        ],
        [
         "Bruce",
         "Testing",
         3000,
         1.0
        ]
       ],
       "datasetInfos": [],
       "dbfsResultPath": null,
       "isJsonSchema": true,
       "metadata": {},
       "overflow": false,
       "plotOptions": {
        "customPlotOptions": {},
        "displayType": "table",
        "pivotAggregation": null,
        "pivotColumns": null,
        "xColumns": null,
        "yColumns": null
       },
       "removedWidgets": [],
       "schema": [
        {
         "metadata": "{}",
         "name": "Name",
         "type": "\"string\""
        },
        {
         "metadata": "{}",
         "name": "Role",
         "type": "\"string\""
        },
        {
         "metadata": "{}",
         "name": "Salary",
         "type": "\"long\""
        },
        {
         "metadata": "{}",
         "name": "cume_dist",
         "type": "\"double\""
        }
       ],
       "type": "table"
      }
     },
     "output_type": "display_data"
    }
   ],
   "source": [
    "#cume_dist() window function is used to get the cumulative distribution of values within a window partition.\n",
    "\n",
    "df.withColumn(\"cume_dist\", cume_dist().over(window)).display()"
   ]
  },
  {
   "cell_type": "code",
   "execution_count": 0,
   "metadata": {
    "application/vnd.databricks.v1+cell": {
     "cellMetadata": {},
     "inputWidgets": {},
     "nuid": "cc2a41f8-2805-4e7e-935f-d923a32baa25",
     "showTitle": false,
     "title": ""
    }
   },
   "outputs": [],
   "source": []
  }
 ],
 "metadata": {
  "application/vnd.databricks.v1+notebook": {
   "dashboards": [],
   "language": "python",
   "notebookMetadata": {
    "pythonIndentUnit": 2
   },
   "notebookName": "Window",
   "widgets": {}
  }
 },
 "nbformat": 4,
 "nbformat_minor": 0
}
