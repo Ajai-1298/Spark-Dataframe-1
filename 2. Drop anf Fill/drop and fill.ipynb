{
 "cells": [
  {
   "cell_type": "markdown",
   "metadata": {
    "application/vnd.databricks.v1+cell": {
     "cellMetadata": {
      "byteLimit": 2048000,
      "rowLimit": 10000
     },
     "inputWidgets": {},
     "nuid": "98134a5f-db90-42c3-b8e0-07facd519e2e",
     "showTitle": false,
     "title": ""
    }
   },
   "source": [
    "### FILLNA()/NA.FILL()\n",
    "While working with Spark DataFrames, many operations that we typically perform over them may return null values in some of the records. From that point onwards, some other \n",
    "operations may result in error if null/empty values are observed and thus we have to somehow replace these values in order to keep processing a DataFrame.\n",
    "\n",
    "The replacement of null values in PySpark DataFrames is one of the most common operations undertaken. This can be achieved by using either DataFrame.fillna() or \n",
    "DataFrame.na.fill() methods.\n",
    "\n",
    "### DROPNA()\n",
    "While dealing with a big size Dataframe which consists of many rows and columns they also consist of many NULL or None values at some row or column, or some of the rows are \n",
    "totally NULL or None. So in this case, if we apply an operation on the same Dataframe that contains many NULL or None values then we will not get the correct or desired output \n",
    "from that Dataframe. For getting the correct output from the Dataframe we have to clean it, which means we have to make Dataframe free of NULL or None values. "
   ]
  },
  {
   "cell_type": "code",
   "execution_count": 0,
   "metadata": {
    "application/vnd.databricks.v1+cell": {
     "cellMetadata": {
      "byteLimit": 2048000,
      "rowLimit": 10000
     },
     "inputWidgets": {},
     "nuid": "46b4f619-a582-42eb-9b69-0e590b4df408",
     "showTitle": false,
     "title": ""
    }
   },
   "outputs": [],
   "source": [
    "# Creating dataframe\n",
    "\n",
    "from pyspark.sql.types import StructType, StructField, StringType, IntegerType\n",
    "\n",
    "details = [\n",
    "    (\"Virat Kholi\", 97, 84, 77, 161),\n",
    "    (\"Sachin Tendulkar\", 65, None, 65, 65),\n",
    "    (\"Ms Dhoni\", 60, 84, None, 84),\n",
    "    (\"Rishab Pant\", 88, 90, 74, 164),\n",
    "    (\"Suresh Raina\", 70, 50, 70, 120),\n",
    "    (\"Ravindra Jadeja\", 50, None, None, 0),\n",
    "]\n",
    "columns = StructType(\n",
    "    [\n",
    "        StructField(name=\"Name\", dataType=StringType()),\n",
    "        StructField(name=\"Attendence\", dataType=IntegerType()),\n",
    "        StructField(name=\"Subject_1\", dataType=StringType()),\n",
    "        StructField(name=\"Subject_2\", dataType=StringType()),\n",
    "        StructField(name=\"Total\", dataType=StringType()),\n",
    "    ]\n",
    ")"
   ]
  },
  {
   "cell_type": "code",
   "execution_count": 0,
   "metadata": {
    "application/vnd.databricks.v1+cell": {
     "cellMetadata": {
      "byteLimit": 2048000,
      "rowLimit": 10000
     },
     "inputWidgets": {},
     "nuid": "d6bab018-fcaf-458e-bd8f-8418e14df43e",
     "showTitle": false,
     "title": ""
    }
   },
   "outputs": [],
   "source": [
    "df=spark.createDataFrame(details,columns)"
   ]
  },
  {
   "cell_type": "code",
   "execution_count": 0,
   "metadata": {
    "application/vnd.databricks.v1+cell": {
     "cellMetadata": {
      "byteLimit": 2048000,
      "rowLimit": 10000
     },
     "inputWidgets": {},
     "nuid": "14de7434-76c6-49c9-b1a8-c108c4df9789",
     "showTitle": false,
     "title": ""
    }
   },
   "outputs": [
    {
     "output_type": "stream",
     "name": "stdout",
     "output_type": "stream",
     "text": [
      "root\n |-- Name: string (nullable = true)\n |-- Attendence: integer (nullable = true)\n |-- Subject_1: string (nullable = true)\n |-- Subject_2: string (nullable = true)\n |-- Total: string (nullable = true)\n\n"
     ]
    }
   ],
   "source": [
    "df.printSchema()\n"
   ]
  },
  {
   "cell_type": "code",
   "execution_count": 0,
   "metadata": {
    "application/vnd.databricks.v1+cell": {
     "cellMetadata": {
      "byteLimit": 2048000,
      "rowLimit": 10000
     },
     "inputWidgets": {},
     "nuid": "df089166-5f5f-49a8-bfaa-d2522c44c7ef",
     "showTitle": false,
     "title": ""
    }
   },
   "outputs": [
    {
     "output_type": "display_data",
     "data": {
      "text/html": [
       "<style scoped>\n",
       "  .table-result-container {\n",
       "    max-height: 300px;\n",
       "    overflow: auto;\n",
       "  }\n",
       "  table, th, td {\n",
       "    border: 1px solid black;\n",
       "    border-collapse: collapse;\n",
       "  }\n",
       "  th, td {\n",
       "    padding: 5px;\n",
       "  }\n",
       "  th {\n",
       "    text-align: left;\n",
       "  }\n",
       "</style><div class='table-result-container'><table class='table-result'><thead style='background-color: white'><tr><th>Name</th><th>Attendence</th><th>Subject_1</th><th>Subject_2</th><th>Total</th></tr></thead><tbody><tr><td>Virat Kholi</td><td>97</td><td>84</td><td>77</td><td>161</td></tr><tr><td>Sachin Tendulkar</td><td>65</td><td>null</td><td>65</td><td>65</td></tr><tr><td>Ms Dhoni</td><td>60</td><td>84</td><td>null</td><td>84</td></tr><tr><td>Rishab Pant</td><td>88</td><td>90</td><td>74</td><td>164</td></tr><tr><td>Suresh Raina</td><td>70</td><td>50</td><td>70</td><td>120</td></tr><tr><td>Ravindra Jadeja</td><td>50</td><td>null</td><td>null</td><td>0</td></tr></tbody></table></div>"
      ]
     },
     "metadata": {
      "application/vnd.databricks.v1+output": {
       "addedWidgets": {},
       "aggData": [],
       "aggError": "",
       "aggOverflow": false,
       "aggSchema": [],
       "aggSeriesLimitReached": false,
       "aggType": "",
       "arguments": {},
       "columnCustomDisplayInfos": {},
       "data": [
        [
         "Virat Kholi",
         97,
         "84",
         "77",
         "161"
        ],
        [
         "Sachin Tendulkar",
         65,
         null,
         "65",
         "65"
        ],
        [
         "Ms Dhoni",
         60,
         "84",
         null,
         "84"
        ],
        [
         "Rishab Pant",
         88,
         "90",
         "74",
         "164"
        ],
        [
         "Suresh Raina",
         70,
         "50",
         "70",
         "120"
        ],
        [
         "Ravindra Jadeja",
         50,
         null,
         null,
         "0"
        ]
       ],
       "datasetInfos": [],
       "dbfsResultPath": null,
       "isJsonSchema": true,
       "metadata": {},
       "overflow": false,
       "plotOptions": {
        "customPlotOptions": {},
        "displayType": "table",
        "pivotAggregation": null,
        "pivotColumns": null,
        "xColumns": null,
        "yColumns": null
       },
       "removedWidgets": [],
       "schema": [
        {
         "metadata": "{}",
         "name": "Name",
         "type": "\"string\""
        },
        {
         "metadata": "{}",
         "name": "Attendence",
         "type": "\"integer\""
        },
        {
         "metadata": "{}",
         "name": "Subject_1",
         "type": "\"string\""
        },
        {
         "metadata": "{}",
         "name": "Subject_2",
         "type": "\"string\""
        },
        {
         "metadata": "{}",
         "name": "Total",
         "type": "\"string\""
        }
       ],
       "type": "table"
      }
     },
     "output_type": "display_data"
    }
   ],
   "source": [
    "df.display()"
   ]
  },
  {
   "cell_type": "markdown",
   "metadata": {
    "application/vnd.databricks.v1+cell": {
     "cellMetadata": {
      "byteLimit": 2048000,
      "rowLimit": 10000
     },
     "inputWidgets": {},
     "nuid": "7c2c84bb-adaf-494b-9ce4-2cd1573005c4",
     "showTitle": false,
     "title": ""
    }
   },
   "source": [
    "#### *Fillna()*\n",
    "It is used to replace NULL/NONE values on all or selected multiple columns with either zero(0),empty string,space or any oither constant literal values."
   ]
  },
  {
   "cell_type": "code",
   "execution_count": 0,
   "metadata": {
    "application/vnd.databricks.v1+cell": {
     "cellMetadata": {
      "byteLimit": 2048000,
      "rowLimit": 10000
     },
     "inputWidgets": {},
     "nuid": "7c6427be-203d-40ec-a000-a4cfaeffeb3f",
     "showTitle": false,
     "title": ""
    }
   },
   "outputs": [
    {
     "output_type": "display_data",
     "data": {
      "text/html": [
       "<style scoped>\n",
       "  .table-result-container {\n",
       "    max-height: 300px;\n",
       "    overflow: auto;\n",
       "  }\n",
       "  table, th, td {\n",
       "    border: 1px solid black;\n",
       "    border-collapse: collapse;\n",
       "  }\n",
       "  th, td {\n",
       "    padding: 5px;\n",
       "  }\n",
       "  th {\n",
       "    text-align: left;\n",
       "  }\n",
       "</style><div class='table-result-container'><table class='table-result'><thead style='background-color: white'><tr><th>Name</th><th>Attendence</th><th>Subject_1</th><th>Subject_2</th><th>Total</th></tr></thead><tbody><tr><td>Virat Kholi</td><td>97</td><td>84</td><td>77</td><td>161</td></tr><tr><td>Sachin Tendulkar</td><td>65</td><td></td><td>65</td><td>65</td></tr><tr><td>Ms Dhoni</td><td>60</td><td>84</td><td></td><td>84</td></tr><tr><td>Rishab Pant</td><td>88</td><td>90</td><td>74</td><td>164</td></tr><tr><td>Suresh Raina</td><td>70</td><td>50</td><td>70</td><td>120</td></tr><tr><td>Ravindra Jadeja</td><td>50</td><td></td><td></td><td>0</td></tr></tbody></table></div>"
      ]
     },
     "metadata": {
      "application/vnd.databricks.v1+output": {
       "addedWidgets": {},
       "aggData": [],
       "aggError": "",
       "aggOverflow": false,
       "aggSchema": [],
       "aggSeriesLimitReached": false,
       "aggType": "",
       "arguments": {},
       "columnCustomDisplayInfos": {},
       "data": [
        [
         "Virat Kholi",
         97,
         "84",
         "77",
         "161"
        ],
        [
         "Sachin Tendulkar",
         65,
         "",
         "65",
         "65"
        ],
        [
         "Ms Dhoni",
         60,
         "84",
         "",
         "84"
        ],
        [
         "Rishab Pant",
         88,
         "90",
         "74",
         "164"
        ],
        [
         "Suresh Raina",
         70,
         "50",
         "70",
         "120"
        ],
        [
         "Ravindra Jadeja",
         50,
         "",
         "",
         "0"
        ]
       ],
       "datasetInfos": [],
       "dbfsResultPath": null,
       "isJsonSchema": true,
       "metadata": {},
       "overflow": false,
       "plotOptions": {
        "customPlotOptions": {},
        "displayType": "table",
        "pivotAggregation": null,
        "pivotColumns": null,
        "xColumns": null,
        "yColumns": null
       },
       "removedWidgets": [],
       "schema": [
        {
         "metadata": "{}",
         "name": "Name",
         "type": "\"string\""
        },
        {
         "metadata": "{}",
         "name": "Attendence",
         "type": "\"integer\""
        },
        {
         "metadata": "{}",
         "name": "Subject_1",
         "type": "\"string\""
        },
        {
         "metadata": "{}",
         "name": "Subject_2",
         "type": "\"string\""
        },
        {
         "metadata": "{}",
         "name": "Total",
         "type": "\"string\""
        }
       ],
       "type": "table"
      }
     },
     "output_type": "display_data"
    }
   ],
   "source": [
    "# Replacing NULL values with empty data\n",
    "df.fillna(\"\").display()\n"
   ]
  },
  {
   "cell_type": "code",
   "execution_count": 0,
   "metadata": {
    "application/vnd.databricks.v1+cell": {
     "cellMetadata": {
      "byteLimit": 2048000,
      "rowLimit": 10000
     },
     "inputWidgets": {},
     "nuid": "d82138e0-9ca0-4182-89e6-99a7c71ac0a3",
     "showTitle": false,
     "title": ""
    }
   },
   "outputs": [
    {
     "output_type": "display_data",
     "data": {
      "text/html": [
       "<style scoped>\n",
       "  .table-result-container {\n",
       "    max-height: 300px;\n",
       "    overflow: auto;\n",
       "  }\n",
       "  table, th, td {\n",
       "    border: 1px solid black;\n",
       "    border-collapse: collapse;\n",
       "  }\n",
       "  th, td {\n",
       "    padding: 5px;\n",
       "  }\n",
       "  th {\n",
       "    text-align: left;\n",
       "  }\n",
       "</style><div class='table-result-container'><table class='table-result'><thead style='background-color: white'><tr><th>Name</th><th>Attendence</th><th>Subject_1</th><th>Subject_2</th><th>Total</th></tr></thead><tbody><tr><td>Virat Kholi</td><td>97</td><td>84</td><td>77</td><td>161</td></tr><tr><td>Sachin Tendulkar</td><td>65</td><td>Absent</td><td>65</td><td>65</td></tr><tr><td>Ms Dhoni</td><td>60</td><td>84</td><td>Absent</td><td>84</td></tr><tr><td>Rishab Pant</td><td>88</td><td>90</td><td>74</td><td>164</td></tr><tr><td>Suresh Raina</td><td>70</td><td>50</td><td>70</td><td>120</td></tr><tr><td>Ravindra Jadeja</td><td>50</td><td>Absent</td><td>Absent</td><td>0</td></tr></tbody></table></div>"
      ]
     },
     "metadata": {
      "application/vnd.databricks.v1+output": {
       "addedWidgets": {},
       "aggData": [],
       "aggError": "",
       "aggOverflow": false,
       "aggSchema": [],
       "aggSeriesLimitReached": false,
       "aggType": "",
       "arguments": {},
       "columnCustomDisplayInfos": {},
       "data": [
        [
         "Virat Kholi",
         97,
         "84",
         "77",
         "161"
        ],
        [
         "Sachin Tendulkar",
         65,
         "Absent",
         "65",
         "65"
        ],
        [
         "Ms Dhoni",
         60,
         "84",
         "Absent",
         "84"
        ],
        [
         "Rishab Pant",
         88,
         "90",
         "74",
         "164"
        ],
        [
         "Suresh Raina",
         70,
         "50",
         "70",
         "120"
        ],
        [
         "Ravindra Jadeja",
         50,
         "Absent",
         "Absent",
         "0"
        ]
       ],
       "datasetInfos": [],
       "dbfsResultPath": null,
       "isJsonSchema": true,
       "metadata": {},
       "overflow": false,
       "plotOptions": {
        "customPlotOptions": {},
        "displayType": "table",
        "pivotAggregation": null,
        "pivotColumns": null,
        "xColumns": null,
        "yColumns": null
       },
       "removedWidgets": [],
       "schema": [
        {
         "metadata": "{}",
         "name": "Name",
         "type": "\"string\""
        },
        {
         "metadata": "{}",
         "name": "Attendence",
         "type": "\"integer\""
        },
        {
         "metadata": "{}",
         "name": "Subject_1",
         "type": "\"string\""
        },
        {
         "metadata": "{}",
         "name": "Subject_2",
         "type": "\"string\""
        },
        {
         "metadata": "{}",
         "name": "Total",
         "type": "\"string\""
        }
       ],
       "type": "table"
      }
     },
     "output_type": "display_data"
    }
   ],
   "source": [
    "# replacing NULL values with a string.\n",
    "df1=df.fillna(\"Absent\")\n",
    "df1.display()"
   ]
  },
  {
   "cell_type": "code",
   "execution_count": 0,
   "metadata": {
    "application/vnd.databricks.v1+cell": {
     "cellMetadata": {
      "byteLimit": 2048000,
      "rowLimit": 10000
     },
     "inputWidgets": {},
     "nuid": "cc103d28-b34b-42a9-a99c-896f69adc9f3",
     "showTitle": false,
     "title": ""
    }
   },
   "outputs": [
    {
     "output_type": "display_data",
     "data": {
      "text/html": [
       "<style scoped>\n",
       "  .table-result-container {\n",
       "    max-height: 300px;\n",
       "    overflow: auto;\n",
       "  }\n",
       "  table, th, td {\n",
       "    border: 1px solid black;\n",
       "    border-collapse: collapse;\n",
       "  }\n",
       "  th, td {\n",
       "    padding: 5px;\n",
       "  }\n",
       "  th {\n",
       "    text-align: left;\n",
       "  }\n",
       "</style><div class='table-result-container'><table class='table-result'><thead style='background-color: white'><tr><th>Name</th><th>Attendence</th><th>Subject_1</th><th>Subject_2</th><th>Total</th></tr></thead><tbody><tr><td>Virat Kholi</td><td>97</td><td>84</td><td>77</td><td>161</td></tr><tr><td>Sachin Tendulkar</td><td>65</td><td>Absent</td><td>65</td><td>65</td></tr><tr><td>Ms Dhoni</td><td>60</td><td>84</td><td>null</td><td>84</td></tr><tr><td>Rishab Pant</td><td>88</td><td>90</td><td>74</td><td>164</td></tr><tr><td>Suresh Raina</td><td>70</td><td>50</td><td>70</td><td>120</td></tr><tr><td>Ravindra Jadeja</td><td>50</td><td>Absent</td><td>null</td><td>0</td></tr></tbody></table></div>"
      ]
     },
     "metadata": {
      "application/vnd.databricks.v1+output": {
       "addedWidgets": {},
       "aggData": [],
       "aggError": "",
       "aggOverflow": false,
       "aggSchema": [],
       "aggSeriesLimitReached": false,
       "aggType": "",
       "arguments": {},
       "columnCustomDisplayInfos": {},
       "data": [
        [
         "Virat Kholi",
         97,
         "84",
         "77",
         "161"
        ],
        [
         "Sachin Tendulkar",
         65,
         "Absent",
         "65",
         "65"
        ],
        [
         "Ms Dhoni",
         60,
         "84",
         null,
         "84"
        ],
        [
         "Rishab Pant",
         88,
         "90",
         "74",
         "164"
        ],
        [
         "Suresh Raina",
         70,
         "50",
         "70",
         "120"
        ],
        [
         "Ravindra Jadeja",
         50,
         "Absent",
         null,
         "0"
        ]
       ],
       "datasetInfos": [],
       "dbfsResultPath": null,
       "isJsonSchema": true,
       "metadata": {},
       "overflow": false,
       "plotOptions": {
        "customPlotOptions": {},
        "displayType": "table",
        "pivotAggregation": null,
        "pivotColumns": null,
        "xColumns": null,
        "yColumns": null
       },
       "removedWidgets": [],
       "schema": [
        {
         "metadata": "{}",
         "name": "Name",
         "type": "\"string\""
        },
        {
         "metadata": "{}",
         "name": "Attendence",
         "type": "\"integer\""
        },
        {
         "metadata": "{}",
         "name": "Subject_1",
         "type": "\"string\""
        },
        {
         "metadata": "{}",
         "name": "Subject_2",
         "type": "\"string\""
        },
        {
         "metadata": "{}",
         "name": "Total",
         "type": "\"string\""
        }
       ],
       "type": "table"
      }
     },
     "output_type": "display_data"
    },
    {
     "output_type": "display_data",
     "data": {
      "text/html": [
       "<style scoped>\n",
       "  .table-result-container {\n",
       "    max-height: 300px;\n",
       "    overflow: auto;\n",
       "  }\n",
       "  table, th, td {\n",
       "    border: 1px solid black;\n",
       "    border-collapse: collapse;\n",
       "  }\n",
       "  th, td {\n",
       "    padding: 5px;\n",
       "  }\n",
       "  th {\n",
       "    text-align: left;\n",
       "  }\n",
       "</style><div class='table-result-container'><table class='table-result'><thead style='background-color: white'><tr><th>Name</th><th>Attendence</th><th>Subject_1</th><th>Subject_2</th><th>Total</th></tr></thead><tbody><tr><td>Virat Kholi</td><td>97</td><td>84</td><td>77</td><td>161</td></tr><tr><td>Sachin Tendulkar</td><td>65</td><td>N/A</td><td>65</td><td>65</td></tr><tr><td>Ms Dhoni</td><td>60</td><td>84</td><td>N/A</td><td>84</td></tr><tr><td>Rishab Pant</td><td>88</td><td>90</td><td>74</td><td>164</td></tr><tr><td>Suresh Raina</td><td>70</td><td>50</td><td>70</td><td>120</td></tr><tr><td>Ravindra Jadeja</td><td>50</td><td>N/A</td><td>N/A</td><td>0</td></tr></tbody></table></div>"
      ]
     },
     "metadata": {
      "application/vnd.databricks.v1+output": {
       "addedWidgets": {},
       "aggData": [],
       "aggError": "",
       "aggOverflow": false,
       "aggSchema": [],
       "aggSeriesLimitReached": false,
       "aggType": "",
       "arguments": {},
       "columnCustomDisplayInfos": {},
       "data": [
        [
         "Virat Kholi",
         97,
         "84",
         "77",
         "161"
        ],
        [
         "Sachin Tendulkar",
         65,
         "N/A",
         "65",
         "65"
        ],
        [
         "Ms Dhoni",
         60,
         "84",
         "N/A",
         "84"
        ],
        [
         "Rishab Pant",
         88,
         "90",
         "74",
         "164"
        ],
        [
         "Suresh Raina",
         70,
         "50",
         "70",
         "120"
        ],
        [
         "Ravindra Jadeja",
         50,
         "N/A",
         "N/A",
         "0"
        ]
       ],
       "datasetInfos": [],
       "dbfsResultPath": null,
       "isJsonSchema": true,
       "metadata": {},
       "overflow": false,
       "plotOptions": {
        "customPlotOptions": {},
        "displayType": "table",
        "pivotAggregation": null,
        "pivotColumns": null,
        "xColumns": null,
        "yColumns": null
       },
       "removedWidgets": [],
       "schema": [
        {
         "metadata": "{}",
         "name": "Name",
         "type": "\"string\""
        },
        {
         "metadata": "{}",
         "name": "Attendence",
         "type": "\"integer\""
        },
        {
         "metadata": "{}",
         "name": "Subject_1",
         "type": "\"string\""
        },
        {
         "metadata": "{}",
         "name": "Subject_2",
         "type": "\"string\""
        },
        {
         "metadata": "{}",
         "name": "Total",
         "type": "\"string\""
        }
       ],
       "type": "table"
      }
     },
     "output_type": "display_data"
    }
   ],
   "source": [
    "# replacing Null values on a specific column.We can also mention more than one column.\n",
    "\n",
    "df.na.fill(\"Absent\", [\"Subject_1\"]).display()\n",
    "df.fillna(\"N/A\", [\"Subject_1\", \"subject_2\"]).display()"
   ]
  },
  {
   "cell_type": "code",
   "execution_count": 0,
   "metadata": {
    "application/vnd.databricks.v1+cell": {
     "cellMetadata": {
      "byteLimit": 2048000,
      "rowLimit": 10000
     },
     "inputWidgets": {},
     "nuid": "cd1460bb-3ce1-4380-9ae0-334fcd8c7048",
     "showTitle": false,
     "title": ""
    }
   },
   "outputs": [
    {
     "output_type": "display_data",
     "data": {
      "text/html": [
       "<style scoped>\n",
       "  .table-result-container {\n",
       "    max-height: 300px;\n",
       "    overflow: auto;\n",
       "  }\n",
       "  table, th, td {\n",
       "    border: 1px solid black;\n",
       "    border-collapse: collapse;\n",
       "  }\n",
       "  th, td {\n",
       "    padding: 5px;\n",
       "  }\n",
       "  th {\n",
       "    text-align: left;\n",
       "  }\n",
       "</style><div class='table-result-container'><table class='table-result'><thead style='background-color: white'><tr><th>Name</th><th>Attendence</th><th>Subject_1</th><th>Subject_2</th><th>Total</th></tr></thead><tbody><tr><td>Virat Kholi</td><td>97</td><td>84</td><td>77</td><td>161</td></tr><tr><td>Sachin Tendulkar</td><td>65</td><td>null</td><td>65</td><td>65</td></tr><tr><td>Ms Dhoni</td><td>60</td><td>84</td><td>null</td><td>84</td></tr><tr><td>Rishab Pant</td><td>88</td><td>90</td><td>74</td><td>164</td></tr><tr><td>Suresh Raina</td><td>70</td><td>50</td><td>70</td><td>120</td></tr><tr><td>Ravindra Jadeja</td><td>50</td><td>null</td><td>null</td><td>0</td></tr></tbody></table></div>"
      ]
     },
     "metadata": {
      "application/vnd.databricks.v1+output": {
       "addedWidgets": {},
       "aggData": [],
       "aggError": "",
       "aggOverflow": false,
       "aggSchema": [],
       "aggSeriesLimitReached": false,
       "aggType": "",
       "arguments": {},
       "columnCustomDisplayInfos": {},
       "data": [
        [
         "Virat Kholi",
         97,
         "84",
         "77",
         "161"
        ],
        [
         "Sachin Tendulkar",
         65,
         null,
         "65",
         "65"
        ],
        [
         "Ms Dhoni",
         60,
         "84",
         null,
         "84"
        ],
        [
         "Rishab Pant",
         88,
         "90",
         "74",
         "164"
        ],
        [
         "Suresh Raina",
         70,
         "50",
         "70",
         "120"
        ],
        [
         "Ravindra Jadeja",
         50,
         null,
         null,
         "0"
        ]
       ],
       "datasetInfos": [],
       "dbfsResultPath": null,
       "isJsonSchema": true,
       "metadata": {},
       "overflow": false,
       "plotOptions": {
        "customPlotOptions": {},
        "displayType": "table",
        "pivotAggregation": null,
        "pivotColumns": null,
        "xColumns": null,
        "yColumns": null
       },
       "removedWidgets": [],
       "schema": [
        {
         "metadata": "{}",
         "name": "Name",
         "type": "\"string\""
        },
        {
         "metadata": "{}",
         "name": "Attendence",
         "type": "\"integer\""
        },
        {
         "metadata": "{}",
         "name": "Subject_1",
         "type": "\"string\""
        },
        {
         "metadata": "{}",
         "name": "Subject_2",
         "type": "\"string\""
        },
        {
         "metadata": "{}",
         "name": "Total",
         "type": "\"string\""
        }
       ],
       "type": "table"
      }
     },
     "output_type": "display_data"
    }
   ],
   "source": [
    "df.display()"
   ]
  },
  {
   "cell_type": "markdown",
   "metadata": {
    "application/vnd.databricks.v1+cell": {
     "cellMetadata": {
      "byteLimit": 2048000,
      "rowLimit": 10000
     },
     "inputWidgets": {},
     "nuid": "b126fde5-b8ec-4e1c-bbab-f13c2fa98d1e",
     "showTitle": false,
     "title": ""
    }
   },
   "source": [
    "#### *Dropna()*\n",
    "For cleaning the Dataframe we are using dropna() function. This function is used to drop the NULL values from the Dataframe on the basis of a given parameter."
   ]
  },
  {
   "cell_type": "code",
   "execution_count": 0,
   "metadata": {
    "application/vnd.databricks.v1+cell": {
     "cellMetadata": {
      "byteLimit": 2048000,
      "rowLimit": 10000
     },
     "inputWidgets": {},
     "nuid": "d5c35276-df98-4d2a-ab8f-edbb16efb4d3",
     "showTitle": false,
     "title": ""
    }
   },
   "outputs": [
    {
     "output_type": "display_data",
     "data": {
      "text/html": [
       "<style scoped>\n",
       "  .table-result-container {\n",
       "    max-height: 300px;\n",
       "    overflow: auto;\n",
       "  }\n",
       "  table, th, td {\n",
       "    border: 1px solid black;\n",
       "    border-collapse: collapse;\n",
       "  }\n",
       "  th, td {\n",
       "    padding: 5px;\n",
       "  }\n",
       "  th {\n",
       "    text-align: left;\n",
       "  }\n",
       "</style><div class='table-result-container'><table class='table-result'><thead style='background-color: white'><tr><th>Name</th><th>Attendence</th><th>Subject_1</th><th>Subject_2</th><th>Total</th></tr></thead><tbody><tr><td>Virat Kholi</td><td>97</td><td>84</td><td>77</td><td>161</td></tr><tr><td>Rishab Pant</td><td>88</td><td>90</td><td>74</td><td>164</td></tr><tr><td>Suresh Raina</td><td>70</td><td>50</td><td>70</td><td>120</td></tr></tbody></table></div>"
      ]
     },
     "metadata": {
      "application/vnd.databricks.v1+output": {
       "addedWidgets": {},
       "aggData": [],
       "aggError": "",
       "aggOverflow": false,
       "aggSchema": [],
       "aggSeriesLimitReached": false,
       "aggType": "",
       "arguments": {},
       "columnCustomDisplayInfos": {},
       "data": [
        [
         "Virat Kholi",
         97,
         "84",
         "77",
         "161"
        ],
        [
         "Rishab Pant",
         88,
         "90",
         "74",
         "164"
        ],
        [
         "Suresh Raina",
         70,
         "50",
         "70",
         "120"
        ]
       ],
       "datasetInfos": [],
       "dbfsResultPath": null,
       "isJsonSchema": true,
       "metadata": {},
       "overflow": false,
       "plotOptions": {
        "customPlotOptions": {},
        "displayType": "table",
        "pivotAggregation": null,
        "pivotColumns": null,
        "xColumns": null,
        "yColumns": null
       },
       "removedWidgets": [],
       "schema": [
        {
         "metadata": "{}",
         "name": "Name",
         "type": "\"string\""
        },
        {
         "metadata": "{}",
         "name": "Attendence",
         "type": "\"integer\""
        },
        {
         "metadata": "{}",
         "name": "Subject_1",
         "type": "\"string\""
        },
        {
         "metadata": "{}",
         "name": "Subject_2",
         "type": "\"string\""
        },
        {
         "metadata": "{}",
         "name": "Total",
         "type": "\"string\""
        }
       ],
       "type": "table"
      }
     },
     "output_type": "display_data"
    }
   ],
   "source": [
    "# It will remove the record if even one Null value is present in the row.\n",
    "\n",
    "df.dropna(how=\"any\").display()"
   ]
  },
  {
   "cell_type": "code",
   "execution_count": 0,
   "metadata": {
    "application/vnd.databricks.v1+cell": {
     "cellMetadata": {
      "byteLimit": 2048000,
      "rowLimit": 10000
     },
     "inputWidgets": {},
     "nuid": "dae1b5af-1ce5-4162-b47c-9fbd202e7afd",
     "showTitle": false,
     "title": ""
    }
   },
   "outputs": [
    {
     "output_type": "display_data",
     "data": {
      "text/html": [
       "<style scoped>\n",
       "  .table-result-container {\n",
       "    max-height: 300px;\n",
       "    overflow: auto;\n",
       "  }\n",
       "  table, th, td {\n",
       "    border: 1px solid black;\n",
       "    border-collapse: collapse;\n",
       "  }\n",
       "  th, td {\n",
       "    padding: 5px;\n",
       "  }\n",
       "  th {\n",
       "    text-align: left;\n",
       "  }\n",
       "</style><div class='table-result-container'><table class='table-result'><thead style='background-color: white'><tr><th>Name</th><th>Attendence</th><th>Subject_1</th><th>Subject_2</th><th>Total</th></tr></thead><tbody><tr><td>Virat Kholi</td><td>97</td><td>84</td><td>77</td><td>161</td></tr><tr><td>Sachin Tendulkar</td><td>65</td><td>null</td><td>65</td><td>65</td></tr><tr><td>Ms Dhoni</td><td>60</td><td>84</td><td>null</td><td>84</td></tr><tr><td>Rishab Pant</td><td>88</td><td>90</td><td>74</td><td>164</td></tr><tr><td>Suresh Raina</td><td>70</td><td>50</td><td>70</td><td>120</td></tr><tr><td>Ravindra Jadeja</td><td>50</td><td>null</td><td>null</td><td>0</td></tr></tbody></table></div>"
      ]
     },
     "metadata": {
      "application/vnd.databricks.v1+output": {
       "addedWidgets": {},
       "aggData": [],
       "aggError": "",
       "aggOverflow": false,
       "aggSchema": [],
       "aggSeriesLimitReached": false,
       "aggType": "",
       "arguments": {},
       "columnCustomDisplayInfos": {},
       "data": [
        [
         "Virat Kholi",
         97,
         "84",
         "77",
         "161"
        ],
        [
         "Sachin Tendulkar",
         65,
         null,
         "65",
         "65"
        ],
        [
         "Ms Dhoni",
         60,
         "84",
         null,
         "84"
        ],
        [
         "Rishab Pant",
         88,
         "90",
         "74",
         "164"
        ],
        [
         "Suresh Raina",
         70,
         "50",
         "70",
         "120"
        ],
        [
         "Ravindra Jadeja",
         50,
         null,
         null,
         "0"
        ]
       ],
       "datasetInfos": [],
       "dbfsResultPath": null,
       "isJsonSchema": true,
       "metadata": {},
       "overflow": false,
       "plotOptions": {
        "customPlotOptions": {},
        "displayType": "table",
        "pivotAggregation": null,
        "pivotColumns": null,
        "xColumns": null,
        "yColumns": null
       },
       "removedWidgets": [],
       "schema": [
        {
         "metadata": "{}",
         "name": "Name",
         "type": "\"string\""
        },
        {
         "metadata": "{}",
         "name": "Attendence",
         "type": "\"integer\""
        },
        {
         "metadata": "{}",
         "name": "Subject_1",
         "type": "\"string\""
        },
        {
         "metadata": "{}",
         "name": "Subject_2",
         "type": "\"string\""
        },
        {
         "metadata": "{}",
         "name": "Total",
         "type": "\"string\""
        }
       ],
       "type": "table"
      }
     },
     "output_type": "display_data"
    }
   ],
   "source": [
    "# It will remove the data if all the data is Null in the row. Here we don't have any row will all NulL values so no row is affected. \n",
    "df.dropna(how='all').display()"
   ]
  },
  {
   "cell_type": "code",
   "execution_count": 0,
   "metadata": {
    "application/vnd.databricks.v1+cell": {
     "cellMetadata": {
      "byteLimit": 2048000,
      "rowLimit": 10000
     },
     "inputWidgets": {},
     "nuid": "45302844-dbff-4be4-b2e5-dde706e5785f",
     "showTitle": false,
     "title": ""
    }
   },
   "outputs": [
    {
     "output_type": "display_data",
     "data": {
      "text/html": [
       "<style scoped>\n",
       "  .table-result-container {\n",
       "    max-height: 300px;\n",
       "    overflow: auto;\n",
       "  }\n",
       "  table, th, td {\n",
       "    border: 1px solid black;\n",
       "    border-collapse: collapse;\n",
       "  }\n",
       "  th, td {\n",
       "    padding: 5px;\n",
       "  }\n",
       "  th {\n",
       "    text-align: left;\n",
       "  }\n",
       "</style><div class='table-result-container'><table class='table-result'><thead style='background-color: white'><tr><th>Name</th><th>Attendence</th><th>Subject_1</th><th>Subject_2</th><th>Total</th></tr></thead><tbody><tr><td>Virat Kholi</td><td>97</td><td>84</td><td>77</td><td>161</td></tr><tr><td>Ms Dhoni</td><td>60</td><td>84</td><td>null</td><td>84</td></tr><tr><td>Rishab Pant</td><td>88</td><td>90</td><td>74</td><td>164</td></tr><tr><td>Suresh Raina</td><td>70</td><td>50</td><td>70</td><td>120</td></tr></tbody></table></div>"
      ]
     },
     "metadata": {
      "application/vnd.databricks.v1+output": {
       "addedWidgets": {},
       "aggData": [],
       "aggError": "",
       "aggOverflow": false,
       "aggSchema": [],
       "aggSeriesLimitReached": false,
       "aggType": "",
       "arguments": {},
       "columnCustomDisplayInfos": {},
       "data": [
        [
         "Virat Kholi",
         97,
         "84",
         "77",
         "161"
        ],
        [
         "Ms Dhoni",
         60,
         "84",
         null,
         "84"
        ],
        [
         "Rishab Pant",
         88,
         "90",
         "74",
         "164"
        ],
        [
         "Suresh Raina",
         70,
         "50",
         "70",
         "120"
        ]
       ],
       "datasetInfos": [],
       "dbfsResultPath": null,
       "isJsonSchema": true,
       "metadata": {},
       "overflow": false,
       "plotOptions": {
        "customPlotOptions": {},
        "displayType": "table",
        "pivotAggregation": null,
        "pivotColumns": null,
        "xColumns": null,
        "yColumns": null
       },
       "removedWidgets": [],
       "schema": [
        {
         "metadata": "{}",
         "name": "Name",
         "type": "\"string\""
        },
        {
         "metadata": "{}",
         "name": "Attendence",
         "type": "\"integer\""
        },
        {
         "metadata": "{}",
         "name": "Subject_1",
         "type": "\"string\""
        },
        {
         "metadata": "{}",
         "name": "Subject_2",
         "type": "\"string\""
        },
        {
         "metadata": "{}",
         "name": "Total",
         "type": "\"string\""
        }
       ],
       "type": "table"
      }
     },
     "output_type": "display_data"
    },
    {
     "output_type": "display_data",
     "data": {
      "text/html": [
       "<style scoped>\n",
       "  .table-result-container {\n",
       "    max-height: 300px;\n",
       "    overflow: auto;\n",
       "  }\n",
       "  table, th, td {\n",
       "    border: 1px solid black;\n",
       "    border-collapse: collapse;\n",
       "  }\n",
       "  th, td {\n",
       "    padding: 5px;\n",
       "  }\n",
       "  th {\n",
       "    text-align: left;\n",
       "  }\n",
       "</style><div class='table-result-container'><table class='table-result'><thead style='background-color: white'><tr><th>Name</th><th>Attendence</th><th>Subject_1</th><th>Subject_2</th><th>Total</th></tr></thead><tbody><tr><td>Virat Kholi</td><td>97</td><td>84</td><td>77</td><td>161</td></tr><tr><td>Rishab Pant</td><td>88</td><td>90</td><td>74</td><td>164</td></tr><tr><td>Suresh Raina</td><td>70</td><td>50</td><td>70</td><td>120</td></tr></tbody></table></div>"
      ]
     },
     "metadata": {
      "application/vnd.databricks.v1+output": {
       "addedWidgets": {},
       "aggData": [],
       "aggError": "",
       "aggOverflow": false,
       "aggSchema": [],
       "aggSeriesLimitReached": false,
       "aggType": "",
       "arguments": {},
       "columnCustomDisplayInfos": {},
       "data": [
        [
         "Virat Kholi",
         97,
         "84",
         "77",
         "161"
        ],
        [
         "Rishab Pant",
         88,
         "90",
         "74",
         "164"
        ],
        [
         "Suresh Raina",
         70,
         "50",
         "70",
         "120"
        ]
       ],
       "datasetInfos": [],
       "dbfsResultPath": null,
       "isJsonSchema": true,
       "metadata": {},
       "overflow": false,
       "plotOptions": {
        "customPlotOptions": {},
        "displayType": "table",
        "pivotAggregation": null,
        "pivotColumns": null,
        "xColumns": null,
        "yColumns": null
       },
       "removedWidgets": [],
       "schema": [
        {
         "metadata": "{}",
         "name": "Name",
         "type": "\"string\""
        },
        {
         "metadata": "{}",
         "name": "Attendence",
         "type": "\"integer\""
        },
        {
         "metadata": "{}",
         "name": "Subject_1",
         "type": "\"string\""
        },
        {
         "metadata": "{}",
         "name": "Subject_2",
         "type": "\"string\""
        },
        {
         "metadata": "{}",
         "name": "Total",
         "type": "\"string\""
        }
       ],
       "type": "table"
      }
     },
     "output_type": "display_data"
    }
   ],
   "source": [
    "# This will remove the row wherever the Null values are present in the mentioned column. We can also specify more than one column name.\n",
    "df.dropna(how=\"any\", subset=[\"subject_1\"]).display()\n",
    "df.dropna(how=\"any\", subset=[\"subject_1\", \"subject_2\"]).display()"
   ]
  },
  {
   "cell_type": "markdown",
   "metadata": {
    "application/vnd.databricks.v1+cell": {
     "cellMetadata": {
      "byteLimit": 2048000,
      "rowLimit": 10000
     },
     "inputWidgets": {},
     "nuid": "1d397990-fda7-454d-a04e-0d265c28c17e",
     "showTitle": false,
     "title": ""
    }
   },
   "source": [
    "#### *thresh => It will check the row whether it has equal to or more than 2 not null values present in the row if not it will remove the row.*"
   ]
  },
  {
   "cell_type": "code",
   "execution_count": 0,
   "metadata": {
    "application/vnd.databricks.v1+cell": {
     "cellMetadata": {
      "byteLimit": 2048000,
      "rowLimit": 10000
     },
     "inputWidgets": {},
     "nuid": "074dd1c9-aded-4480-8a77-9dd35ba8fd95",
     "showTitle": false,
     "title": ""
    }
   },
   "outputs": [
    {
     "output_type": "display_data",
     "data": {
      "text/html": [
       "<style scoped>\n",
       "  .table-result-container {\n",
       "    max-height: 300px;\n",
       "    overflow: auto;\n",
       "  }\n",
       "  table, th, td {\n",
       "    border: 1px solid black;\n",
       "    border-collapse: collapse;\n",
       "  }\n",
       "  th, td {\n",
       "    padding: 5px;\n",
       "  }\n",
       "  th {\n",
       "    text-align: left;\n",
       "  }\n",
       "</style><div class='table-result-container'><table class='table-result'><thead style='background-color: white'><tr><th>Name</th><th>Attendence</th><th>Subject_1</th><th>Subject_2</th><th>Total</th></tr></thead><tbody><tr><td>Virat Kholi</td><td>97</td><td>84</td><td>77</td><td>161</td></tr><tr><td>Sachin Tendulkar</td><td>65</td><td>null</td><td>65</td><td>65</td></tr><tr><td>Ms Dhoni</td><td>60</td><td>84</td><td>null</td><td>84</td></tr><tr><td>Rishab Pant</td><td>88</td><td>90</td><td>74</td><td>164</td></tr><tr><td>Suresh Raina</td><td>70</td><td>50</td><td>70</td><td>120</td></tr><tr><td>Ravindra Jadeja</td><td>50</td><td>null</td><td>null</td><td>0</td></tr></tbody></table></div>"
      ]
     },
     "metadata": {
      "application/vnd.databricks.v1+output": {
       "addedWidgets": {},
       "aggData": [],
       "aggError": "",
       "aggOverflow": false,
       "aggSchema": [],
       "aggSeriesLimitReached": false,
       "aggType": "",
       "arguments": {},
       "columnCustomDisplayInfos": {},
       "data": [
        [
         "Virat Kholi",
         97,
         "84",
         "77",
         "161"
        ],
        [
         "Sachin Tendulkar",
         65,
         null,
         "65",
         "65"
        ],
        [
         "Ms Dhoni",
         60,
         "84",
         null,
         "84"
        ],
        [
         "Rishab Pant",
         88,
         "90",
         "74",
         "164"
        ],
        [
         "Suresh Raina",
         70,
         "50",
         "70",
         "120"
        ],
        [
         "Ravindra Jadeja",
         50,
         null,
         null,
         "0"
        ]
       ],
       "datasetInfos": [],
       "dbfsResultPath": null,
       "isJsonSchema": true,
       "metadata": {},
       "overflow": false,
       "plotOptions": {
        "customPlotOptions": {},
        "displayType": "table",
        "pivotAggregation": null,
        "pivotColumns": null,
        "xColumns": null,
        "yColumns": null
       },
       "removedWidgets": [],
       "schema": [
        {
         "metadata": "{}",
         "name": "Name",
         "type": "\"string\""
        },
        {
         "metadata": "{}",
         "name": "Attendence",
         "type": "\"integer\""
        },
        {
         "metadata": "{}",
         "name": "Subject_1",
         "type": "\"string\""
        },
        {
         "metadata": "{}",
         "name": "Subject_2",
         "type": "\"string\""
        },
        {
         "metadata": "{}",
         "name": "Total",
         "type": "\"string\""
        }
       ],
       "type": "table"
      }
     },
     "output_type": "display_data"
    },
    {
     "output_type": "display_data",
     "data": {
      "text/html": [
       "<style scoped>\n",
       "  .table-result-container {\n",
       "    max-height: 300px;\n",
       "    overflow: auto;\n",
       "  }\n",
       "  table, th, td {\n",
       "    border: 1px solid black;\n",
       "    border-collapse: collapse;\n",
       "  }\n",
       "  th, td {\n",
       "    padding: 5px;\n",
       "  }\n",
       "  th {\n",
       "    text-align: left;\n",
       "  }\n",
       "</style><div class='table-result-container'><table class='table-result'><thead style='background-color: white'><tr><th>Name</th><th>Attendence</th><th>Subject_1</th><th>Subject_2</th><th>Total</th></tr></thead><tbody><tr><td>Virat Kholi</td><td>97</td><td>84</td><td>77</td><td>161</td></tr><tr><td>Sachin Tendulkar</td><td>65</td><td>null</td><td>65</td><td>65</td></tr><tr><td>Ms Dhoni</td><td>60</td><td>84</td><td>null</td><td>84</td></tr><tr><td>Rishab Pant</td><td>88</td><td>90</td><td>74</td><td>164</td></tr><tr><td>Suresh Raina</td><td>70</td><td>50</td><td>70</td><td>120</td></tr></tbody></table></div>"
      ]
     },
     "metadata": {
      "application/vnd.databricks.v1+output": {
       "addedWidgets": {},
       "aggData": [],
       "aggError": "",
       "aggOverflow": false,
       "aggSchema": [],
       "aggSeriesLimitReached": false,
       "aggType": "",
       "arguments": {},
       "columnCustomDisplayInfos": {},
       "data": [
        [
         "Virat Kholi",
         97,
         "84",
         "77",
         "161"
        ],
        [
         "Sachin Tendulkar",
         65,
         null,
         "65",
         "65"
        ],
        [
         "Ms Dhoni",
         60,
         "84",
         null,
         "84"
        ],
        [
         "Rishab Pant",
         88,
         "90",
         "74",
         "164"
        ],
        [
         "Suresh Raina",
         70,
         "50",
         "70",
         "120"
        ]
       ],
       "datasetInfos": [],
       "dbfsResultPath": null,
       "isJsonSchema": true,
       "metadata": {},
       "overflow": false,
       "plotOptions": {
        "customPlotOptions": {},
        "displayType": "table",
        "pivotAggregation": null,
        "pivotColumns": null,
        "xColumns": null,
        "yColumns": null
       },
       "removedWidgets": [],
       "schema": [
        {
         "metadata": "{}",
         "name": "Name",
         "type": "\"string\""
        },
        {
         "metadata": "{}",
         "name": "Attendence",
         "type": "\"integer\""
        },
        {
         "metadata": "{}",
         "name": "Subject_1",
         "type": "\"string\""
        },
        {
         "metadata": "{}",
         "name": "Subject_2",
         "type": "\"string\""
        },
        {
         "metadata": "{}",
         "name": "Total",
         "type": "\"string\""
        }
       ],
       "type": "table"
      }
     },
     "output_type": "display_data"
    }
   ],
   "source": [
    "# Using thresh.\n",
    "df.dropna(how=\"any\", thresh=3).display()\n",
    "df.dropna(how=\"any\", thresh=4).display()"
   ]
  }
 ],
 "metadata": {
  "application/vnd.databricks.v1+notebook": {
   "dashboards": [],
   "language": "python",
   "notebookMetadata": {
    "pythonIndentUnit": 2
   },
   "notebookName": "drop and fill",
   "widgets": {}
  }
 },
 "nbformat": 4,
 "nbformat_minor": 0
}
